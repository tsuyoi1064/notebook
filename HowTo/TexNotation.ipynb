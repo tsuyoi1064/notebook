{
 "cells": [
  {
   "cell_type": "markdown",
   "id": "cfbbe73b-9616-46fb-a0eb-040d05804f46",
   "metadata": {},
   "source": [
    "# Tex記法による数式の記述    "
   ]
  },
  {
   "cell_type": "markdown",
   "id": "4186e068-4268-4647-8da2-2ca42b7abd33",
   "metadata": {},
   "source": [
    "```\n",
    "$y = x + 1$\n",
    "$$y = x + 1$$\n",
    "```"
   ]
  },
  {
   "cell_type": "markdown",
   "id": "13b8fc09-7fe0-444d-89bc-644fb78b76ee",
   "metadata": {},
   "source": [
    "$y = x + 1$\n",
    "$$y = x + 1$$"
   ]
  },
  {
   "cell_type": "markdown",
   "id": "1b9bd789-18ef-46d9-8e73-5b01f97492d8",
   "metadata": {},
   "source": [
    "\n",
    "---\n",
    "\n",
    "```\n",
    "$$y=2x^2+3x-1$$\n",
    "```"
   ]
  },
  {
   "cell_type": "markdown",
   "id": "45b02ec7-fdba-48a1-b3b0-1f45478ec4e2",
   "metadata": {},
   "source": [
    "$$y=2x^2+3x-1$$"
   ]
  },
  {
   "cell_type": "markdown",
   "id": "c2093b2c-df56-4e87-b900-fa8ce04c1033",
   "metadata": {},
   "source": [
    "\n",
    "---\n",
    "\n",
    "```\n",
    "$$\\sqrt[a]{x}$$\n",
    "$$\\frac{1}{x}$$\n",
    "$$\\sin  \\cos  \\tan  \\pi  \\theta  \\log  \\log_a  \\ln$$\n",
    "$$\\sum_{n=0}^{a}$$\n",
    "$$\\int_{b}^{a}x$$\n",
    "```"
   ]
  },
  {
   "cell_type": "markdown",
   "id": "d38d1e51-5966-4fe6-9ba7-05b61e29ebb1",
   "metadata": {},
   "source": [
    "$$\\sqrt[a]{x}$$\n",
    "$$\\frac{1}{x}$$\n",
    "$$\\sin  \\cos  \\tan  \\pi  \\theta  \\log  \\log_a  \\ln$$\n",
    "$$\\sum_{n=0}^{a}$$\n",
    "$$\\int_{b}^{a}x$$"
   ]
  },
  {
   "cell_type": "markdown",
   "id": "75a3a039-15a6-4af1-9d87-0530a3b81fd5",
   "metadata": {},
   "source": [
    "\n",
    "---\n",
    "\n",
    "```\n",
    "$$\\begin{matrix}\n",
    "0 & 0 & 1 \\\\ 0 & 1 & 0 \\\\ 1 & 0 & 0\n",
    "\\end{matrix}$$\n",
    "```\n"
   ]
  },
  {
   "cell_type": "markdown",
   "id": "2df9951c-576f-4650-8a48-91977b7ee4fb",
   "metadata": {},
   "source": [
    "$$\\begin{matrix}\n",
    "0 & 0 & 1 \\\\ 0 & 1 & 0 \\\\ 1 & 0 & 0\n",
    "\\end{matrix}$$"
   ]
  },
  {
   "cell_type": "markdown",
   "id": "294d4600-95f7-4ae8-9a59-959800d811ab",
   "metadata": {},
   "source": [
    "\n",
    "---\n",
    "\n",
    "```\n",
    "$$\n",
    "    y = \\frac{2}{3}\n",
    "$$\n",
    "```\n"
   ]
  },
  {
   "cell_type": "markdown",
   "id": "95fe760d-80e0-4b53-9ecf-a344c6314a04",
   "metadata": {},
   "source": [
    "$$\n",
    "    y = \\frac{2}{3}\n",
    "$$"
   ]
  },
  {
   "cell_type": "markdown",
   "id": "d9bdb8b6-2edd-41ae-a79d-b1b09f117145",
   "metadata": {},
   "source": [
    "\n",
    "---\n",
    "\n",
    "```\n",
    "$$\n",
    "    \\frac{d}{d x} x^2 = 2x \\\\\n",
    "    \\frac{\\partial}{\\partial x} x^2 + a = 2x\n",
    "$$\n",
    "```\n"
   ]
  },
  {
   "cell_type": "markdown",
   "id": "437338eb-6b87-41dc-a67f-f8e74c8c5025",
   "metadata": {},
   "source": [
    "$$\n",
    "    \\frac{d}{d x} x^2 = 2x \\\\\n",
    "    \\frac{\\partial}{\\partial x} x^2 + a = 2x\n",
    "$$\n"
   ]
  },
  {
   "cell_type": "markdown",
   "id": "028866c4-f998-4ae1-b28f-deae60f4f2b2",
   "metadata": {},
   "source": [
    "\n",
    "---\n",
    "\n",
    "```\n",
    "$$ \\hat{y} = \\theta_0 + \\theta_1x_1 + \\theta_2x_2 + \\cdots + \\theta_nx_n $$\n",
    "```\n"
   ]
  },
  {
   "cell_type": "markdown",
   "id": "57deec41-119c-4107-9d71-2d1e6a916c6b",
   "metadata": {},
   "source": [
    "$$ \\hat{y} = \\theta_0 + \\theta_1x_1 + \\theta_2x_2 + \\cdots + \\theta_nx_n $$"
   ]
  },
  {
   "cell_type": "markdown",
   "id": "1085a92c-e6cd-4195-8004-27d226d3f37b",
   "metadata": {},
   "source": [
    "\n",
    "---\n",
    "\n",
    "```\n",
    "$$ \\sigma(t) = \\frac{1}{1+exp(-t)} $$\n",
    "```\n"
   ]
  },
  {
   "cell_type": "markdown",
   "id": "93fa9307-e2e1-4e87-a687-01d7c8c0e434",
   "metadata": {},
   "source": [
    "$$ \\sigma(t) = \\frac{1}{1+exp(-t)} $$"
   ]
  },
  {
   "cell_type": "markdown",
   "id": "74a2a442-3f7a-4cf1-ad6f-5e0a092c80cb",
   "metadata": {},
   "source": [
    "\n",
    "---\n",
    "\n",
    "```\n",
    "$$ = \\frac{exp(s_k(x))}{\\sum_{j=1}^{K} exp(s_j(x))} $$\n",
    "\n",
    "$$ \\hat{p}_k = \\sigma(s(x))_k $$\n",
    "```\n"
   ]
  },
  {
   "cell_type": "markdown",
   "id": "09e6de24-abae-4adc-a796-4f470c8c04f4",
   "metadata": {},
   "source": [
    "$$ = \\frac{exp(s_k(x))}{\\sum_{j=1}^{K} exp(s_j(x))} $$\n",
    "\n",
    "$$ \\hat{p}_k = \\sigma(s(x))_k $$"
   ]
  }
 ],
 "metadata": {
  "kernelspec": {
   "display_name": "mlnote:Python",
   "language": "python",
   "name": "conda-env-mlnote-py"
  },
  "language_info": {
   "codemirror_mode": {
    "name": "ipython",
    "version": 3
   },
   "file_extension": ".py",
   "mimetype": "text/x-python",
   "name": "python",
   "nbconvert_exporter": "python",
   "pygments_lexer": "ipython3",
   "version": "3.10.6"
  }
 },
 "nbformat": 4,
 "nbformat_minor": 5
}
