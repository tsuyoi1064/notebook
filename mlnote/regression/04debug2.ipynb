{
 "cells": [
  {
   "cell_type": "markdown",
   "id": "8d36a72a-62d6-4e9e-bad9-469a86522e7d",
   "metadata": {
    "tags": []
   },
   "source": [
    "# 【補足】確率的勾配降下法  "
   ]
  },
  {
   "cell_type": "markdown",
   "id": "3261c527-faac-4cf2-809d-58fd7071b8dc",
   "metadata": {},
   "source": [
    "`y = ax + b` フィッティング：a, b の値を算出  "
   ]
  },
  {
   "cell_type": "code",
   "execution_count": 1,
   "id": "4d25a1ff-3432-4e70-b51f-6d80fe26177b",
   "metadata": {
    "tags": []
   },
   "outputs": [],
   "source": [
    "import numpy as np\n",
    "import matplotlib.pyplot as plt\n",
    "import matplotlib.patches\n",
    "import matplotlib.colors\n",
    "import matplotlib.animation\n",
    "from IPython.display import HTML\n",
    "import japanize_matplotlib"
   ]
  },
  {
   "cell_type": "code",
   "execution_count": 2,
   "id": "06a4ab20-35ff-45c6-98b0-1560f8245f42",
   "metadata": {},
   "outputs": [],
   "source": [
    "max_epochs = 100\n",
    "eta0 = 0.082\n",
    "eps = 1e-4"
   ]
  },
  {
   "cell_type": "markdown",
   "id": "6497e162-5a5c-4e53-99b1-ac28d4dbb37b",
   "metadata": {},
   "source": [
    "\n",
    "---\n",
    "\n",
    "$\\hat{y}$ = ax + b をベクトルで表す  \n",
    "\n",
    "$$\n",
    "\\begin{align}\n",
    "\\pmb{x} = \\begin{pmatrix}\n",
    "1 \\\\ x\n",
    "\\end{pmatrix},\n",
    "\\pmb{w} = \\begin{pmatrix}\n",
    "b \\\\ a\n",
    "\\end{pmatrix}\n",
    "\\end{align}\n",
    "$$\n",
    "\n",
    "\n",
    "\\begin{align}\n",
    "\\hat{y} = \\pmb{x}^\\top\\pmb{w}\n",
    "\\end{align}\n",
    "\n",
    "\n",
    "\n",
    "\\begin{align}\n",
    "\\hat{y} = b + xa = ax + b\n",
    "\\end{align}\n"
   ]
  },
  {
   "cell_type": "code",
   "execution_count": 3,
   "id": "9ac36fc1-ae28-4697-800a-1e2689e79d62",
   "metadata": {
    "tags": []
   },
   "outputs": [],
   "source": [
    "D = np.array([[1, 3], [3, 6], [6, 5], [8, 7]])"
   ]
  },
  {
   "cell_type": "markdown",
   "id": "803ed768-ac95-42d1-ac20-b1c18686db9c",
   "metadata": {},
   "source": [
    "\n",
    "---\n",
    "\n",
    "- $\\pmb{X}$ を定義  \n"
   ]
  },
  {
   "cell_type": "code",
   "execution_count": 4,
   "id": "0cd1e64f-f6d4-42c4-91eb-4126c6193ab2",
   "metadata": {},
   "outputs": [
    {
     "data": {
      "text/plain": [
       "array([[1, 1],\n",
       "       [1, 3],\n",
       "       [1, 6],\n",
       "       [1, 8]])"
      ]
     },
     "execution_count": 4,
     "metadata": {},
     "output_type": "execute_result"
    }
   ],
   "source": [
    "X = np.vstack([ np.ones_like(D[:,0]), D[:,0] ]).T\n",
    "X"
   ]
  },
  {
   "cell_type": "markdown",
   "id": "d0f1f81d-9da0-4861-b187-0a2f13bbd761",
   "metadata": {},
   "source": [
    "- yを定義  "
   ]
  },
  {
   "cell_type": "code",
   "execution_count": 5,
   "id": "9e0ab6b4-63bf-4124-9fe6-6470a003b1d2",
   "metadata": {},
   "outputs": [
    {
     "data": {
      "text/plain": [
       "array([3, 6, 5, 7])"
      ]
     },
     "execution_count": 5,
     "metadata": {},
     "output_type": "execute_result"
    }
   ],
   "source": [
    "Y = D[:,1]\n",
    "Y"
   ]
  },
  {
   "cell_type": "markdown",
   "id": "3859fb30-3077-4750-b729-e82fb6a47eed",
   "metadata": {},
   "source": [
    "- w (b, a) の初期値：(0, 0)  \n",
    "\n",
    "$$\n",
    "\\pmb{w} = \\begin{pmatrix}\n",
    "b \\\\ a\n",
    "\\end{pmatrix}\n",
    "$$"
   ]
  },
  {
   "cell_type": "code",
   "execution_count": 6,
   "id": "195fc72c-2554-478a-a262-d6a5cdcb1cae",
   "metadata": {},
   "outputs": [
    {
     "data": {
      "text/plain": [
       "array([0., 0.])"
      ]
     },
     "execution_count": 6,
     "metadata": {},
     "output_type": "execute_result"
    }
   ],
   "source": [
    "W = np.zeros(X.shape[1])\n",
    "W"
   ]
  },
  {
   "cell_type": "markdown",
   "id": "76b38b73-1da1-41b7-ad8d-5582001f2394",
   "metadata": {
    "tags": []
   },
   "source": [
    "\n",
    "---\n",
    "\n",
    "## 繰り返し(1回目)  \n"
   ]
  },
  {
   "cell_type": "markdown",
   "id": "c63f277f-5cc9-4686-bbec-1ca25573b57c",
   "metadata": {},
   "source": [
    "t回目の反復（ただし、初回を$0$回目と数える）における学習率を$\\eta_t = \\frac{0.03}{\\sqrt{t+1}}$とする"
   ]
  },
  {
   "cell_type": "code",
   "execution_count": 7,
   "id": "7e147ff3-db42-446e-bcbd-673b85ccada5",
   "metadata": {},
   "outputs": [],
   "source": [
    "t=0\n",
    "eta = eta0 / np.sqrt(1+t)"
   ]
  },
  {
   "cell_type": "markdown",
   "id": "5d115cb6-61c9-481f-b215-e226e20c9310",
   "metadata": {},
   "source": [
    "- 0から要素数の範囲内で、**ランダム値を算出**  "
   ]
  },
  {
   "cell_type": "code",
   "execution_count": 8,
   "id": "a1bec1c1-9bd8-4539-96a0-64e9e2f8c4a7",
   "metadata": {},
   "outputs": [
    {
     "data": {
      "text/plain": [
       "(1, array([1, 3]))"
      ]
     },
     "execution_count": 8,
     "metadata": {},
     "output_type": "execute_result"
    }
   ],
   "source": [
    "i = np.random.randint(0, X.shape[0])\n",
    "i, X[i]"
   ]
  },
  {
   "cell_type": "markdown",
   "id": "b5df0697-4ccb-474a-90aa-8473d9915050",
   "metadata": {
    "tags": []
   },
   "source": [
    "- $\\hat{y}$ を定義、**ただし「1要素だけ」**  \n",
    "\n",
    "\\begin{align}\n",
    "\\hat{\\pmb{y}}\n",
    "= \\pmb{x}_i^\\top \\pmb{w}\n",
    "\\end{align}\n"
   ]
  },
  {
   "cell_type": "code",
   "execution_count": 9,
   "id": "06873c09-61e1-420d-bb6f-5c880052f688",
   "metadata": {
    "tags": []
   },
   "outputs": [
    {
     "data": {
      "text/plain": [
       "0.0"
      ]
     },
     "execution_count": 9,
     "metadata": {},
     "output_type": "execute_result"
    }
   ],
   "source": [
    "Y_hat = X[i] @ W\n",
    "Y_hat"
   ]
  },
  {
   "cell_type": "code",
   "execution_count": 10,
   "id": "36dcbe26-4b91-42bf-b662-22d6d7959e1a",
   "metadata": {
    "tags": []
   },
   "outputs": [
    {
     "data": {
      "image/png": "[encoded data removed]",
      "text/plain": [
       "<Figure size 640x480 with 1 Axes>"
      ]
     },
     "metadata": {},
     "output_type": "display_data"
    }
   ],
   "source": [
    "plt.scatter(X[:,1][i], Y[i])\n",
    "plt.plot(X[:,1][i], Y_hat, 'ro')\n",
    "plt.grid()"
   ]
  },
  {
   "cell_type": "markdown",
   "id": "775518fb-b2c6-4771-b1c0-85fcc5d53722",
   "metadata": {},
   "source": [
    "- 目的関数：計算結果が最小値となる$\\pmb{w}$を求める  \n",
    "  → 最終的に0へ近づける  \n"
   ]
  },
  {
   "cell_type": "code",
   "execution_count": 11,
   "id": "a185d499-a27d-4456-b663-af8caabfeb7a",
   "metadata": {},
   "outputs": [
    {
     "data": {
      "text/plain": [
       "36.0"
      ]
     },
     "execution_count": 11,
     "metadata": {},
     "output_type": "execute_result"
    }
   ],
   "source": [
    "E = np.abs(Y[i] - Y_hat)**2\n",
    "E"
   ]
  },
  {
   "cell_type": "markdown",
   "id": "38ba980f-54e8-411c-90ab-8bb87b6c567f",
   "metadata": {},
   "source": [
    "- 目的関数を$\\pmb{w}$で偏微分  \n",
    "  現在接している目的関数の傾きを算出  \n",
    "\n",
    "$$\n",
    "\\begin{align}\n",
    "\\nabla \\hat{l}_{\\pmb{x}_i, y_i}(\\pmb{w}) = \\frac{\\partial \\hat{l}_{\\pmb{x}_i, y_i}(\\pmb{w})}{\\partial \\pmb{w}} &= 2 (y_i - \\pmb{x}_i^\\top \\pmb{w}) \\pmb{x}_i \\cdot (-1)\n",
    "= 2 (\\hat{y}_i - y_i) \\pmb{x}_i\n",
    "\\end{align}\n",
    "$$\n"
   ]
  },
  {
   "cell_type": "code",
   "execution_count": 12,
   "id": "6a7d04c2-fc3e-4263-a920-1240e86b98b2",
   "metadata": {},
   "outputs": [
    {
     "data": {
      "text/plain": [
       "-36.0"
      ]
     },
     "execution_count": 12,
     "metadata": {},
     "output_type": "execute_result"
    }
   ],
   "source": [
    "grad = 2 * (Y_hat - Y[i]) * X[:,1][i]\n",
    "grad"
   ]
  },
  {
   "cell_type": "markdown",
   "id": "24cb759d-85c6-4d92-954d-48a3856b5f01",
   "metadata": {},
   "source": [
    "- $\\pmb{w}$を最新化： `w1 = w0 - α∇f(w0)`  \n"
   ]
  },
  {
   "cell_type": "code",
   "execution_count": 13,
   "id": "309908bf-8afa-474b-b5fb-d91fd1ebfbce",
   "metadata": {
    "tags": []
   },
   "outputs": [
    {
     "data": {
      "text/plain": [
       "array([2.952, 2.952])"
      ]
     },
     "execution_count": 13,
     "metadata": {},
     "output_type": "execute_result"
    }
   ],
   "source": [
    "W -= eta * grad\n",
    "W"
   ]
  },
  {
   "cell_type": "markdown",
   "id": "fbb76ba5-523c-4529-8ae7-e78092b1433e",
   "metadata": {
    "tags": []
   },
   "source": [
    "\n",
    "---\n",
    "\n",
    "### 繰り返し(2回目)  \n"
   ]
  },
  {
   "cell_type": "code",
   "execution_count": 14,
   "id": "a69b8c8e-306d-4b48-a053-e43053d131b5",
   "metadata": {},
   "outputs": [],
   "source": [
    "t=1\n",
    "eta = eta0 / np.sqrt(1+t)"
   ]
  },
  {
   "cell_type": "code",
   "execution_count": 15,
   "id": "3b69a24b-9351-411a-b6ea-15bbd37ccee8",
   "metadata": {},
   "outputs": [
    {
     "data": {
      "text/plain": [
       "(2, array([1, 6]))"
      ]
     },
     "execution_count": 15,
     "metadata": {},
     "output_type": "execute_result"
    }
   ],
   "source": [
    "i = np.random.randint(0, X.shape[0])\n",
    "i, X[i]"
   ]
  },
  {
   "cell_type": "code",
   "execution_count": 16,
   "id": "dcf24d66-bb4b-496b-82fd-3b73bbf5ce41",
   "metadata": {
    "tags": []
   },
   "outputs": [
    {
     "data": {
      "text/plain": [
       "20.664"
      ]
     },
     "execution_count": 16,
     "metadata": {},
     "output_type": "execute_result"
    }
   ],
   "source": [
    "Y_hat = X[i] @ W\n",
    "Y_hat"
   ]
  },
  {
   "cell_type": "code",
   "execution_count": 17,
   "id": "ff153ec9-2418-45a9-806e-40b5d0a527e5",
   "metadata": {
    "tags": []
   },
   "outputs": [
    {
     "data": {
      "image/png": "[encoded data removed]",
      "text/plain": [
       "<Figure size 640x480 with 1 Axes>"
      ]
     },
     "metadata": {},
     "output_type": "display_data"
    }
   ],
   "source": [
    "plt.scatter(X[:,1][i], Y[i])\n",
    "plt.plot(X[:,1][i], Y_hat, 'ro')\n",
    "plt.grid()"
   ]
  },
  {
   "cell_type": "code",
   "execution_count": 18,
   "id": "75c71bff-a8da-48c6-acd8-e47a06a6b967",
   "metadata": {},
   "outputs": [
    {
     "data": {
      "text/plain": [
       "245.36089600000005"
      ]
     },
     "execution_count": 18,
     "metadata": {},
     "output_type": "execute_result"
    }
   ],
   "source": [
    "E = np.abs(Y[i] - Y_hat)**2\n",
    "E"
   ]
  },
  {
   "cell_type": "code",
   "execution_count": 19,
   "id": "4d73c7f6-e1a6-40ec-aa14-78ed5d2bb867",
   "metadata": {},
   "outputs": [
    {
     "data": {
      "text/plain": [
       "187.96800000000002"
      ]
     },
     "execution_count": 19,
     "metadata": {},
     "output_type": "execute_result"
    }
   ],
   "source": [
    "grad = 2 * (Y_hat - Y[i]) * X[:,1][i]\n",
    "grad"
   ]
  },
  {
   "cell_type": "code",
   "execution_count": 20,
   "id": "b11d1d1b-0c3c-4434-9d3e-8f326fb61492",
   "metadata": {
    "tags": []
   },
   "outputs": [
    {
     "data": {
      "text/plain": [
       "array([-7.94690269, -7.94690269])"
      ]
     },
     "execution_count": 20,
     "metadata": {},
     "output_type": "execute_result"
    }
   ],
   "source": [
    "W -= eta * grad\n",
    "W"
   ]
  },
  {
   "cell_type": "markdown",
   "id": "4c6abc4c-d1ed-4e63-a0cd-4d8e14b8d847",
   "metadata": {
    "tags": []
   },
   "source": [
    "\n",
    "---\n",
    "\n",
    "### 繰り返し(3回目)  \n"
   ]
  },
  {
   "cell_type": "code",
   "execution_count": 21,
   "id": "5d698a86-c13e-414d-a473-7e4f5cd05885",
   "metadata": {},
   "outputs": [],
   "source": [
    "t=2\n",
    "eta = eta0 / np.sqrt(1+t)"
   ]
  },
  {
   "cell_type": "code",
   "execution_count": 22,
   "id": "c96f9798-70be-4b75-bf29-58eb00e6869c",
   "metadata": {},
   "outputs": [
    {
     "data": {
      "text/plain": [
       "(3, array([1, 8]))"
      ]
     },
     "execution_count": 22,
     "metadata": {},
     "output_type": "execute_result"
    }
   ],
   "source": [
    "i = np.random.randint(0, X.shape[0])\n",
    "i, X[i]"
   ]
  },
  {
   "cell_type": "code",
   "execution_count": 23,
   "id": "b6f9b3b3-aaf3-4c6f-ba27-0cdf5acf78fd",
   "metadata": {
    "tags": []
   },
   "outputs": [
    {
     "data": {
      "text/plain": [
       "-71.52212421520186"
      ]
     },
     "execution_count": 23,
     "metadata": {},
     "output_type": "execute_result"
    }
   ],
   "source": [
    "Y_hat = X[i] @ W\n",
    "Y_hat"
   ]
  },
  {
   "cell_type": "code",
   "execution_count": 24,
   "id": "421be0a0-4524-4f7c-a584-dc14e4a2a23e",
   "metadata": {
    "tags": []
   },
   "outputs": [
    {
     "data": {
      "image/png": "[encoded data removed]",
      "text/plain": [
       "<Figure size 640x480 with 1 Axes>"
      ]
     },
     "metadata": {},
     "output_type": "display_data"
    }
   ],
   "source": [
    "plt.scatter(X[:,1][i], Y[i])\n",
    "plt.plot(X[:,1][i], Y_hat, 'ro')\n",
    "plt.grid()"
   ]
  },
  {
   "cell_type": "code",
   "execution_count": 25,
   "id": "48635d39-ecc6-49b7-9d2f-83479727cf61",
   "metadata": {},
   "outputs": [
    {
     "data": {
      "text/plain": [
       "6165.72399126759"
      ]
     },
     "execution_count": 25,
     "metadata": {},
     "output_type": "execute_result"
    }
   ],
   "source": [
    "E = np.abs(Y[i] - Y_hat)**2\n",
    "E"
   ]
  },
  {
   "cell_type": "code",
   "execution_count": 26,
   "id": "39e0b6bb-6f78-4f81-984a-b7c1d88809ee",
   "metadata": {},
   "outputs": [
    {
     "data": {
      "text/plain": [
       "-1256.3539874432297"
      ]
     },
     "execution_count": 26,
     "metadata": {},
     "output_type": "execute_result"
    }
   ],
   "source": [
    "grad = 2 * (Y_hat - Y[i]) * X[:,1][i]\n",
    "grad"
   ]
  },
  {
   "cell_type": "code",
   "execution_count": 27,
   "id": "c6d8f90a-6de1-4040-a7b4-4541b4a4d849",
   "metadata": {
    "tags": []
   },
   "outputs": [
    {
     "data": {
      "text/plain": [
       "array([51.53231496, 51.53231496])"
      ]
     },
     "execution_count": 27,
     "metadata": {},
     "output_type": "execute_result"
    }
   ],
   "source": [
    "W -= eta * grad\n",
    "W"
   ]
  },
  {
   "cell_type": "markdown",
   "id": "9649502f-dfdc-4ef9-9852-e5fa947228a9",
   "metadata": {
    "tags": []
   },
   "source": [
    "\n",
    "---\n",
    "\n",
    "## 繰り返し(条件を満たすまで)  \n",
    "\n",
    "平均二乗残差が目標値： `eps = 1e-4` に達するまで繰り返す  "
   ]
  },
  {
   "cell_type": "code",
   "execution_count": 28,
   "id": "c7596f77-3cfe-4afb-8257-55874b4c08c0",
   "metadata": {},
   "outputs": [
    {
     "data": {
      "text/plain": [
       "array([3.31628499, 0.42145777])"
      ]
     },
     "execution_count": 28,
     "metadata": {},
     "output_type": "execute_result"
    }
   ],
   "source": [
    "max_epochs = 40000\n",
    "eta0 = 0.03\n",
    "eps = 1e-4\n",
    "\n",
    "t = 0\n",
    "W = np.zeros(X.shape[1])\n",
    "\n",
    "for t in range(max_epochs):\n",
    "    eta = eta0 / np.sqrt(1+t)\n",
    "    i = np.random.randint(0, X.shape[0])\n",
    "    Y_hat = X[i] @ W\n",
    "    grad = 2 * (Y_hat - Y[i]) * X[i]\n",
    "    if np.sum(np.abs(grad)) < eps:\n",
    "        break\n",
    "    W -= eta * grad\n",
    "\n",
    "W"
   ]
  },
  {
   "cell_type": "markdown",
   "id": "1585121d-443e-4faf-a802-29f0860ad841",
   "metadata": {
    "tags": []
   },
   "source": [
    "\n",
    "---\n",
    "\n",
    "## 行列演算で最小値を算出した場合  \n",
    "\n",
    "目的関数を最小化する、ベクトル$\\pmb{w}$の求め方  \n",
    "\n",
    "$$\n",
    "\\begin{align}\n",
    "\\pmb{w} &= (\\pmb{X}^\\top \\pmb{X})^{-1}\\pmb{X}^\\top \\pmb{y}\n",
    "\\end{align}\n",
    "$$\n",
    "\n",
    "\n",
    "- `numpy.linalg.inv()`：逆行列 (行列$^{-1}$)  "
   ]
  },
  {
   "cell_type": "code",
   "execution_count": 29,
   "id": "bc373b53-35bc-49b3-93e6-2f289b54d4ad",
   "metadata": {},
   "outputs": [
    {
     "data": {
      "text/plain": [
       "array([3.31034483, 0.43103448])"
      ]
     },
     "execution_count": 29,
     "metadata": {},
     "output_type": "execute_result"
    }
   ],
   "source": [
    "w = np.linalg.inv(X.T @ X) @ X.T @ Y\n",
    "w"
   ]
  },
  {
   "cell_type": "markdown",
   "id": "47ea012d-0ee1-4884-8dd7-0e8cf686f6bf",
   "metadata": {},
   "source": [
    "\n",
    "---\n"
   ]
  }
 ],
 "metadata": {
  "kernelspec": {
   "display_name": "mlnote:Python",
   "language": "python",
   "name": "conda-env-mlnote-py"
  },
  "language_info": {
   "codemirror_mode": {
    "name": "ipython",
    "version": 3
   },
   "file_extension": ".py",
   "mimetype": "text/x-python",
   "name": "python",
   "nbconvert_exporter": "python",
   "pygments_lexer": "ipython3",
   "version": "3.10.6"
  }
 },
 "nbformat": 4,
 "nbformat_minor": 5
}
