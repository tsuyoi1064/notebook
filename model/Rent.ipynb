{
 "cells": [
  {
   "cell_type": "markdown",
   "id": "3cf762d7-f847-47c3-b872-3e2c3d119298",
   "metadata": {
    "tags": []
   },
   "source": [
    "# 家賃算出モデル  \n",
    "\n",
    "トレーニングデータは以下から引用  \n",
    "[「千葉商科大学 商経学部 情報コース 応用情報処理」](https://www3.cuc.ac.jp/~nagaoka/2011/ouyou/11/rent/index.html)  \n",
    "\n",
    "- なお説明変数(X)のうち、「家の向き」は独自に数値化してみた  "
   ]
  },
  {
   "cell_type": "markdown",
   "id": "39829f35-b5cf-41de-ab4d-32baae0dc5dd",
   "metadata": {},
   "source": [
    "初回のみインストール  "
   ]
  },
  {
   "cell_type": "code",
   "execution_count": null,
   "id": "874d041b",
   "metadata": {
    "tags": []
   },
   "outputs": [],
   "source": [
    "!pip install numpy\n",
    "!pip install pandas\n",
    "!pip install japanize-matplotlib\n",
    "!pip install scikit-learn"
   ]
  },
  {
   "cell_type": "markdown",
   "id": "10273126-e7e6-4bda-b99b-a11f890b4e0f",
   "metadata": {},
   "source": [
    "\n",
    "---\n",
    "\n",
    "Python動作環境  "
   ]
  },
  {
   "cell_type": "code",
   "execution_count": null,
   "id": "f253d06d-0c5e-40f9-af25-b52c49463327",
   "metadata": {
    "tags": []
   },
   "outputs": [],
   "source": [
    "import numpy as np\n",
    "import pandas as pd\n",
    "import matplotlib.pyplot as plt\n",
    "import matplotlib.patches\n",
    "import matplotlib.colors\n",
    "import matplotlib.animation\n",
    "from IPython.display import HTML\n",
    "import japanize_matplotlib\n",
    "from sklearn import linear_model"
   ]
  },
  {
   "cell_type": "markdown",
   "id": "b9d3c227-1150-4242-bba6-fc173057ee26",
   "metadata": {},
   "source": [
    "\n",
    "---\n",
    "\n",
    "## トレーニングデータ：csvファイル読込  "
   ]
  },
  {
   "cell_type": "code",
   "execution_count": null,
   "id": "58c74e68-23bc-4824-ab15-cfa5d3f75a9a",
   "metadata": {},
   "outputs": [],
   "source": [
    "inFileName = 'rent.csv'\n",
    "\n",
    "data = pd.read_csv(inFileName, sep = ',')\n",
    "display(data.head(5))"
   ]
  },
  {
   "cell_type": "markdown",
   "id": "cea1e7c9-4983-40f7-8d6f-a2e7dfe8e36c",
   "metadata": {},
   "source": [
    "- データの情報  "
   ]
  },
  {
   "cell_type": "code",
   "execution_count": null,
   "id": "8b873053-b5cb-4503-b1f9-4b43b5ef4ed6",
   "metadata": {},
   "outputs": [],
   "source": [
    "data.dtypes"
   ]
  },
  {
   "cell_type": "code",
   "execution_count": null,
   "id": "538880d6-5e65-4465-8a3b-70667acec13c",
   "metadata": {},
   "outputs": [],
   "source": [
    "data.info()"
   ]
  },
  {
   "cell_type": "code",
   "execution_count": null,
   "id": "5ee7182b-ee18-4f59-9f94-a863caa0231b",
   "metadata": {},
   "outputs": [],
   "source": [
    "data.describe()"
   ]
  },
  {
   "cell_type": "markdown",
   "id": "d6858c1b-fec4-430a-b721-751428237639",
   "metadata": {},
   "source": [
    "\n",
    "---\n",
    "\n",
    "## 各データと家賃の関係性をチェック  \n",
    "\n",
    "- 部屋の面積 ＆ 家賃  "
   ]
  },
  {
   "cell_type": "code",
   "execution_count": null,
   "id": "15138f6e-5c75-40f1-a56c-2da85d839671",
   "metadata": {
    "tags": []
   },
   "outputs": [],
   "source": [
    "W = np.polyfit(data['house_area'], data['monthly_price'], 1)\n",
    "y_hat = np.polyval(W, data['house_area'])\n",
    "W"
   ]
  },
  {
   "cell_type": "code",
   "execution_count": null,
   "id": "94f170ce-7fa3-4796-83bb-f1f1c2a9d2d3",
   "metadata": {},
   "outputs": [],
   "source": [
    "plt.figure(figsize=(7,7))\n",
    "plt.scatter(data['house_area'], data['monthly_price'])\n",
    "plt.plot(data['house_area'], y_hat, 'r')\n",
    "plt.xlabel('面積')\n",
    "plt.ylabel('家賃')\n",
    "plt.grid()"
   ]
  },
  {
   "cell_type": "markdown",
   "id": "7455efa1-fdeb-4a9f-bb51-e3758037b6a2",
   "metadata": {},
   "source": [
    "- 築年数 ＆ 家賃  "
   ]
  },
  {
   "cell_type": "code",
   "execution_count": null,
   "id": "529a27c4-e7d2-4485-9eb8-8f270d63e9d4",
   "metadata": {},
   "outputs": [],
   "source": [
    "W = np.polyfit(data['house_age'], data['monthly_price'], 1)\n",
    "y_hat = np.polyval(W, data['house_age'])\n",
    "W"
   ]
  },
  {
   "cell_type": "code",
   "execution_count": null,
   "id": "bfa60b04-af4c-4e05-8224-0636b890f23b",
   "metadata": {},
   "outputs": [],
   "source": [
    "plt.figure(figsize=(7,7))\n",
    "plt.scatter(data['house_age'], data['monthly_price'])\n",
    "plt.plot(data['house_age'], y_hat, 'r')\n",
    "plt.xlabel('築年数')\n",
    "plt.ylabel('家賃')\n",
    "plt.grid()"
   ]
  },
  {
   "cell_type": "markdown",
   "id": "ae89bd85-5a07-4dc8-b751-6d82bec26de7",
   "metadata": {},
   "source": [
    "- 駅まで歩いて何分 ＆ 家賃  "
   ]
  },
  {
   "cell_type": "code",
   "execution_count": null,
   "id": "751eea47-6ddf-46e4-8fa0-3c61663aee5d",
   "metadata": {},
   "outputs": [],
   "source": [
    "W = np.polyfit(data['walk_from_station'], data['monthly_price'], 1)\n",
    "y_hat = np.polyval(W, data['walk_from_station'])\n",
    "W"
   ]
  },
  {
   "cell_type": "code",
   "execution_count": null,
   "id": "7ad90fb1-ea8e-487f-8b71-0f2081a6ab57",
   "metadata": {},
   "outputs": [],
   "source": [
    "plt.figure(figsize=(7,7))\n",
    "plt.scatter(data['walk_from_station'], data['monthly_price'])\n",
    "plt.plot(data['walk_from_station'], y_hat, 'r')\n",
    "plt.xlabel('駅徒歩分')\n",
    "plt.ylabel('家賃')\n",
    "plt.grid()"
   ]
  },
  {
   "cell_type": "markdown",
   "id": "e3cdadff-11a2-4855-88fe-ce69cf724168",
   "metadata": {},
   "source": [
    "- 家の向き(南：3.0 ～ 北：1.0) ＆ 家賃  "
   ]
  },
  {
   "cell_type": "code",
   "execution_count": null,
   "id": "9d161303-8d7c-49de-ba7b-65364ad82559",
   "metadata": {},
   "outputs": [],
   "source": [
    "W = np.polyfit(data['direction_of_house'], data['monthly_price'], 1)\n",
    "y_hat = np.polyval(W, data['direction_of_house'])\n",
    "W"
   ]
  },
  {
   "cell_type": "code",
   "execution_count": null,
   "id": "7fe1d907-333e-4d9c-9745-5593b75a21de",
   "metadata": {},
   "outputs": [],
   "source": [
    "plt.figure(figsize=(7,7))\n",
    "plt.scatter(data['direction_of_house'], data['monthly_price'])\n",
    "plt.plot(data['direction_of_house'], y_hat, 'r')\n",
    "plt.xlabel('家の向き')\n",
    "plt.ylabel('家賃')\n",
    "plt.grid()"
   ]
  },
  {
   "cell_type": "markdown",
   "id": "1b038d24-73ed-45dc-aa07-902c6abed39a",
   "metadata": {},
   "source": [
    "\n",
    "---\n",
    "\n",
    "## 家賃算出モデルを作成  \n",
    "\n",
    "- 目的変数(y)：算出結果 → 家賃  \n",
    "- 説明変数(X)：算出に影響を与える項目 → 面積・築年数・駅徒歩分・家の向き  \n"
   ]
  },
  {
   "cell_type": "code",
   "execution_count": null,
   "id": "9c3b69f5-0952-446c-8b48-2287e2cc0313",
   "metadata": {},
   "outputs": [],
   "source": [
    "y = data['monthly_price']\n",
    "X = data[['house_area', 'house_age', 'walk_from_station', 'direction_of_house']]\n",
    "\n",
    "reg = linear_model.LinearRegression()\n",
    "X = X.values\n",
    "reg.fit(X, y)"
   ]
  },
  {
   "cell_type": "markdown",
   "id": "091c6427-692c-4615-b24d-0aec9966ff09",
   "metadata": {},
   "source": [
    "家賃を算出する式  \n",
    "`y = b0 + (b1 * x1) + (b2 * x2) + (b3 * x3) + (b4 * x4)` の bを表示  \n",
    "以下の順番で出力される  \n",
    "- b1：面積の係数  \n",
    "- b2：築年数の係数  \n",
    "- b3：駅徒歩分の係数  \n",
    "- b4：家の向きの係数  "
   ]
  },
  {
   "cell_type": "code",
   "execution_count": null,
   "id": "079e1e70-8975-4aca-9ede-a0088f3d11b5",
   "metadata": {},
   "outputs": [],
   "source": [
    "print(reg.coef_)"
   ]
  },
  {
   "cell_type": "markdown",
   "id": "189aabd2-77c6-48fe-b6b1-b84e6cc962bb",
   "metadata": {},
   "source": [
    "- b0：切片を算出  "
   ]
  },
  {
   "cell_type": "code",
   "execution_count": null,
   "id": "3df1aee5-d52b-4506-abbc-0546f30d1778",
   "metadata": {},
   "outputs": [],
   "source": [
    "reg.intercept_"
   ]
  },
  {
   "cell_type": "markdown",
   "id": "c72426af-b7a3-41d3-a422-c7196e319ad1",
   "metadata": {},
   "source": [
    "決定係数：1に近いほど、モデルの精度が高い  "
   ]
  },
  {
   "cell_type": "code",
   "execution_count": null,
   "id": "a0005401-febd-42b8-a408-25f371e2db80",
   "metadata": {},
   "outputs": [],
   "source": [
    "reg.score(X, y)"
   ]
  },
  {
   "cell_type": "markdown",
   "id": "71d36ad7-d8b7-4a11-b28d-f1ccb1820def",
   "metadata": {},
   "source": [
    "\n",
    "---\n",
    "\n",
    "## 予測：家賃を算出してみる  \n",
    "\n",
    "- x1：面積 (小数点1桁まで入力)  \n",
    "- x2：築年数 (0～)  \n",
    "- x3：駅まで歩いて何分か (0～)  \n",
    "- x4：家の向き (南：3.0、南東：2.7、南西：2.5、東：2.3、西：2.0、北東：1.5、北：1.0)  "
   ]
  },
  {
   "cell_type": "code",
   "execution_count": null,
   "id": "946fd538-d43c-4108-8aa1-488f1bdf69c3",
   "metadata": {},
   "outputs": [],
   "source": [
    "x1 = 17.0\n",
    "x2 = 15\n",
    "x3 = 20\n",
    "x4 = 1.0\n",
    "\n",
    "price = reg.predict([[x1, x2, x3, x4]])\n",
    "print('¥' +'{:,.0f}'.format(int(price)))"
   ]
  },
  {
   "cell_type": "markdown",
   "id": "956cfc5c-9fd9-4f1d-97db-fcd13b42b9c4",
   "metadata": {},
   "source": [
    "- 北→南向きの部屋に変更  "
   ]
  },
  {
   "cell_type": "code",
   "execution_count": null,
   "id": "d7236691-a9d3-4bb4-a062-9e460becf711",
   "metadata": {},
   "outputs": [],
   "source": [
    "x1 = 17.0\n",
    "x2 = 15\n",
    "x3 = 20\n",
    "x4 = 3.0    #変更\n",
    "\n",
    "price = reg.predict([[x1, x2, x3, x4]])\n",
    "print('¥' +'{:,.0f}'.format(int(price)))"
   ]
  },
  {
   "cell_type": "markdown",
   "id": "f609bda3-f37f-4573-a01e-1f21eecf3ad6",
   "metadata": {},
   "source": [
    "- 徒歩20分 → 10分  "
   ]
  },
  {
   "cell_type": "code",
   "execution_count": null,
   "id": "890b1830-bce5-453f-a182-f222744e950d",
   "metadata": {},
   "outputs": [],
   "source": [
    "x1 = 17.0\n",
    "x2 = 15\n",
    "x3 = 10    #変更\n",
    "x4 = 3.0\n",
    "\n",
    "price = reg.predict([[x1, x2, x3, x4]])\n",
    "print('¥' +'{:,.0f}'.format(int(price)))"
   ]
  },
  {
   "cell_type": "markdown",
   "id": "70959cdd-ca1a-4caf-a5d5-02bffcc2c896",
   "metadata": {},
   "source": [
    "- 広い部屋：面積を25㎡へ  "
   ]
  },
  {
   "cell_type": "code",
   "execution_count": null,
   "id": "c4dffa47-3bb0-4a99-a20a-0600b78d3d7a",
   "metadata": {},
   "outputs": [],
   "source": [
    "x1 = 25.0    #変更\n",
    "x2 = 15\n",
    "x3 = 10\n",
    "x4 = 3.0\n",
    "\n",
    "price = reg.predict([[x1, x2, x3, x4]])\n",
    "print('¥' +'{:,.0f}'.format(int(price)))"
   ]
  },
  {
   "cell_type": "markdown",
   "id": "a4565026-99b4-4d63-97ec-cac9631c4bd6",
   "metadata": {},
   "source": [
    "- 徒歩10分 → 5分  "
   ]
  },
  {
   "cell_type": "code",
   "execution_count": null,
   "id": "2470711c-7f37-48cd-a96d-1fdb595054d7",
   "metadata": {},
   "outputs": [],
   "source": [
    "x1 = 25.0\n",
    "x2 = 15\n",
    "x3 = 5    #変更\n",
    "x4 = 3.0\n",
    "\n",
    "price = reg.predict([[x1, x2, x3, x4]])\n",
    "print('¥' +'{:,.0f}'.format(int(price)))"
   ]
  },
  {
   "cell_type": "markdown",
   "id": "445a2c2c-b823-43ab-bf69-7bfc54e283cd",
   "metadata": {},
   "source": [
    "- 築15年 → 新築(0年)に変更  "
   ]
  },
  {
   "cell_type": "code",
   "execution_count": null,
   "id": "e24c011c-0608-4eba-97dd-0eea0e933274",
   "metadata": {},
   "outputs": [],
   "source": [
    "x1 = 25.0\n",
    "x2 = 0    #変更\n",
    "x3 = 5\n",
    "x4 = 3.0\n",
    "\n",
    "price = reg.predict([[x1, x2, x3, x4]])\n",
    "print('¥' +'{:,.0f}'.format(int(price)))"
   ]
  },
  {
   "cell_type": "markdown",
   "id": "bb864b60-2312-4003-910e-cd784f737643",
   "metadata": {},
   "source": [
    "-  徒歩5分 → 徒歩0分(駅近)に変更  "
   ]
  },
  {
   "cell_type": "code",
   "execution_count": null,
   "id": "5d8ef9fe-195e-4c2f-91c1-ac60bb40ed7a",
   "metadata": {},
   "outputs": [],
   "source": [
    "x1 = 25.0\n",
    "x2 = 0\n",
    "x3 = 0    #変更\n",
    "x4 = 3.0\n",
    "\n",
    "price = reg.predict([[x1, x2, x3, x4]])\n",
    "print('¥' +'{:,.0f}'.format(int(price)))"
   ]
  },
  {
   "cell_type": "markdown",
   "id": "8b75f7a6-7fa7-4b18-a313-c4c2eb15ec5f",
   "metadata": {},
   "source": [
    "\n",
    "---\n"
   ]
  }
 ],
 "metadata": {
  "kernelspec": {
   "display_name": "default:Python",
   "language": "python",
   "name": "conda-env-default-py"
  },
  "language_info": {
   "codemirror_mode": {
    "name": "ipython",
    "version": 3
   },
   "file_extension": ".py",
   "mimetype": "text/x-python",
   "name": "python",
   "nbconvert_exporter": "python",
   "pygments_lexer": "ipython3",
   "version": "3.9.13"
  }
 },
 "nbformat": 4,
 "nbformat_minor": 5
}
