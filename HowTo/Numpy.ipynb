{
 "cells": [
  {
   "cell_type": "markdown",
   "id": "98bbdb53-2bf9-4b7e-a28b-e9d08995012c",
   "metadata": {},
   "source": [
    "# Numpy  \n",
    "\n",
    "## Numpyとは  \n",
    "\n",
    "ベクトル（１次元配列）や行列（２次元配列）など、多次元配列の計算を高速に処理するライブラリ  \n",
    "機械学習やディープラーニングを行う場合は必ず利用される \n",
    "\n",
    "\n",
    "## 参考  \n",
    "- Chainer[「8.Numpy入門」](https://tutorials.chainer.org/ja/08_Introduction_to_NumPy.html)  \n",
    "- Pythonで学ぶ入門計量経済学[「単回帰分析」](https://py4etrics.github.io/8_Simple_Regression.html)  \n",
    "- Sci-pursuit[「最小二乗法の意味と計算方法 - 回帰直線の求め方」](https://sci-pursuit.com/math/statistics/least-square-method.html)  \n"
   ]
  },
  {
   "cell_type": "code",
   "execution_count": 1,
   "id": "9643ed60-2176-4d5c-938c-80aefb833aeb",
   "metadata": {
    "tags": []
   },
   "outputs": [],
   "source": [
    "import numpy as np"
   ]
  },
  {
   "cell_type": "markdown",
   "id": "2b35aee6-6331-4385-9576-667bc93754e2",
   "metadata": {},
   "source": [
    "\n",
    "\n",
    "---\n",
    "\n",
    "## その前に、Pythonのリストを復習  \n",
    "\n",
    "- リストを作成  \n"
   ]
  },
  {
   "cell_type": "code",
   "execution_count": 2,
   "id": "cfe771f4-18cf-47cf-ac3e-921dd86f166c",
   "metadata": {},
   "outputs": [
    {
     "name": "stdout",
     "output_type": "stream",
     "text": [
      "['apple', 100, 0.123]\n"
     ]
    }
   ],
   "source": [
    "#一次元\n",
    "l = ['apple', 100, 0.123]\n",
    "print(l)"
   ]
  },
  {
   "cell_type": "code",
   "execution_count": 3,
   "id": "231d2acc-4c65-4c15-9965-ae916213dab4",
   "metadata": {
    "tags": []
   },
   "outputs": [
    {
     "name": "stdout",
     "output_type": "stream",
     "text": [
      "[[0, 1, 2], [3, 4, 5], [6, 7, 8]]\n"
     ]
    }
   ],
   "source": [
    "#二次元\n",
    "l_2d = [[0, 1, 2], [3, 4, 5], [6, 7, 8]]\n",
    "print(l_2d)"
   ]
  },
  {
   "cell_type": "markdown",
   "id": "d34f84ad-89dd-4ab4-8264-5ad909b7c4ae",
   "metadata": {},
   "source": [
    "- リストを取得  "
   ]
  },
  {
   "cell_type": "code",
   "execution_count": 4,
   "id": "9e46e569-a570-41f4-990c-c1c9b8eb80f2",
   "metadata": {},
   "outputs": [
    {
     "name": "stdout",
     "output_type": "stream",
     "text": [
      "100\n",
      "[3, 4, 5]\n",
      "4\n"
     ]
    }
   ],
   "source": [
    "print(l[1])\n",
    "print(l_2d[1])\n",
    "print(l_2d[1][1])"
   ]
  },
  {
   "cell_type": "markdown",
   "id": "f321a61b-4035-42df-992a-a98f0d714a59",
   "metadata": {},
   "source": [
    "- スライス：リストを範囲指定で取得  \n",
    "  - 選択範囲の開始位置startと終了位置stopを、`[start:stop]`のように書く  \n",
    "    `start <= x < stop`の範囲が選択される。\n",
    "  - 開始位置startを省略した場合：最初から選択される  \n",
    "  - 終了位置stopを省略した場合：最後までが選択される  \n",
    "  - 両方とも省略した場合：すべての値が選択される  \n",
    "  - 位置を負の値で指定した場合：末尾(-1)からの位置となる\n",
    "  - 増分stepも指定可能、`[start:stop:step]`のように書く  \n"
   ]
  },
  {
   "cell_type": "code",
   "execution_count": 5,
   "id": "ec77e245-ed6d-483c-80b2-22fe83d380be",
   "metadata": {},
   "outputs": [
    {
     "name": "stdout",
     "output_type": "stream",
     "text": [
      "['apple', 100, 0.123]\n",
      "['apple', 100]\n",
      "[0]\n",
      "[1, 2]\n",
      "[0, 1, 2]\n",
      "[0.123]\n",
      "[100, 0.123]\n",
      "[0, 2]\n"
     ]
    }
   ],
   "source": [
    "print(l[:])\n",
    "print(l[:2])\n",
    "print(l_2d[0][:1])\n",
    "print(l_2d[0][1:])\n",
    "print(l_2d[0][:])\n",
    "print(l[-1:])\n",
    "print(l[-2:])\n",
    "print(l_2d[0][0::2])"
   ]
  },
  {
   "cell_type": "markdown",
   "id": "9d3e2e71-68a2-40c0-b918-568a7343fa21",
   "metadata": {},
   "source": [
    "\n",
    "\n",
    "---\n",
    "\n",
    "## Numpy  \n",
    "\n",
    "### 基礎  \n",
    "\n",
    "- array：データクラス(=ndarray)を作成  \n"
   ]
  },
  {
   "cell_type": "code",
   "execution_count": 6,
   "id": "8d822797-15cc-4c5e-a256-03f07231876d",
   "metadata": {
    "tags": []
   },
   "outputs": [
    {
     "name": "stdout",
     "output_type": "stream",
     "text": [
      "[1 2 3]\n",
      "<class 'numpy.ndarray'>\n"
     ]
    }
   ],
   "source": [
    "a = np.array([1, 2, 3])\n",
    "#a = np.array([1, 2])\n",
    "\n",
    "print(str(a))\n",
    "print(type(a))"
   ]
  },
  {
   "cell_type": "markdown",
   "id": "8ef75e1a-3ec2-4b1b-a3a0-dde7e3b0f57f",
   "metadata": {},
   "source": [
    "- shape：要素数を返却  "
   ]
  },
  {
   "cell_type": "code",
   "execution_count": 7,
   "id": "06797ebf-74a5-4485-a397-389700d8b67c",
   "metadata": {},
   "outputs": [
    {
     "data": {
      "text/plain": [
       "(3,)"
      ]
     },
     "execution_count": 7,
     "metadata": {},
     "output_type": "execute_result"
    }
   ],
   "source": [
    "a.shape"
   ]
  },
  {
   "cell_type": "markdown",
   "id": "4adb8f95-47f5-4021-80fe-5af454188294",
   "metadata": {},
   "source": [
    "- ndim：次元数を返却  "
   ]
  },
  {
   "cell_type": "code",
   "execution_count": 8,
   "id": "442dd01f-2d17-4331-928d-7be5e7018418",
   "metadata": {},
   "outputs": [
    {
     "data": {
      "text/plain": [
       "1"
      ]
     },
     "execution_count": 8,
     "metadata": {},
     "output_type": "execute_result"
    }
   ],
   "source": [
    "a.ndim"
   ]
  },
  {
   "cell_type": "markdown",
   "id": "302ac3ad-8f0a-4dd3-8577-0ecb3f6e37a1",
   "metadata": {
    "tags": []
   },
   "source": [
    "- size：要素数  "
   ]
  },
  {
   "cell_type": "code",
   "execution_count": 9,
   "id": "9076d52a-e154-40dc-aefc-8e8aa8e32c6e",
   "metadata": {
    "tags": []
   },
   "outputs": [
    {
     "data": {
      "text/plain": [
       "3"
      ]
     },
     "execution_count": 9,
     "metadata": {},
     "output_type": "execute_result"
    }
   ],
   "source": [
    "a.size"
   ]
  },
  {
   "cell_type": "markdown",
   "id": "8e7765f0-461d-4b3e-9871-57fc185d41e8",
   "metadata": {},
   "source": [
    "- 二次元配列の場合  "
   ]
  },
  {
   "cell_type": "code",
   "execution_count": 10,
   "id": "cd00b864-2e12-4bd8-8205-d984de2171d1",
   "metadata": {},
   "outputs": [
    {
     "name": "stdout",
     "output_type": "stream",
     "text": [
      "b = [[1 2 3]\n",
      " [4 5 6]]\n",
      "shape = (2, 3)\n",
      "ndim = 2\n",
      "size = 6\n"
     ]
    }
   ],
   "source": [
    "b = np.array(\n",
    "    [[1, 2, 3],\n",
    "     [4, 5, 6]]\n",
    ")\n",
    "\n",
    "print('b = ' + str(b))\n",
    "print('shape = ' + str(b.shape))\n",
    "print('ndim = ' + str(b.ndim))\n",
    "print('size = ' + str(b.size))"
   ]
  },
  {
   "cell_type": "markdown",
   "id": "f6e73d1a-6f2e-453e-8127-6bdacf5a43f6",
   "metadata": {},
   "source": [
    "- 空の配列を作成  \n",
    "  `dtype`でデータ型を指定、デフォルトは`float64`  "
   ]
  },
  {
   "cell_type": "code",
   "execution_count": 11,
   "id": "deb0ee28-240f-4c22-94d5-86dcc920c1d8",
   "metadata": {},
   "outputs": [
    {
     "data": {
      "text/plain": [
       "array([], dtype=int64)"
      ]
     },
     "execution_count": 11,
     "metadata": {},
     "output_type": "execute_result"
    }
   ],
   "source": [
    "c = np.empty(0, dtype='int')\n",
    "c"
   ]
  },
  {
   "cell_type": "markdown",
   "id": "75c0cd69-8659-42dd-b061-05b55e2b779e",
   "metadata": {},
   "source": [
    "- 配列に要素を追加  "
   ]
  },
  {
   "cell_type": "code",
   "execution_count": 12,
   "id": "f0086d04-7026-48e0-b9db-5a61f0dd1b1c",
   "metadata": {},
   "outputs": [
    {
     "data": {
      "text/plain": [
       "array([1])"
      ]
     },
     "execution_count": 12,
     "metadata": {},
     "output_type": "execute_result"
    }
   ],
   "source": [
    "c = np.append(c, 1)\n",
    "c"
   ]
  },
  {
   "cell_type": "markdown",
   "id": "2f7d4b4c-fce1-4a6d-94ec-2c2e8572137e",
   "metadata": {
    "tags": []
   },
   "source": [
    "\n",
    "---\n",
    "\n",
    "### データ型  \n",
    "\n",
    "\n",
    "- 整数  \n"
   ]
  },
  {
   "cell_type": "code",
   "execution_count": 13,
   "id": "e11b54ea-0c6d-49cd-994e-ced37b3011ed",
   "metadata": {
    "tags": []
   },
   "outputs": [
    {
     "data": {
      "text/plain": [
       "dtype('int64')"
      ]
     },
     "execution_count": 13,
     "metadata": {},
     "output_type": "execute_result"
    }
   ],
   "source": [
    "x = np.array([1, 2, 3])\n",
    "\n",
    "x.dtype"
   ]
  },
  {
   "cell_type": "markdown",
   "id": "287bc98e-51bf-46a0-a2a0-9f9cb2f0318f",
   "metadata": {},
   "source": [
    "- 浮動小数点  "
   ]
  },
  {
   "cell_type": "code",
   "execution_count": 14,
   "id": "ecf3f6b4-a1de-41ec-b738-0afb9141de7c",
   "metadata": {},
   "outputs": [
    {
     "data": {
      "text/plain": [
       "dtype('float64')"
      ]
     },
     "execution_count": 14,
     "metadata": {},
     "output_type": "execute_result"
    }
   ],
   "source": [
    "x = np.array([1., 2., 3.])\n",
    "\n",
    "x.dtype"
   ]
  },
  {
   "cell_type": "markdown",
   "id": "748e9e08-345b-4ed3-af53-42234f32662c",
   "metadata": {},
   "source": [
    "- 指数表現(e)のfloatを、指定した桁数で丸める  "
   ]
  },
  {
   "cell_type": "code",
   "execution_count": 15,
   "id": "9e6c493f-a6b9-46b9-997d-8ec328bf2bde",
   "metadata": {},
   "outputs": [
    {
     "name": "stdout",
     "output_type": "stream",
     "text": [
      "0.840517241\n",
      "0.0\n"
     ]
    }
   ],
   "source": [
    "x = np.array([8.40517241e-01, 1.38777878e-17])\n",
    "for i, row in enumerate(x):\n",
    "    print(np.around(row,10))"
   ]
  },
  {
   "cell_type": "markdown",
   "id": "7b78e660-3cdd-4d27-ba39-38848482ae3d",
   "metadata": {},
   "source": [
    "\n",
    "---\n",
    "\n",
    "## 配列の並び替え  \n"
   ]
  },
  {
   "cell_type": "markdown",
   "id": "0cf4cd48-42a9-47fc-bd97-b7eadff158d5",
   "metadata": {},
   "source": [
    "- [[x, y], [x, y], …] の配列を、[x, x, …], [y, y, …]の配列に変換  "
   ]
  },
  {
   "cell_type": "code",
   "execution_count": 16,
   "id": "492c30ce-b599-44ff-b5f7-b14e587456dc",
   "metadata": {
    "tags": []
   },
   "outputs": [
    {
     "data": {
      "text/plain": [
       "(array([1, 3, 6, 8]), array([3, 6, 5, 7]))"
      ]
     },
     "execution_count": 16,
     "metadata": {},
     "output_type": "execute_result"
    }
   ],
   "source": [
    "D = np.array([[1, 3], [3, 6], [6, 5], [8, 7]])\n",
    "D[:,0], D[:,1]"
   ]
  },
  {
   "cell_type": "markdown",
   "id": "2eb3e245-5209-44ac-9dc2-232e0a173a7c",
   "metadata": {},
   "source": [
    "上記の逆  \n",
    "\n",
    "- [x, x, …], [y, y, …] の配列を、[[x, y], [x, y], …]の配列に変換  "
   ]
  },
  {
   "cell_type": "code",
   "execution_count": 17,
   "id": "139dbf58-15f3-485b-802d-ed2cd80ef9c0",
   "metadata": {},
   "outputs": [
    {
     "data": {
      "text/plain": [
       "array([[[1, 3],\n",
       "        [3, 6],\n",
       "        [6, 5],\n",
       "        [8, 7]]])"
      ]
     },
     "execution_count": 17,
     "metadata": {},
     "output_type": "execute_result"
    }
   ],
   "source": [
    "X = np.array([1, 3, 6, 8])\n",
    "Y = np.array([3, 6, 5, 7])\n",
    "\n",
    "D = np.dstack([X, Y])\n",
    "D"
   ]
  },
  {
   "cell_type": "markdown",
   "id": "8319fb18-5976-403f-88eb-ec1e78a135cc",
   "metadata": {},
   "source": [
    "- Xの形状を変更  \n",
    "  - 行, 列 を指定  \n",
    "  - 列 を指定  \n",
    "  - `-1`を指定した場合、もう一つの要素数から自動算出  "
   ]
  },
  {
   "cell_type": "code",
   "execution_count": 18,
   "id": "3c0d7cc5-ceca-455d-b4e1-88ee7d9ea9c7",
   "metadata": {
    "tags": []
   },
   "outputs": [
    {
     "data": {
      "text/plain": [
       "array([[1, 2, 3, 4],\n",
       "       [5, 6, 7, 8]])"
      ]
     },
     "execution_count": 18,
     "metadata": {},
     "output_type": "execute_result"
    }
   ],
   "source": [
    "X = np.array([1, 2, 3, 4, 5, 6, 7, 8])\n",
    "D = X.reshape(2, 4)\n",
    "D"
   ]
  },
  {
   "cell_type": "code",
   "execution_count": 19,
   "id": "c1d0ae32-ed24-466c-ab75-fabe9f552f96",
   "metadata": {},
   "outputs": [
    {
     "data": {
      "text/plain": [
       "array([1, 2, 3, 4, 5, 6, 7, 8])"
      ]
     },
     "execution_count": 19,
     "metadata": {},
     "output_type": "execute_result"
    }
   ],
   "source": [
    "D = D.reshape(8)\n",
    "D"
   ]
  },
  {
   "cell_type": "code",
   "execution_count": 20,
   "id": "7ebbc10d-5057-4505-ba4a-48a801af8162",
   "metadata": {},
   "outputs": [
    {
     "data": {
      "text/plain": [
       "array([[1],\n",
       "       [2],\n",
       "       [3],\n",
       "       [4],\n",
       "       [5],\n",
       "       [6],\n",
       "       [7],\n",
       "       [8]])"
      ]
     },
     "execution_count": 20,
     "metadata": {},
     "output_type": "execute_result"
    }
   ],
   "source": [
    "D = X.reshape(-1, 1)\n",
    "D"
   ]
  },
  {
   "cell_type": "markdown",
   "id": "ba816e6a-6d84-47e2-83a2-2b13d9ae76af",
   "metadata": {
    "tags": []
   },
   "source": [
    "\n",
    "---\n",
    "\n",
    "### 値を生成  \n",
    "\n",
    "- `np.arange(end)`  \n",
    "  0から1つずつカウント、`end`の手前で終了(endは含まれない)  \n",
    "- `np.arange(start, end)`  \n",
    "  `start`から1つずつカウント、`end`の手前で終了  \n",
    "- `np.arange(start, end, i)`  \n",
    "  `start`から`i`ずつカウント、`end`の手前で終了  \n"
   ]
  },
  {
   "cell_type": "code",
   "execution_count": 21,
   "id": "31e3f257-a6b7-4b61-9687-25f3523a3884",
   "metadata": {},
   "outputs": [
    {
     "data": {
      "text/plain": [
       "(array([0, 1, 2]), array([0, 1, 2]), array([0, 2, 4, 6, 8]))"
      ]
     },
     "execution_count": 21,
     "metadata": {},
     "output_type": "execute_result"
    }
   ],
   "source": [
    "np.arange(3), np.arange(0,3), np.arange(0,10,2)"
   ]
  },
  {
   "cell_type": "markdown",
   "id": "cad3d9ee-0614-4b9e-9d4f-ab7426a1cf75",
   "metadata": {
    "tags": []
   },
   "source": [
    "- 範囲内で複数の値を生成  \n",
    "  `np.linspace(最小値, 最大値, 要素数)`\n"
   ]
  },
  {
   "cell_type": "code",
   "execution_count": 22,
   "id": "23ed38af-5e4f-4baa-86fc-1aa3df4062fa",
   "metadata": {},
   "outputs": [
    {
     "name": "stdout",
     "output_type": "stream",
     "text": [
      "[ 0.   2.5  5.   7.5 10. ]\n",
      "[ 0.          3.33333333  6.66666667 10.        ]\n",
      "[0.  0.5 1.  1.5 2.  2.5 3.  3.5 4.  4.5 5.  5.5 6. ]\n",
      "[0.   0.05 0.1  0.15 0.2  0.25 0.3  0.35 0.4  0.45 0.5  0.55 0.6  0.65\n",
      " 0.7  0.75 0.8  0.85 0.9  0.95 1.  ]\n"
     ]
    }
   ],
   "source": [
    "print(np.linspace(0, 10, 5))\n",
    "print(np.linspace(0, 10, 4))\n",
    "print(np.linspace(0, 6, 13))\n",
    "print(np.linspace(0, 1, 21))"
   ]
  },
  {
   "cell_type": "markdown",
   "id": "1b4ae05b-6414-469e-9bc2-6d5fdaec36ff",
   "metadata": {
    "tags": []
   },
   "source": [
    "- 0.0以上、1.0未満の乱数を生成  \n",
    "  引数(縦：行, 横：列)を指定することで、行×列数分の配列を生成  \n"
   ]
  },
  {
   "cell_type": "code",
   "execution_count": 23,
   "id": "8c93d6dc-59c6-4a95-a9ff-6ed56e69acbc",
   "metadata": {},
   "outputs": [
    {
     "data": {
      "text/plain": [
       "array([[0.15288795, 0.11019678, 0.88093778, 0.71296679, 0.54998241],\n",
       "       [0.27342422, 0.45303177, 0.26227489, 0.66089498, 0.31900504],\n",
       "       [0.09322902, 0.57983716, 0.77286416, 0.23224791, 0.79939185],\n",
       "       [0.15514542, 0.73666912, 0.135337  , 0.25083672, 0.35167218]])"
      ]
     },
     "execution_count": 23,
     "metadata": {},
     "output_type": "execute_result"
    }
   ],
   "source": [
    "c = np.random.rand(4, 5) \n",
    "c"
   ]
  },
  {
   "cell_type": "markdown",
   "id": "da82f722-3727-47ad-aa18-8f79021fa1e9",
   "metadata": {},
   "source": [
    "- 正規分布：平均0、標準偏差1の乱数  \n",
    "  高速に生成できる`Generator.standard_normal`を使用する  \n",
    "  `standard_normal()`や`randn()`は古いとのこと  \n",
    "  - `default_rng`：コンストラクタ(乱数ジェネレータのインスタンスを生成)  "
   ]
  },
  {
   "cell_type": "code",
   "execution_count": 24,
   "id": "ac81c620-3ec4-47ba-97fa-ab25d892c295",
   "metadata": {},
   "outputs": [
    {
     "data": {
      "text/plain": [
       "array([-0.57762399, -0.90318523, -0.4807359 , -0.48970118, -0.20494291,\n",
       "        0.5620672 , -0.10051568,  0.736961  , -1.50288774, -0.31611523])"
      ]
     },
     "execution_count": 24,
     "metadata": {},
     "output_type": "execute_result"
    }
   ],
   "source": [
    "rng = np.random.default_rng()\n",
    "r = rng.standard_normal(10)\n",
    "r"
   ]
  },
  {
   "cell_type": "markdown",
   "id": "b8b480c6-c7ec-404b-956b-a91a4be3b93f",
   "metadata": {},
   "source": [
    "- 正規分布：範囲を指定する場合  \n",
    "  `rng.normal(平均値, 標準偏差, 個数 or (配列数))`  "
   ]
  },
  {
   "cell_type": "code",
   "execution_count": 25,
   "id": "501ca1e2-7ef1-4ca6-81d6-69a346366c84",
   "metadata": {},
   "outputs": [
    {
     "data": {
      "text/plain": [
       "array([[ 1.11586006e+00, -7.98614777e+00],\n",
       "       [-2.53749804e+01, -2.16101013e+00],\n",
       "       [-4.17585265e-03, -2.59219346e+01],\n",
       "       [-1.28227318e+01, -6.81429118e+00],\n",
       "       [-1.10783525e+01,  1.98789638e+01]])"
      ]
     },
     "execution_count": 25,
     "metadata": {},
     "output_type": "execute_result"
    }
   ],
   "source": [
    "rng = np.random.default_rng()\n",
    "r = rng.normal(0, 10, (5,2))\n",
    "r"
   ]
  },
  {
   "cell_type": "markdown",
   "id": "51724989-4d4f-417b-b5fa-58f7d0fe58e1",
   "metadata": {},
   "source": [
    "- meshgrid：格子点の組み合わせパターンを作成  "
   ]
  },
  {
   "cell_type": "code",
   "execution_count": 26,
   "id": "e2ffc326-4324-43aa-9b74-fa9cdd124a55",
   "metadata": {},
   "outputs": [
    {
     "name": "stdout",
     "output_type": "stream",
     "text": [
      "x = [0 1 2]\n",
      "y = [0 1 2]\n",
      "\n",
      "X\n",
      "[[0 1 2]\n",
      " [0 1 2]\n",
      " [0 1 2]]\n",
      "\n",
      "Y\n",
      "[[0 0 0]\n",
      " [1 1 1]\n",
      " [2 2 2]]\n",
      "\n",
      "X,Y\n",
      "[[[0 0]\n",
      "  [1 0]\n",
      "  [2 0]]\n",
      "\n",
      " [[0 1]\n",
      "  [1 1]\n",
      "  [2 1]]\n",
      "\n",
      " [[0 2]\n",
      "  [1 2]\n",
      "  [2 2]]]\n"
     ]
    }
   ],
   "source": [
    "x = np.arange(3)\n",
    "y = np.arange(3)\n",
    "print('x = ' + str(x))\n",
    "print('y = ' + str(y))\n",
    "\n",
    "# 格子点の組み合わせパターン\n",
    "X, Y = np.meshgrid(x, y)\n",
    "\n",
    "# 格子点を作成 → 深さ方向に結合\n",
    "Z = np.dstack([X, Y])\n",
    "\n",
    "print('\\nX\\n{}\\n'.format(X))\n",
    "print(\"Y\\n{}\".format(Y))\n",
    "print(\"\\nX,Y\\n{}\".format(Z))"
   ]
  },
  {
   "cell_type": "markdown",
   "id": "2d7d11e5-e3cc-492d-8707-4461d73d86eb",
   "metadata": {},
   "source": [
    "\n",
    "---\n",
    "\n",
    "### 配列から抽出  \n",
    "- 1つ抽出  "
   ]
  },
  {
   "cell_type": "code",
   "execution_count": 27,
   "id": "85d2cf0a-3cde-43bf-90a7-8c0e733539d4",
   "metadata": {
    "tags": []
   },
   "outputs": [
    {
     "data": {
      "text/plain": [
       "0.11019678012353429"
      ]
     },
     "execution_count": 27,
     "metadata": {},
     "output_type": "execute_result"
    }
   ],
   "source": [
    "v = c[0, 1]\n",
    "v"
   ]
  },
  {
   "cell_type": "markdown",
   "id": "fc8a2caa-5a2f-4eca-bb44-a151ea7ab7fa",
   "metadata": {},
   "source": [
    "- 範囲指定抽出  \n",
    "  - 2～3行目  \n",
    "  - 2～4列目  \n"
   ]
  },
  {
   "cell_type": "code",
   "execution_count": 28,
   "id": "fb7c15bc-3e0e-4881-a342-600ca2a2900f",
   "metadata": {},
   "outputs": [
    {
     "data": {
      "text/plain": [
       "array([[0.45303177, 0.26227489, 0.66089498],\n",
       "       [0.57983716, 0.77286416, 0.23224791]])"
      ]
     },
     "execution_count": 28,
     "metadata": {},
     "output_type": "execute_result"
    }
   ],
   "source": [
    "v = c[1:3, 1:4]\n",
    "\n",
    "v"
   ]
  },
  {
   "cell_type": "markdown",
   "id": "efaa0ccf-3fea-4983-9a49-7435be679625",
   "metadata": {},
   "source": [
    "\n",
    "---\n",
    "\n",
    "### 配列を更新  \n"
   ]
  },
  {
   "cell_type": "code",
   "execution_count": 29,
   "id": "a4da30bc-b7f7-432e-8800-fc52309054b1",
   "metadata": {},
   "outputs": [
    {
     "data": {
      "text/plain": [
       "array([[0.15288795, 0.11019678, 0.88093778, 0.71296679, 0.54998241],\n",
       "       [0.27342422, 0.        , 0.        , 0.        , 0.31900504],\n",
       "       [0.09322902, 0.        , 0.        , 0.        , 0.79939185],\n",
       "       [0.15514542, 0.73666912, 0.135337  , 0.25083672, 0.35167218]])"
      ]
     },
     "execution_count": 29,
     "metadata": {},
     "output_type": "execute_result"
    }
   ],
   "source": [
    "c[1:3, 1:4] = 0\n",
    "\n",
    "c"
   ]
  },
  {
   "cell_type": "markdown",
   "id": "d62d0e1a-1f09-480f-93ee-650b9b11bbfb",
   "metadata": {},
   "source": [
    "\n",
    "---\n",
    "\n",
    "### 計算  \n",
    "\n",
    "テストデータ  "
   ]
  },
  {
   "cell_type": "code",
   "execution_count": 30,
   "id": "15c53976-528a-4f54-bc2e-33cedd26756a",
   "metadata": {},
   "outputs": [
    {
     "data": {
      "text/plain": [
       "array([[6, 5, 6, 2, 8, 3, 6, 8, 0, 0],\n",
       "       [0, 4, 1, 7, 1, 9, 3, 4, 0, 4],\n",
       "       [2, 6, 0, 6, 3, 0, 1, 5, 7, 2],\n",
       "       [9, 2, 6, 5, 8, 4, 3, 8, 6, 8],\n",
       "       [9, 1, 8, 8, 4, 0, 3, 5, 3, 4],\n",
       "       [8, 6, 1, 3, 3, 6, 1, 9, 6, 4],\n",
       "       [6, 8, 5, 3, 7, 6, 7, 9, 3, 8],\n",
       "       [2, 3, 3, 2, 1, 4, 7, 7, 0, 7]])"
      ]
     },
     "execution_count": 30,
     "metadata": {},
     "output_type": "execute_result"
    }
   ],
   "source": [
    "x = np.random.randint(0, 10, (8, 10))\n",
    "\n",
    "x"
   ]
  },
  {
   "cell_type": "markdown",
   "id": "3deb0ecb-1c99-4136-a44d-62515b7a55fa",
   "metadata": {
    "tags": []
   },
   "source": [
    "- 平均  \n",
    "  - axis：平均を計算したい軸(何次元目に沿って計算するか)  "
   ]
  },
  {
   "cell_type": "code",
   "execution_count": 31,
   "id": "ac014e0b-31bc-46d3-94fd-5b8e677d885c",
   "metadata": {
    "tags": []
   },
   "outputs": [
    {
     "data": {
      "text/plain": [
       "4.475"
      ]
     },
     "execution_count": 31,
     "metadata": {},
     "output_type": "execute_result"
    }
   ],
   "source": [
    "x.mean()"
   ]
  },
  {
   "cell_type": "code",
   "execution_count": 32,
   "id": "57f5b5df-166d-4537-b862-6a5a008c2df1",
   "metadata": {},
   "outputs": [
    {
     "data": {
      "text/plain": [
       "array([4.4, 3.3, 3.2, 5.9, 4.5, 4.7, 6.2, 3.6])"
      ]
     },
     "execution_count": 32,
     "metadata": {},
     "output_type": "execute_result"
    }
   ],
   "source": [
    "x.mean(axis=1)"
   ]
  },
  {
   "cell_type": "code",
   "execution_count": 33,
   "id": "2a5e5551-0ade-4bc8-b029-7ffdca0b7c83",
   "metadata": {},
   "outputs": [
    {
     "data": {
      "text/plain": [
       "array([4.4, 3.3, 3.2, 5.9, 4.5, 4.7, 6.2, 3.6])"
      ]
     },
     "execution_count": 33,
     "metadata": {},
     "output_type": "execute_result"
    }
   ],
   "source": [
    "np.array([\n",
    "    x[0, :].mean(),\n",
    "    x[1, :].mean(),\n",
    "    x[2, :].mean(),\n",
    "    x[3, :].mean(),\n",
    "    x[4, :].mean(),\n",
    "    x[5, :].mean(),\n",
    "    x[6, :].mean(),\n",
    "    x[7, :].mean(),\n",
    "])"
   ]
  },
  {
   "cell_type": "markdown",
   "id": "d6134742-7be9-4b35-98a5-01f3989d2eda",
   "metadata": {},
   "source": [
    "- 最大・最小  "
   ]
  },
  {
   "cell_type": "code",
   "execution_count": 34,
   "id": "57f461e4-0a5f-4f0c-bc31-5e0cd5c7008f",
   "metadata": {},
   "outputs": [
    {
     "data": {
      "text/plain": [
       "9"
      ]
     },
     "execution_count": 34,
     "metadata": {},
     "output_type": "execute_result"
    }
   ],
   "source": [
    "x.max()"
   ]
  },
  {
   "cell_type": "code",
   "execution_count": 35,
   "id": "ad4b768b-affb-4227-a448-9550e3a866e6",
   "metadata": {},
   "outputs": [
    {
     "data": {
      "text/plain": [
       "0"
      ]
     },
     "execution_count": 35,
     "metadata": {},
     "output_type": "execute_result"
    }
   ],
   "source": [
    "x.min()"
   ]
  },
  {
   "cell_type": "markdown",
   "id": "43790bd5-b169-401b-ab3c-0856f6f9976e",
   "metadata": {
    "tags": []
   },
   "source": [
    "テストデータ  \n",
    "- 説明変数 X：平均気温(抜粋)  \n",
    "- 被説明変数 Y：支出額(抜粋)  "
   ]
  },
  {
   "cell_type": "code",
   "execution_count": 36,
   "id": "9c3f5388-05d8-46e9-ad16-8d24797beaec",
   "metadata": {},
   "outputs": [],
   "source": [
    "X = np.array([\n",
    "        9.1, 11.2, 12.3, 18.9, 22.2, 26. , 30.9, 31.2, 28.8, 23. , 18.3, 11.1\n",
    "    ])\n",
    "\n",
    "Y = np.array([\n",
    "        463.,  360.,  380.,  584.,  763.,  886., 1168., 1325.,  847., 542.,  441.,  499.\n",
    "    ])\n"
   ]
  },
  {
   "cell_type": "markdown",
   "id": "794bb503-8bea-4861-ba32-659a2152480c",
   "metadata": {},
   "source": [
    "- 合計  "
   ]
  },
  {
   "cell_type": "code",
   "execution_count": 37,
   "id": "b9ff35f7-109a-4aa7-b132-8121ccd157e1",
   "metadata": {},
   "outputs": [
    {
     "data": {
      "text/plain": [
       "(243.00000000000003, 8258.0)"
      ]
     },
     "execution_count": 37,
     "metadata": {},
     "output_type": "execute_result"
    }
   ],
   "source": [
    "X.sum(), Y.sum()"
   ]
  },
  {
   "cell_type": "markdown",
   "id": "56691aa3-7c1f-4be3-8983-38fd0489a538",
   "metadata": {
    "tags": []
   },
   "source": [
    "- 平均  "
   ]
  },
  {
   "cell_type": "code",
   "execution_count": 38,
   "id": "fb8505b9-213e-406e-9b81-48b2463f0f74",
   "metadata": {},
   "outputs": [
    {
     "data": {
      "text/plain": [
       "(20.250000000000004, 688.1666666666666)"
      ]
     },
     "execution_count": 38,
     "metadata": {},
     "output_type": "execute_result"
    }
   ],
   "source": [
    "X.mean(), Y.mean()"
   ]
  },
  {
   "cell_type": "markdown",
   "id": "5bdf6793-5e4d-4b9f-a973-189a32002bb5",
   "metadata": {
    "tags": []
   },
   "source": [
    "- 中央値  "
   ]
  },
  {
   "cell_type": "code",
   "execution_count": 39,
   "id": "dd074743-2a94-4fbb-9f9e-c342b24b0fc3",
   "metadata": {
    "tags": []
   },
   "outputs": [
    {
     "data": {
      "text/plain": [
       "(20.549999999999997, 563.0)"
      ]
     },
     "execution_count": 39,
     "metadata": {},
     "output_type": "execute_result"
    }
   ],
   "source": [
    "np.median(X), np.median(Y)"
   ]
  },
  {
   "cell_type": "markdown",
   "id": "959481b6-3500-44e6-923c-58c854908177",
   "metadata": {},
   "source": [
    "- 四分位数  "
   ]
  },
  {
   "cell_type": "code",
   "execution_count": 40,
   "id": "d24ce2b2-0c0c-4fee-bb7e-617f0140f32e",
   "metadata": {},
   "outputs": [
    {
     "data": {
      "text/plain": [
       "(12.025, 20.549999999999997, 26.7)"
      ]
     },
     "execution_count": 40,
     "metadata": {},
     "output_type": "execute_result"
    }
   ],
   "source": [
    "np.percentile(X, 25), np.percentile(X, 50), np.percentile(X, 75)"
   ]
  },
  {
   "cell_type": "code",
   "execution_count": 41,
   "id": "27ada3a9-7897-40e7-b4a6-c3fc81e01155",
   "metadata": {},
   "outputs": [
    {
     "data": {
      "text/plain": [
       "(457.5, 563.0, 856.75)"
      ]
     },
     "execution_count": 41,
     "metadata": {},
     "output_type": "execute_result"
    }
   ],
   "source": [
    "np.percentile(Y, 25), np.percentile(Y, 50), np.percentile(Y, 75)"
   ]
  },
  {
   "cell_type": "markdown",
   "id": "25eb9de1-b300-4288-9c67-89df1cb5280b",
   "metadata": {},
   "source": [
    "- 標準偏差  "
   ]
  },
  {
   "cell_type": "code",
   "execution_count": 42,
   "id": "d5542070-e971-4102-95f5-ec3e71d09c00",
   "metadata": {},
   "outputs": [
    {
     "data": {
      "text/plain": [
       "(7.68998266144556, 301.13862625412605)"
      ]
     },
     "execution_count": 42,
     "metadata": {},
     "output_type": "execute_result"
    }
   ],
   "source": [
    "X.std(), Y.std()"
   ]
  },
  {
   "cell_type": "markdown",
   "id": "1ed9d4f9-5927-4a71-a05b-e3925fa55355",
   "metadata": {
    "tags": []
   },
   "source": [
    "- 分散  \n",
    "  - 未指定 または `ddof=0`：標本分散 → 提示されたデータから、分散を「計算」 【通常はこちらを使用】  \n",
    "  - `ddof=1`：不偏分散 → 提示されたデータから、母集団全体の分散を「推定」  "
   ]
  },
  {
   "cell_type": "code",
   "execution_count": 43,
   "id": "bb247d1e-233f-4add-b496-81f03fb55518",
   "metadata": {},
   "outputs": [
    {
     "data": {
      "text/plain": [
       "(59.135833333333345, 90684.4722222222)"
      ]
     },
     "execution_count": 43,
     "metadata": {},
     "output_type": "execute_result"
    }
   ],
   "source": [
    "X.var(), Y.var()"
   ]
  },
  {
   "cell_type": "code",
   "execution_count": 44,
   "id": "29aeb823-1fe6-4eb3-ad2c-7a4edd851881",
   "metadata": {
    "tags": []
   },
   "outputs": [
    {
     "data": {
      "text/plain": [
       "(64.51181818181819, 98928.51515151514)"
      ]
     },
     "execution_count": 44,
     "metadata": {},
     "output_type": "execute_result"
    }
   ],
   "source": [
    "X.var(ddof=1), Y.var(ddof=1)"
   ]
  },
  {
   "cell_type": "markdown",
   "id": "6ceb99fc-bcd6-4aec-bdc5-faed7ba69aac",
   "metadata": {},
   "source": [
    "- ルート(√, 平方根)  \n",
    "  - 分散で二乗された数字を戻す  "
   ]
  },
  {
   "cell_type": "code",
   "execution_count": 45,
   "id": "46c40b06-d221-4466-90b6-1c9c3b8ad748",
   "metadata": {},
   "outputs": [
    {
     "data": {
      "text/plain": [
       "(7.68998266144556, 301.13862625412605)"
      ]
     },
     "execution_count": 45,
     "metadata": {},
     "output_type": "execute_result"
    }
   ],
   "source": [
    "np.sqrt(X.var()), np.sqrt(Y.var())"
   ]
  },
  {
   "cell_type": "markdown",
   "id": "ac4836b6-f764-4657-995f-2215a57844d3",
   "metadata": {},
   "source": [
    "- 共分散  \n",
    "  標本分散の場合、`ddof=0`を指定すること → `var()`とデフォルト値が異なる  \n",
    "  結果は以下のように格納される  \n",
    "  - 1行1列目(0,0)：Xの分散 → 上記var計算結果と同じ  \n",
    "  - 2行2列目(1,1)：Yの分散 → 上記var計算結果と同じ  \n",
    "  - (0,1)と(1,0)：XとYの共分散、どちらも同じ値(どちらかを取得すれば良い)  "
   ]
  },
  {
   "cell_type": "code",
   "execution_count": 46,
   "id": "f0ae1e16-b100-4969-ae4d-898a5937171a",
   "metadata": {
    "tags": []
   },
   "outputs": [
    {
     "data": {
      "text/plain": [
       "array([[5.91358333e+01, 2.05058333e+03],\n",
       "       [2.05058333e+03, 9.06844722e+04]])"
      ]
     },
     "execution_count": 46,
     "metadata": {},
     "output_type": "execute_result"
    }
   ],
   "source": [
    "v = np.cov(X,Y,ddof=0)\n",
    "v"
   ]
  },
  {
   "cell_type": "code",
   "execution_count": 47,
   "id": "a443612c-7ac8-4f53-a409-acc5ce44bbe2",
   "metadata": {},
   "outputs": [
    {
     "data": {
      "text/plain": [
       "(59.13583333333333, 90684.4722222222)"
      ]
     },
     "execution_count": 47,
     "metadata": {},
     "output_type": "execute_result"
    }
   ],
   "source": [
    "xvar = v[0,0]\n",
    "yvar = v[1,1]\n",
    "xvar, yvar"
   ]
  },
  {
   "cell_type": "code",
   "execution_count": 48,
   "id": "493c8ef4-7889-4863-9fdd-b15abf2b57d3",
   "metadata": {
    "tags": []
   },
   "outputs": [
    {
     "data": {
      "text/plain": [
       "2050.5833333333335"
      ]
     },
     "execution_count": 48,
     "metadata": {},
     "output_type": "execute_result"
    }
   ],
   "source": [
    "sxy = v[0, 1]\n",
    "sxy"
   ]
  },
  {
   "cell_type": "code",
   "execution_count": 49,
   "id": "5b1981d4-a8cf-47bd-b7c8-2579ce93988a",
   "metadata": {
    "tags": []
   },
   "outputs": [
    {
     "data": {
      "text/plain": [
       "2050.5833333333335"
      ]
     },
     "execution_count": 49,
     "metadata": {},
     "output_type": "execute_result"
    }
   ],
   "source": [
    "sxy = v[1, 0]\n",
    "sxy"
   ]
  },
  {
   "cell_type": "markdown",
   "id": "de006ef5-e845-4a1b-919d-e920881dea9c",
   "metadata": {
    "tags": []
   },
   "source": [
    "\n",
    "---\n",
    "\n",
    "### 最小二乗法による回帰係数の計算  \n",
    "\n",
    "#### 単回帰  \n",
    "- 回帰直線：Y = aX + b  \n",
    "- 傾き：a = x と y の共分散 / x の分散  \n",
    "- 切片：b = Yの平均 - (a * Xの平均)  "
   ]
  },
  {
   "cell_type": "code",
   "execution_count": 50,
   "id": "c8039254-a9d4-4c55-afac-409cd14f63ea",
   "metadata": {},
   "outputs": [
    {
     "data": {
      "text/plain": [
       "(34.67581697504334, -14.018627077961128)"
      ]
     },
     "execution_count": 50,
     "metadata": {},
     "output_type": "execute_result"
    }
   ],
   "source": [
    "a = sxy / xvar\n",
    "xmean = X.mean()\n",
    "ymean = Y.mean()\n",
    "b = ymean - a * xmean\n",
    "a, b"
   ]
  },
  {
   "cell_type": "markdown",
   "id": "a5b71802-8b92-4315-b06c-795b97297987",
   "metadata": {},
   "source": [
    "- `numpy.polyfit()`：線形回帰モデルのパラメータ `a` , `b` を算出  \n",
    "  - 回帰直線(単回帰)の場合：3番目の引数(次元数)に1を指定する  "
   ]
  },
  {
   "cell_type": "code",
   "execution_count": 51,
   "id": "4b0529e6-65b0-4a9c-b724-d43d9f5c642c",
   "metadata": {
    "tags": []
   },
   "outputs": [
    {
     "data": {
      "text/plain": [
       "array([ 34.67581698, -14.01862708])"
      ]
     },
     "execution_count": 51,
     "metadata": {},
     "output_type": "execute_result"
    }
   ],
   "source": [
    "W = np.polyfit(X, Y, 1)\n",
    "W"
   ]
  },
  {
   "cell_type": "markdown",
   "id": "3c969d1f-f80c-44e4-b654-f346bf6c60b3",
   "metadata": {},
   "source": [
    "- 値を検証  \n",
    "  `assert_allclose()` ：値がほぼ同じ場合は何も表示しない、差がある場合は`AssertionError`  "
   ]
  },
  {
   "cell_type": "code",
   "execution_count": 52,
   "id": "2780f4ac-590e-4c14-bb0d-ee2ac4cdf02c",
   "metadata": {},
   "outputs": [],
   "source": [
    "np.testing.assert_allclose((a, b), (W[0], W[1]))"
   ]
  },
  {
   "cell_type": "markdown",
   "id": "610c6c7c-0044-4152-8b13-05a1168f5f25",
   "metadata": {},
   "source": [
    "- AssertionErrorを発生させる場合は、コメントを外して実行  "
   ]
  },
  {
   "cell_type": "code",
   "execution_count": 53,
   "id": "2661df4d-d75e-4781-83f2-924586633a70",
   "metadata": {},
   "outputs": [],
   "source": [
    "#np.testing.assert_allclose((a, b), (35, W[1]))"
   ]
  },
  {
   "cell_type": "markdown",
   "id": "37d1a067-c35f-40d2-8380-1a4a532a894d",
   "metadata": {},
   "source": [
    "- `numpy.polyval()`：回帰直線：Y = aX + bの`Y`を算出  "
   ]
  },
  {
   "cell_type": "code",
   "execution_count": 54,
   "id": "7ef00f2a-0069-4811-aae6-8d1e5ac3c720",
   "metadata": {},
   "outputs": [
    {
     "data": {
      "text/plain": [
       "array([ 301.53130739,  374.35052304,  412.49392172,  641.35431375,\n",
       "        755.78450977,  887.55261427, 1057.46411745, 1067.86686254,\n",
       "        984.6449018 ,  783.52516335,  620.54882357,  370.88294135])"
      ]
     },
     "execution_count": 54,
     "metadata": {},
     "output_type": "execute_result"
    }
   ],
   "source": [
    "y_hat = np.polyval(W, X)\n",
    "y_hat"
   ]
  },
  {
   "cell_type": "markdown",
   "id": "893d6702-9526-4828-9d41-0514ecdfdef1",
   "metadata": {},
   "source": [
    "\n",
    "#### 多項式回帰  \n",
    "\n",
    "- 3次曲線：y = b0 + (b1 * x) + (b2 * x^2) + (b3 * x^3)  \n",
    "\n",
    "\n",
    "テストデータ  \n"
   ]
  },
  {
   "cell_type": "code",
   "execution_count": 55,
   "id": "233f54dc-5db2-4fec-852d-415042b7eae2",
   "metadata": {
    "tags": []
   },
   "outputs": [
    {
     "data": {
      "text/plain": [
       "(array([1, 3, 6, 8]), array([3, 6, 5, 7]))"
      ]
     },
     "execution_count": 55,
     "metadata": {},
     "output_type": "execute_result"
    }
   ],
   "source": [
    "D = np.array([[1, 3], [3, 6], [6, 5], [8, 7]])\n",
    "X = D[:,0]\n",
    "Y = D[:,1]\n",
    "X, Y"
   ]
  },
  {
   "cell_type": "markdown",
   "id": "fe3ba0a6-1a24-46d3-a880-3ed1536bbc38",
   "metadata": {},
   "source": [
    "フィッティング  \n",
    "- 3次曲線：3番目の引数(次元数)に3を指定する  \n",
    "- 結果は b3, b2, b1, b0 の順番で返却される  "
   ]
  },
  {
   "cell_type": "code",
   "execution_count": 56,
   "id": "0b86f1f1-3995-4fe7-a4ea-661cfb14f651",
   "metadata": {
    "tags": []
   },
   "outputs": [
    {
     "data": {
      "text/plain": [
       "array([ 0.09047619, -1.27142857,  5.40952381, -1.22857143])"
      ]
     },
     "execution_count": 56,
     "metadata": {},
     "output_type": "execute_result"
    }
   ],
   "source": [
    "W = np.polyfit(X, Y, 3)\n",
    "W"
   ]
  },
  {
   "cell_type": "markdown",
   "id": "7623a0ef-8bd5-4ae4-a1d7-0668bdd5d1ae",
   "metadata": {},
   "source": [
    "\n",
    "---\n",
    "\n",
    "### 配列のまま計算  \n",
    "\n",
    "要素毎に計算し、結果を配列で返却  \n",
    "\n",
    "- 例：各行で`(y - a * x - b)^2`を計算、平均を算出  "
   ]
  },
  {
   "cell_type": "code",
   "execution_count": 57,
   "id": "980d8a85-9562-4b98-b48e-55ca7e1fd12e",
   "metadata": {},
   "outputs": [
    {
     "name": "stdout",
     "output_type": "stream",
     "text": [
      "v = [36 49 64]\n",
      "v.mean() = 49.666666666666664\n"
     ]
    }
   ],
   "source": [
    "D = np.array([[2, 4],\n",
    "              [3, 6], \n",
    "              [4, 8] \n",
    "             ])\n",
    "a = 3\n",
    "b = 4\n",
    "\n",
    "v = (D[:,1] - a * D[:,0] - b) ** 2\n",
    "print('v = ' + str(v))\n",
    "print('v.mean() = ' + str(v.mean()))\n"
   ]
  },
  {
   "cell_type": "markdown",
   "id": "9f6f3ffc-69fd-4195-983f-5d297b1c056f",
   "metadata": {},
   "source": [
    "\n",
    "---\n"
   ]
  }
 ],
 "metadata": {
  "kernelspec": {
   "display_name": "mlnote:Python",
   "language": "python",
   "name": "conda-env-mlnote-py"
  },
  "language_info": {
   "codemirror_mode": {
    "name": "ipython",
    "version": 3
   },
   "file_extension": ".py",
   "mimetype": "text/x-python",
   "name": "python",
   "nbconvert_exporter": "python",
   "pygments_lexer": "ipython3",
   "version": "3.10.6"
  }
 },
 "nbformat": 4,
 "nbformat_minor": 5
}
