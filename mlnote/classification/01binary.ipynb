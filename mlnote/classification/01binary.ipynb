{
 "cells": [
  {
   "cell_type": "markdown",
   "metadata": {},
   "source": [
    "# 線形二値分類"
   ]
  },
  {
   "cell_type": "code",
   "execution_count": 1,
   "metadata": {},
   "outputs": [],
   "source": [
    "import numpy as np\n",
    "import matplotlib.pyplot as plt\n",
    "import pandas as pd\n",
    "from collections import Counter\n",
    "from sklearn.model_selection import train_test_split\n",
    "from sklearn.preprocessing import LabelEncoder\n",
    "from sklearn.feature_extraction import DictVectorizer\n",
    "from sklearn.linear_model import SGDClassifier"
   ]
  },
  {
   "cell_type": "markdown",
   "metadata": {},
   "source": [
    "\n",
    "---\n",
    "\n",
    "## 【補足】二値分類とは  \n",
    "\n",
    "2つの事象のうち、どちらに属するかを予測する  \n",
    "\n",
    "- 写真に写っている動物が「犬」か「猫」か  \n",
    "- 顧客が商品を「買う」か「買わない」か  \n",
    "- Eメールが「スパム」か「スパムでない」か  \n",
    "\n",
    "\n",
    "参考：[【機械学習入門】ロジスティック回帰で二値分類を実装してみよう](https://hosl.dev/python/python-logistic/)  \n",
    "\n",
    "---"
   ]
  },
  {
   "cell_type": "markdown",
   "metadata": {},
   "source": [
    "## 二値分類の例：スパム判定\n",
    "\n",
    "電子メールは誰にでもすぐにメッセージを送ることができるので便利である一方、自分が受け取りたくないスパムメール（迷惑メール）が送られてくることがある。[総務省の統計](https://www.soumu.go.jp/main_sosiki/joho_tsusin/d_syohi/m_mail.html)によると、電気通信事業者１０社の全受信メール数に対する[迷惑メール数の割合は約50%（2020年3月時点）](https://www.soumu.go.jp/main_content/000693529.pdf)である。そこで、多くのメールサーバやメールクライアントではスパムメールを自動で認識し、利用者の目に触れさせない機能（スパムフィルタ）が搭載されている。スパムフィルタの主なタスクは、与えられたメールがスパムであるか、スパムではないか自動的に判定することである。この判定を行うモジュール、すなわちスパム判定器を構築するのが、今回のお題である。\n",
    "\n",
    "では、スパム判定器をどのように構築すればよいか。以下のスパムメールを具体例として考えたい。\n",
    "\n",
    "![spam](fig/spam-s.png \"スパムメールの例\")"
   ]
  },
  {
   "cell_type": "markdown",
   "metadata": {},
   "source": [
    "このメールの本文中で\"I am Victoriya\", \"search for boy-friend\", \"Ny photos\"などのフレーズが出てくることに着目し、これらのフレーズが本文中に含まれているメールをスパムと判定するには、次のようなルールを実装するかもしれない。"
   ]
  },
  {
   "cell_type": "code",
   "execution_count": 2,
   "metadata": {
    "tags": []
   },
   "outputs": [],
   "source": [
    "def is_spam(x):\n",
    "    if x.find('I am Victoriya') != -1:\n",
    "        return True\n",
    "    if x.find('search for boy-friend') != -1:\n",
    "        return True\n",
    "    if x.find('Ny photos') != -1:\n",
    "        return True\n",
    "    #\n",
    "    # ... (大量の判定ルール)\n",
    "    #\n",
    "    return False"
   ]
  },
  {
   "cell_type": "code",
   "execution_count": 3,
   "metadata": {},
   "outputs": [
    {
     "data": {
      "text/plain": [
       "True"
      ]
     },
     "execution_count": 3,
     "metadata": {},
     "output_type": "execute_result"
    }
   ],
   "source": [
    "is_spam('I am Victoriya, I am 27 y.o.')"
   ]
  },
  {
   "cell_type": "code",
   "execution_count": 4,
   "metadata": {},
   "outputs": [
    {
     "data": {
      "text/plain": [
       "True"
      ]
     },
     "execution_count": 4,
     "metadata": {},
     "output_type": "execute_result"
    }
   ],
   "source": [
    "is_spam('I search for boy-friend.')"
   ]
  },
  {
   "cell_type": "markdown",
   "metadata": {},
   "source": [
    "このようにメールの本文に関して、スパムである条件を記述していくアプローチを**ルール**に基づく手法と呼ぶ。ルールに基づく手法は、訓練データが少ないときは迅速に作ることができる、スパムと判定する条件が明解であるという利点がある。一方で、スパムと判定する条件を詳細化するほどプログラムが複雑になるため、ルールの保守が難しい。また、英語のスパムメールのために作ったルールを、日本語のスパムメールに適用することができないため、特定の言語やジャンルにおけるメールにしか対応できない。"
   ]
  },
  {
   "cell_type": "markdown",
   "metadata": {},
   "source": [
    "そこで、教師あり学習を用いてスパム判定器を構築することを考える。より具体的には、メールを$d$次元の説明変数$\\pmb{x} \\in \\mathbb{R}^d$で表現し、スパムメールか（$1$）スパムメールでないか（$0$）を表す目的変数（出力）$y \\in \\{0, 1\\}$を考える。説明変数から目的変数を計算する関数$f: \\mathbb{R}^d \\longmapsto \\{0, 1\\}$を教師データ$\\mathcal{D}$から学習することで、スパム判定器を構築できる。説明変数から$\\{0, 1\\}$などの離散値を取る目的変数を求めることを**分類**（classification）もしくは**識別**と呼ぶ。分類において目的変数が取りうる値は、**クラス**や**カテゴリ**などと呼ばれる。特に、説明変数の取りうる値が２つのクラスに限定された分類を、**二値分類**（binary classification）と呼ぶ。\n",
    "\n",
    "以下の図は、機械学習によるスパムフィルターの典型的な動作を示している。スパムメールに関する教師データを使い、事前にスパム判定器を学習しておく。そして、与えられたメールに対して、スパム判定器はメールがスパムであるかどうか推定する。スパムと判定されたメールはスパムフォルダーに自動的に仕分けすることで、新着メールとして表示させないようにする。ただ、スパム判定器が間違った判定をしてしまうことがある。例えば、本当はスパムであるメールをスパムではないと判定してしまうと、新着メールとして表示されてしまう。このとき、メールを閲覧したユーザがそのメールにスパムであることの目印（フラグ）を付けたとする（スパムフォルダーに移動させてもよい）。これは、スパムメールの新しい学習事例を作ったことに相当する。そこで、この新しい学習事例を教師データとしてスパム判定器を再学習すると、スパム判定の性能が向上すると期待される。以降では、スパム判定などの二値分類を実現するモデルと、その学習方法や評価方法を説明する。\n",
    "\n",
    "<img src=\"fig/spam-filter.svg\" alt=\"スパム判定器\" width=\"480px\">\n",
    "\n",
    "なお、スパムの語源はイギリスBBCが1970年頃に制作した『[空飛ぶモンティ・パイソン](https://ja.wikipedia.org/wiki/%E7%A9%BA%E9%A3%9B%E3%81%B6%E3%83%A2%E3%83%B3%E3%83%86%E3%82%A3%E3%83%BB%E3%83%91%E3%82%A4%E3%82%BD%E3%83%B3)』のスケッチ「[スパム](https://ja.wikipedia.org/wiki/%E3%82%B9%E3%83%91%E3%83%A0_(%E3%83%A1%E3%83%BC%E3%83%AB))」から来ていると言われている（以下は2014年に行われた[復活ライブ](https://ja.wikipedia.org/wiki/%E3%83%A2%E3%83%B3%E3%83%86%E3%82%A3%E3%83%BB%E3%83%91%E3%82%A4%E3%82%BD%E3%83%B3_%E5%BE%A9%E6%B4%BB%E3%83%A9%E3%82%A4%E3%83%96!)の時に使われた\n",
    "メニュー）。\n",
    "\n",
    "<a title=\"Eduardo Unda-Sanzana from Antofagasta, Chile, CC BY 2.0 &lt;https://creativecommons.org/licenses/by/2.0&gt;, via Wikimedia Commons\" href=\"https://commons.wikimedia.org/wiki/File:Monty_Python_Live_02-07-14_13_04_42_(14598710791).jpg\"><img width=\"256\" alt=\"Monty Python Live 02-07-14 13 04 42 (14598710791)\" src=\"https://upload.wikimedia.org/wikipedia/commons/thumb/8/8e/Monty_Python_Live_02-07-14_13_04_42_%2814598710791%29.jpg/256px-Monty_Python_Live_02-07-14_13_04_42_%2814598710791%29.jpg\"></a>\n",
    "\n",
    "メールのスパム判定以外にも、二値分類には様々な応用例がある。\n",
    "\n",
    "+ 臨床検査: 血液検査やアンケートの回答などの説明変数から、患者の病気や異常の有無を判定する\n",
    "+ 与信調査: 属性情報や過去の取引履歴から顧客の信用の有無を判定する\n",
    "+ 当落予測: 世論調査や出口調査の結果から、候補者の当選・落選を予測する"
   ]
  },
  {
   "cell_type": "markdown",
   "metadata": {},
   "source": [
    "## 線形二値分類"
   ]
  },
  {
   "cell_type": "markdown",
   "metadata": {},
   "source": [
    "**線形二値分類** (linear binary classification) は、$d$次元の特徴ベクトルで表現された事例$\\pmb{x} \\in \\mathbb{R}^{d}$が与えられた時、線形モデルのパラメータ$\\pmb{w} \\in \\mathbb{R}^{d}$との内積を計算し、その正負によってラベル$\\hat{y} \\in \\{1, 0\\}$を推定する。\n",
    "\n",
    "---\n",
    "\n",
    "### 【ポイント】線形二値分類のラベル推定式  \n",
    "\n",
    "<a id=\"f5-1\"></a>\n",
    "(5.1)  \n",
    "$$\n",
    "\\begin{gather}\n",
    "    \\hat{y} = \\begin{cases}\n",
    "        1 & \\left(\\pmb{x}^\\top \\pmb{w} > 0\\right) \\\\\n",
    "        0 & (\\mbox{それ以外})\n",
    "    \\end{cases}\n",
    "\\end{gather}\n",
    "$$\n",
    "\n",
    "---\n",
    "\n",
    "スパム判定では、スパムメールを$\\hat{y} = 1$、スパムではないメールを$\\hat{y} = 0$などと定義する。二値分類において、$\\hat{y} = 1$の事例を**正例**（positive example）、$\\hat{y} = 0$の事例を**負例**（negative example）と呼ぶことがある。\n",
    "\n",
    "メールがスパムであるか判定するための手がかりは色々考えられるが、ここでは簡単のため、$d=9$次元の特徴空間を例として用いる。この特徴空間の$1$次元目は、与えられたメールの本文に\"attached\"という単語が含まれるならば$1$、含まれなければ$0$とする。同様に、$2$次元目から$8$次元目まで、メール本文中に、それぞれ\"darling\", \"file\", \"hi\", \"kyoto\", \"mark\", \"my\", \"photo\"という単語が含まれるかどうかを表現する。$9$次元目はメールの内容に関わらず常に$1$とする。例えば、スパム判定を行いたいメールの本文が\"Hi darling, my photo in attached file\"であった場合、事例$\\pmb{x} \\in \\mathbb{R}^9$は、\n",
    "\n",
    "<a id=\"f5-2\"></a>\n",
    "(5.2)  \n",
    "\\begin{gather}\n",
    " \\pmb{x} = \\begin{pmatrix}\n",
    "1 & 1 & 1 & 1 & 0 & 0 & 1 & 1 & 1\n",
    "\\end{pmatrix}^\\top\n",
    "\\end{gather}\n",
    "\n",
    "線形二値分類は、事例$\\pmb{x}$とパラメータ$\\pmb{w}$の内積、\n",
    "\n",
    "<a id=\"f5-3\"></a>\n",
    "(5.3)  \n",
    "\\begin{gather}\n",
    " \\pmb{x}^\\top \\pmb{w} = \\begin{pmatrix}\n",
    "1 & 1 & 1 & 1 & 0 & 0 & 1 & 1 & 1\n",
    "\\end{pmatrix} \\begin{pmatrix}\n",
    "w_1 \\\\\n",
    "w_2 \\\\\n",
    "w_3 \\\\\n",
    "w_4 \\\\\n",
    "w_5 \\\\\n",
    "w_6 \\\\\n",
    "w_7 \\\\\n",
    "w_8 \\\\\n",
    "w_9\n",
    "\\end{pmatrix} =w_1 + w_2 + w_3 + w_4 + w_7 + w_8 + w_9\n",
    "\\end{gather}\n",
    "\n",
    "を計算し、その符号が正ならば事例をスパム（$\\hat{y} = 1$）と判定し、$0$以下ならばスパムでない（$\\hat{y} = 0$）と判定する。つまり、メールに含まれている単語$j$に対応する重み$w_j$の和でメールのスパムらしさをスコア付けし、そのスコアがしきい値$0$を超えたらスパムメールと判定する。\n",
    "\n",
    "なお、特徴ベクトルの$d$次元目の値が常に$1$であることに注意して、正例・負例の判別条件を求めると、\n",
    "\n",
    "<a id=\"f5-4\"></a>\n",
    "(5.4)  \n",
    "\\begin{align}\n",
    " \\pmb{x}^\\top\\pmb{w} = \\sum_{j=1}^{d} w_j x_j = \\sum_{j=1}^{d-1} w_j x_j + w_d &> 0 \\\\\n",
    " \\sum_{j=1}^{d-1} w_j x_j &> -w_d\n",
    "\\end{align}\n",
    "\n",
    "となる。すなわち、事例を分類するしきい値を$0$に固定するのではなく、重み$-w_9$でしきい値を自動的に調整する効果が得られる。このように、すべての事例で$1$となる特徴量を入れておくことで、線形二値分類モデルのバイアス項を導入できる。\n",
    "\n",
    "線形モデルのパラメータ$\\pmb{w}$は、学習データによく合致するように（例えば学習データ上においてスパム判定が正しく行えるように）決定する。モデルのパラメータ$\\pmb{w}$を推定する方法は色々あるが、ここではロジスティック回帰に基づく確率的勾配降下法を紹介する。"
   ]
  },
  {
   "cell_type": "markdown",
   "metadata": {},
   "source": [
    "## ロジスティック回帰"
   ]
  },
  {
   "cell_type": "markdown",
   "metadata": {},
   "source": [
    "\n",
    "---\n",
    "\n",
    "## 【補足】ロジスティック回帰とは  \n",
    "\n",
    "ある事象が起こる確率を学習するためのアルゴリズム  \n",
    "この確率を利用して、ある事象が「起こる」「起こらない」という二値分類ができる  \n",
    "\n",
    "\n",
    "例）「タイタニック号の乗客が生存したかどうか」\n",
    "- 名前  \n",
    "- 性別  \n",
    "- 客室の等級  \n",
    "- 生存したかどうか(0 or 1)  \n",
    "\n",
    "\n",
    "62歳男性が、等級1の客室に乗船していた場合、32%の確率で生存している  \n",
    "50%未満は「0：死亡」とする  \n",
    "\n",
    "\n",
    "理解度upのため新規Notebook「01titanic.ipynb」を作成  \n",
    "\n",
    "\n",
    "---"
   ]
  },
  {
   "cell_type": "markdown",
   "metadata": {},
   "source": [
    "**ロジスティック回帰**（logistic regression）は線形二値分類を実現するモデルの一つで、  \n",
    "事例$\\pmb{x}$に対するラベル$\\hat{y} \\in \\{1, 0\\}$の  \n",
    "**「条件付き確率$p(y|\\pmb{x})$」** を以下の式で求める。\n",
    "\n",
    "---\n",
    "\n",
    "### 【ポイント】ロジスティック回帰  \n",
    "\n",
    "<a id=\"f5-5\"></a>\n",
    "(5.5)  \n",
    "\\begin{align}\n",
    " P(\\hat{y} = 1|\\pmb{x}) &= \\sigma(\\pmb{x}^\\top \\pmb{w}) = \\frac{1}{1 + \\exp\\left(-\\pmb{x}^\\top \\pmb{w}\\right)} \\\\\n",
    " P(\\hat{y} = 0|\\pmb{x}) &= 1 - P(\\hat{y} = 1|\\pmb{x})\n",
    "\\end{align}\n",
    "\n",
    "---\n"
   ]
  },
  {
   "cell_type": "markdown",
   "metadata": {},
   "source": [
    "ただし、$\\sigma(a)$は**シグモイド関数** (sigmoid function) である。\n",
    "\n",
    "---\n",
    "\n",
    "### 【ポイント】シグモイド関数  \n",
    "\n",
    "<a id=\"f5-6\"></a>\n",
    "(5.6)  \n",
    "$$\n",
    "\\begin{gather}\n",
    "\\sigma(a) = \\frac{1}{1 + \\exp\\left(-a\\right)}\n",
    "\\end{gather}\n",
    "$$\n",
    "\n",
    "---\n",
    "\n",
    "### 【補足】シグモイド関数とは  \n",
    "\n",
    "あらゆる入力値を「0.0～1.0」の数値に変換する関数  \n",
    "\n",
    "- グラフがS字に見えるため、シグモイド関数と呼ばれる  \n",
    "- ギリシャ文字のシグマ「Σ」は、英語の「S」に相当  \n",
    "  - 大文字のΣ：合計・総和 (Summetion)  \n",
    "  - 小文字のσ：標準偏差 (Standard deviation)  \n",
    "\n",
    "\n",
    "`numpy.exp()`：ネイピア数(e=2.718・・・)を使用した指数関数  \n",
    "\n",
    "\\begin{align}\n",
    "\\pmb{y} = \\pmb{e}^x\n",
    "\\end{align}\n",
    "\n",
    "\n",
    "---\n",
    "\n",
    "シグモイド関数の形状を以下に示す。"
   ]
  },
  {
   "cell_type": "code",
   "execution_count": 5,
   "metadata": {},
   "outputs": [
    {
     "data": {
      "image/png": "[encoded data removed]",
      "text/plain": [
       "<Figure size 640x480 with 1 Axes>"
      ]
     },
     "metadata": {},
     "output_type": "display_data"
    }
   ],
   "source": [
    "fig, ax = plt.subplots()\n",
    "x = np.linspace(-10, 10, 1000)\n",
    "ax.plot(x, 1 / (1 + np.exp(-x)))\n",
    "ax.set_xlabel('$a$')\n",
    "ax.set_ylabel('$\\sigma(a)$')\n",
    "ax.grid()\n",
    "plt.show()"
   ]
  },
  {
   "cell_type": "markdown",
   "metadata": {},
   "source": [
    "この形状から明らかなように、シグモイド関数は、以下の特徴を持つ。\n",
    "\n",
    "+ $(-\\infty, +\\infty) \\to (0, 1)$の単調増加関数\n",
    "+ $\\lim_{a \\to -\\infty} \\sigma(a) = 0$\n",
    "+ $\\lim_{a \\to +\\infty} \\sigma(a) = 1$\n",
    "+ $(0, 0.5)$に関して点対称"
   ]
  },
  {
   "cell_type": "markdown",
   "metadata": {},
   "source": [
    "ゆえに、ロジスティック回帰は線形二値分類モデルの内積値$\\pmb{x}^\\top\\pmb{w}$をシグモイド関数$\\sigma$で確率値に変換していると理解することができる。また、\n",
    "\n",
    "<a id=\"f5-7\"></a>\n",
    "(5.7)  \n",
    "$$\n",
    "\\begin{align}\n",
    " 1 - \\sigma(a) = \\frac{\\left\\{1 + e^{-a}\\right\\} - 1}{1 + e^{-a}} = \\frac{e^{-a}}{1 + e^{-a}} = \\frac{e^a e^{-a}}{e^a(1 + e^{-a})} = \\frac{1}{1 + e^a} = \\sigma(-a)\n",
    "\\end{align}\n",
    "$$\n",
    "\n",
    "であるから、\n",
    "\n",
    "<a id=\"f5-8\"></a>\n",
    "(5.8)  \n",
    "\\begin{align}\n",
    " P(\\hat{y} = 1|\\pmb{x}) &= \\sigma(\\pmb{x}^\\top \\pmb{w}) \\\\\n",
    " P(\\hat{y} = 0|\\pmb{x}) &= 1 - P(\\hat{y} = 1|\\pmb{x}) = 1 - \\sigma(\\pmb{x}^\\top \\pmb{w}) = \\sigma(-\\pmb{x}^\\top \\pmb{w})\n",
    "\\end{align}\n",
    "\n",
    "なお、事例$\\pmb{x}$を$\\hat{y}=1$と予測する確率が$0.5$を上回る条件を求めると、線形二値分類の判別式[(5.1)](#f5-1)と整合することが確認できる。\n",
    "\n",
    "<a id=\"f5-9\"></a>\n",
    "(5.9)  \n",
    "\\begin{align}\n",
    " P(\\hat{y} = 1|\\pmb{x}) > 0.5 \\Leftrightarrow \\frac{1}{1 + \\exp\\left(-\\pmb{x}^\\top \\pmb{w}\\right)} > \\frac{1}{2} \\Leftrightarrow 2 > 1 + \\exp\\left(-\\pmb{x}^\\top \\pmb{w}\\right) \\Leftrightarrow \\pmb{x}^\\top \\pmb{w} > 0\n",
    "\\end{align}"
   ]
  },
  {
   "cell_type": "markdown",
   "metadata": {},
   "source": [
    "### シグモイド関数の実装\n",
    "\n",
    "シグモイド関数$\\sigma(a)$を素直に実装すると、以下のようなプログラムになるであろう。"
   ]
  },
  {
   "cell_type": "code",
   "execution_count": 6,
   "metadata": {},
   "outputs": [],
   "source": [
    "def sigmoid(a):\n",
    "    return 1 / (1 + np.exp(-a))"
   ]
  },
  {
   "cell_type": "code",
   "execution_count": 7,
   "metadata": {},
   "outputs": [
    {
     "data": {
      "text/plain": [
       "0.5"
      ]
     },
     "execution_count": 7,
     "metadata": {},
     "output_type": "execute_result"
    }
   ],
   "source": [
    "sigmoid(0)"
   ]
  },
  {
   "cell_type": "code",
   "execution_count": 8,
   "metadata": {},
   "outputs": [
    {
     "data": {
      "text/plain": [
       "(0.9525741268224334, 0.04742587317756678)"
      ]
     },
     "execution_count": 8,
     "metadata": {},
     "output_type": "execute_result"
    }
   ],
   "source": [
    "sigmoid(3), sigmoid(-3)"
   ]
  },
  {
   "cell_type": "markdown",
   "metadata": {},
   "source": [
    "ところが、$a=-1000$とすると$e^{1000}$の計算でオーバーフローが発生する。"
   ]
  },
  {
   "cell_type": "code",
   "execution_count": 9,
   "metadata": {},
   "outputs": [
    {
     "name": "stderr",
     "output_type": "stream",
     "text": [
      "/tmp/ipykernel_528/771757617.py:2: RuntimeWarning: overflow encountered in exp\n",
      "  return 1 / (1 + np.exp(-a))\n"
     ]
    },
    {
     "data": {
      "text/plain": [
       "0.0"
      ]
     },
     "execution_count": 9,
     "metadata": {},
     "output_type": "execute_result"
    }
   ],
   "source": [
    "sigmoid(-1000.)"
   ]
  },
  {
   "cell_type": "markdown",
   "metadata": {},
   "source": [
    "この問題を回避するには、式[(5.7)](#f5-7)より$\\sigma(-a) = 1 - \\sigma(a)$であることを利用し、`np.exp`の計算結果が大きくならないようにすればよい。"
   ]
  },
  {
   "cell_type": "code",
   "execution_count": 10,
   "metadata": {},
   "outputs": [],
   "source": [
    "def sigmoid(a):\n",
    "    if 0 <= a:\n",
    "        return 1 / (1 + np.exp(-a))\n",
    "    else:\n",
    "        return 1. - 1 / (1 + np.exp(a))"
   ]
  },
  {
   "cell_type": "code",
   "execution_count": 11,
   "metadata": {},
   "outputs": [
    {
     "data": {
      "text/plain": [
       "0.0"
      ]
     },
     "execution_count": 11,
     "metadata": {},
     "output_type": "execute_result"
    }
   ],
   "source": [
    "sigmoid(-1000.)"
   ]
  },
  {
   "cell_type": "markdown",
   "metadata": {},
   "source": [
    "\n",
    "---\n",
    "\n",
    "## 【補足】尤度とは  \n",
    "\n",
    "尤度 (ゆうど)  \n",
    "尤もらしい (もっともらしい)  \n",
    "→ 「どれぐらい起こりやすいか」を表す指標  \n",
    "\n",
    "\n",
    "観測データを取得してから、それを説明するモデルのパラメータが「もっともらしいか」を計測する  \n",
    "\n",
    "### 例題  \n",
    "\n",
    "参考：[【5分でわかる】尤度と最尤推定の概念](https://okigaru-data-science.com/maximum-likelihood/)  \n",
    "\n",
    "\n",
    "箱の中に「白い石」または「黒い石」が「合計4個」入っている  \n",
    "その中から「1個取り出してから戻す」作業を3回繰り返したところ、以下の結果になった    \n",
    "- 1回目：白  \n",
    "- 2回目：白  \n",
    "- 3回目：黒  \n",
    "\n",
    "\n",
    "#### 「白」「黒」の考えられる組み合わせ  \n",
    "\n",
    "組み合わせ毎に、尤度を算出  \n",
    "\n",
    "- 白：1個、黒：3個の場合  \n",
    "  - 「1回目：白」になる確率 → 1/4  \n",
    "  - 「2回目：白」になる確率 → 1/4  \n",
    "  - 「3回目：黒」になる確率 → 3/4  \n"
   ]
  },
  {
   "cell_type": "code",
   "execution_count": 12,
   "metadata": {},
   "outputs": [
    {
     "data": {
      "text/plain": [
       "0.046875"
      ]
     },
     "execution_count": 12,
     "metadata": {},
     "output_type": "execute_result"
    }
   ],
   "source": [
    "# 尤度  \n",
    "w1b3 = 1/4 * 1/4 * 3/4\n",
    "w1b3"
   ]
  },
  {
   "cell_type": "markdown",
   "metadata": {},
   "source": [
    "- 白：2個、黒：2個の場合  \n",
    "  - 「1回目：白」になる確率 → 2/4  \n",
    "  - 「2回目：白」になる確率 → 2/4  \n",
    "  - 「3回目：黒」になる確率 → 2/4  \n"
   ]
  },
  {
   "cell_type": "code",
   "execution_count": 13,
   "metadata": {},
   "outputs": [
    {
     "data": {
      "text/plain": [
       "0.125"
      ]
     },
     "execution_count": 13,
     "metadata": {},
     "output_type": "execute_result"
    }
   ],
   "source": [
    "# 尤度  \n",
    "w2b2 = 2/4 * 2/4 * 2/4\n",
    "w2b2"
   ]
  },
  {
   "cell_type": "markdown",
   "metadata": {},
   "source": [
    "- 白：3個、黒：1個の場合  \n",
    "  - 「1回目：白」になる確率 → 3/4  \n",
    "  - 「2回目：白」になる確率 → 3/4  \n",
    "  - 「3回目：黒」になる確率 → 1/4  \n"
   ]
  },
  {
   "cell_type": "code",
   "execution_count": 14,
   "metadata": {},
   "outputs": [
    {
     "data": {
      "text/plain": [
       "0.140625"
      ]
     },
     "execution_count": 14,
     "metadata": {},
     "output_type": "execute_result"
    }
   ],
   "source": [
    "# 尤度  \n",
    "w3b1 = 3/4 * 3/4 * 1/4\n",
    "w3b1"
   ]
  },
  {
   "cell_type": "markdown",
   "metadata": {},
   "source": [
    "#### 最尤推定  \n",
    "最尤推定量：最ももっともらしい尤度を推定  \n",
    "→ 箱の中は「白：3個、黒：1個」が、もっともらしい  "
   ]
  },
  {
   "cell_type": "code",
   "execution_count": 15,
   "metadata": {},
   "outputs": [
    {
     "data": {
      "text/plain": [
       "0.140625"
      ]
     },
     "execution_count": 15,
     "metadata": {},
     "output_type": "execute_result"
    }
   ],
   "source": [
    "d = np.array([w1b3, w2b2, w3b1])\n",
    "d.max()"
   ]
  },
  {
   "cell_type": "markdown",
   "metadata": {},
   "source": [
    "\n",
    "---\n"
   ]
  },
  {
   "cell_type": "markdown",
   "metadata": {},
   "source": [
    "## データの表現\n",
    "\n",
    "分類問題のデータの表現方法は回帰と同様である。説明変数と目的変数の一つの組を学習事例として表現する。$1$番目の学習事例を$(\\pmb{x}_1, y_1)$、$2$番目の学習事例を$(\\pmb{x}_2, y_2)$、$i$番目の学習事例を$(\\pmb{x}_i, y_i)$と表すことにすると、$N$個の事例からなるデータ$\\mathcal{D}$は次のように表される。\n",
    "\n",
    "<a id=\"f5-10\"></a>\n",
    "(5.10)  \n",
    "\\begin{align}\n",
    "\\mathcal{D} = \\left\\{(\\pmb{x}_1, y_1), (\\pmb{x}_2, y_2), \\dots, (\\pmb{x}_N, y_N)\\right\\} = \\left\\{(\\pmb{x}_i, y_i)\\right\\}_{i=1}^{N}\n",
    "\\end{align}\n",
    "\n",
    "以降では、2個の学習事例（$N=2$）からなる単純なデータ$\\mathcal{D}_{s}$を例として用いる。\n",
    "\n",
    "<a id=\"f5-11\"></a>\n",
    "(5.11)  \n",
    "\\begin{align}\n",
    "\\mathcal{D}_s &= \\left\\{(\\pmb{x}_i, y_i)\\right\\}_{i=1}^{2} = \\left\\{(\\pmb{x}_1, y_1), (\\pmb{x}_2, y_2)\\right\\} \\\\\n",
    " (\\pmb{x}_1, y_1) &= \\left(\\begin{pmatrix}\n",
    "1 & 0 & 1 & 1 & 1 & 1 & 0 & 1 & 1\n",
    "\\end{pmatrix}^\\top, 0\\right) \\\\\n",
    " (\\pmb{x}_2, y_2) &= \\left(\\begin{pmatrix}\n",
    "1 & 1 & 1 & 1 & 0 & 0 & 1 & 1 & 1\n",
    "\\end{pmatrix}^\\top, 1\\right)\n",
    "\\end{align}\n",
    "\n",
    "なお、学習データ$\\mathcal{D}_{s}$はトイ・データではあるが、スパム判定の例と対応付けて理解できるように、メールを$\\mathcal{D}_{s}$に変換するまでの過程を簡単に説明しておく。先ほどの$d=9$次元の特徴空間を用いたスパムメール判定の例の通り、メールは$9$次元の事例ベクトル$\\pmb{x}$で表現され、$1$次元目から$8$次元目まで、各次元はメール本文中に\"attached\", \"darling\", \"file\", \"hi\", \"kyoto\", \"mark\", \"my\", \"photo\"が含まれるならば$1$、含まれなければ$0$である。$9$次元目はメールの内容に関わらず常に$1$としておく。いま、スパム判定器の学習データとして、以下の2つのメールがあるとすると、先ほどの学習データ$\\mathcal{D}_s$が得られる。\n",
    "\n",
    "+ 学習事例1（スパムではない）: \"Hi Mark, Kyoto photo in attached file\"\n",
    "+ 学習事例2（スパム）: \"Hi darling, my photo in attached file\"\n",
    "\n",
    "なお、分類モデルは特徴ベクトル（説明変数）を通してのみ、メールなどの入力を観測できる。したがって、分類が成功しやすくなるような特徴空間を定義することは、分類器の性能を向上させるために極めて重要である。"
   ]
  },
  {
   "cell_type": "markdown",
   "metadata": {
    "tags": []
   },
   "source": [
    "\n",
    "---\n",
    "\n",
    "## 【補足】文章をコードで表現  \n",
    "\n",
    "### モデルのパラメータ  \n"
   ]
  },
  {
   "cell_type": "code",
   "execution_count": 16,
   "metadata": {},
   "outputs": [
    {
     "data": {
      "text/plain": [
       "array([[ 1],\n",
       "       [ 2],\n",
       "       [ 0],\n",
       "       [ 0],\n",
       "       [ 0],\n",
       "       [-1],\n",
       "       [ 1],\n",
       "       [ 1],\n",
       "       [-2]])"
      ]
     },
     "execution_count": 16,
     "metadata": {},
     "output_type": "execute_result"
    }
   ],
   "source": [
    "w = np.array([[1, 2, 0, 0, 0, -1, 1, 1, -2]]).T\n",
    "w"
   ]
  },
  {
   "cell_type": "markdown",
   "metadata": {
    "tags": []
   },
   "source": [
    "\n",
    "### 学習事例1  \n",
    "\n",
    "`Hi Mark, Kyoto photo in attached file.`  \n",
    "→ ham(0) spamでない  \n",
    "\n",
    "- attached：あり(1)  \n",
    "- darling：なし(0)  \n",
    "- file：あり(1)  \n",
    "- hi：あり(1)  \n",
    "- kyoto：あり(1)  \n",
    "- mark：あり(1)  \n",
    "- my：なし(0)  \n",
    "- photo：あり(1)  \n",
    "- 最後：あり(1)  \n"
   ]
  },
  {
   "cell_type": "code",
   "execution_count": 17,
   "metadata": {},
   "outputs": [
    {
     "data": {
      "text/plain": [
       "(array([[1],\n",
       "        [0],\n",
       "        [1],\n",
       "        [1],\n",
       "        [1],\n",
       "        [1],\n",
       "        [0],\n",
       "        [1],\n",
       "        [1]]),\n",
       " array([[0]]))"
      ]
     },
     "execution_count": 17,
     "metadata": {},
     "output_type": "execute_result"
    }
   ],
   "source": [
    "X1 = np.array([[1, 0, 1, 1, 1, 1, 0, 1, 1]])\n",
    "Y1 = np.array([[0]])\n",
    "D1 = (X1.T, Y1)\n",
    "D1"
   ]
  },
  {
   "cell_type": "markdown",
   "metadata": {},
   "source": [
    "ロジスティック回帰モデルを適用  \n",
    "\n",
    "\\begin{align}\n",
    " P(\\hat{y} = 1|\\pmb{x}) &= \\sigma(\\pmb{x}^\\top \\pmb{w}) = \\frac{1}{1 + \\exp\\left(-\\pmb{x}^\\top \\pmb{w}\\right)} \\\\\n",
    "\\end{align}\n",
    "\n",
    "- 確率が 0.5 を超えていないため、 x1 は「1ではない」→「スパムメールでない」と判断  "
   ]
  },
  {
   "cell_type": "code",
   "execution_count": 18,
   "metadata": {},
   "outputs": [
    {
     "data": {
      "text/plain": [
       "array([[-1]])"
      ]
     },
     "execution_count": 18,
     "metadata": {},
     "output_type": "execute_result"
    }
   ],
   "source": [
    "a1 = X1 @ w\n",
    "a1"
   ]
  },
  {
   "cell_type": "code",
   "execution_count": 19,
   "metadata": {},
   "outputs": [
    {
     "data": {
      "text/plain": [
       "array([[0.26894142]])"
      ]
     },
     "execution_count": 19,
     "metadata": {},
     "output_type": "execute_result"
    }
   ],
   "source": [
    "p1 = 1 / (1 + np.exp(-a1))\n",
    "p1"
   ]
  },
  {
   "cell_type": "markdown",
   "metadata": {},
   "source": [
    "Y1が「0」である尤度  \n",
    "\n",
    "\\begin{align}\n",
    " P(\\hat{y} = 0|\\pmb{x}) &= 1 - P(\\hat{y} = 1|\\pmb{x})\n",
    "\\end{align}\n",
    "\n",
    "\n",
    "モデルパラメータ$\\pmb{w}$が学習事例$(\\pmb{x}_1, y_1)$を$0.731$の確率で正しく分類できることを表している。  "
   ]
  },
  {
   "cell_type": "code",
   "execution_count": 20,
   "metadata": {},
   "outputs": [
    {
     "data": {
      "text/plain": [
       "array([[0.73105858]])"
      ]
     },
     "execution_count": 20,
     "metadata": {},
     "output_type": "execute_result"
    }
   ],
   "source": [
    "p1_0 = 1 - p1\n",
    "p1_0"
   ]
  },
  {
   "cell_type": "markdown",
   "metadata": {},
   "source": [
    "### 学習事例2  \n",
    "\n",
    "`Hi darling, my photo in attached file.`  \n",
    "→ spam(1)\n",
    "\n",
    "- attached：あり(1)  \n",
    "- darling：あり(1  \n",
    "- file：あり(1)  \n",
    "- hi：あり(1)  \n",
    "- kyoto：なし(0)  \n",
    "- mark：なし(0)  \n",
    "- my：あり(1)  \n",
    "- photo：あり(1)  \n",
    "- 最後：あり(1)  \n"
   ]
  },
  {
   "cell_type": "code",
   "execution_count": 21,
   "metadata": {},
   "outputs": [
    {
     "data": {
      "text/plain": [
       "(array([[1],\n",
       "        [1],\n",
       "        [1],\n",
       "        [1],\n",
       "        [0],\n",
       "        [0],\n",
       "        [1],\n",
       "        [1],\n",
       "        [1]]),\n",
       " array([[1]]))"
      ]
     },
     "execution_count": 21,
     "metadata": {},
     "output_type": "execute_result"
    }
   ],
   "source": [
    "X2 = np.array([[1, 1, 1, 1, 0, 0, 1, 1, 1]])\n",
    "Y2 = np.array([[1]])\n",
    "D2 = (X2.T, Y2)\n",
    "D2"
   ]
  },
  {
   "cell_type": "markdown",
   "metadata": {},
   "source": [
    "ロジスティック回帰モデルを適用  \n",
    "- 確率が 0.5 を超えているため、 x2 は 「1である」→「スパムメールである」と判断  "
   ]
  },
  {
   "cell_type": "code",
   "execution_count": 22,
   "metadata": {},
   "outputs": [
    {
     "data": {
      "text/plain": [
       "array([[3]])"
      ]
     },
     "execution_count": 22,
     "metadata": {},
     "output_type": "execute_result"
    }
   ],
   "source": [
    "a2 = X2 @ w\n",
    "a2"
   ]
  },
  {
   "cell_type": "code",
   "execution_count": 23,
   "metadata": {},
   "outputs": [
    {
     "data": {
      "text/plain": [
       "array([[0.95257413]])"
      ]
     },
     "execution_count": 23,
     "metadata": {},
     "output_type": "execute_result"
    }
   ],
   "source": [
    "p2 = 1 / (1 + np.exp(-a2))\n",
    "p2"
   ]
  },
  {
   "cell_type": "markdown",
   "metadata": {},
   "source": [
    "Y2が「1」である尤度  \n",
    "\n",
    "\\begin{align}\n",
    " P(\\hat{y} = 1|\\pmb{x}) &= \\sigma(\\pmb{x}^\\top \\pmb{w}) \\\\\n",
    "\\end{align}\n",
    "\n",
    "\n",
    "モデルパラメータ$\\pmb{w}$が学習事例$(\\pmb{x}_2, y_2)$を$0.953$の確率で正しく分類できることを表している。  "
   ]
  },
  {
   "cell_type": "code",
   "execution_count": 24,
   "metadata": {},
   "outputs": [
    {
     "data": {
      "text/plain": [
       "array([[0.95257413]])"
      ]
     },
     "execution_count": 24,
     "metadata": {},
     "output_type": "execute_result"
    }
   ],
   "source": [
    "p2"
   ]
  },
  {
   "cell_type": "markdown",
   "metadata": {
    "tags": []
   },
   "source": [
    "### 学習事例全体の尤度  \n"
   ]
  },
  {
   "cell_type": "code",
   "execution_count": 25,
   "metadata": {},
   "outputs": [
    {
     "data": {
      "text/plain": [
       "array([[0.69638749]])"
      ]
     },
     "execution_count": 25,
     "metadata": {},
     "output_type": "execute_result"
    }
   ],
   "source": [
    "p1_0 * p2"
   ]
  },
  {
   "cell_type": "markdown",
   "metadata": {},
   "source": [
    "\n",
    "---\n",
    "\n",
    "## 尤度\n",
    "\n",
    "さて、何らかの方法でモデルのパラメータ$\\pmb{w}$を以下のように決定したとしよう。\n",
    "\n",
    "<a id=\"f5-12\"></a>\n",
    "(5.12)  \n",
    "\\begin{align}\n",
    "\\pmb{w} = \\begin{pmatrix}\n",
    "1 & 2 & 0 & 0 & 0 & -1 & 1 & 1 & -2\n",
    "\\end{pmatrix}^\\top\n",
    "\\end{align}\n",
    "\n",
    "ここで、$\\mathcal{D}_s$中の事例$\\pmb{x}_1$に対してロジスティック回帰モデルを適用する。\n",
    "\n",
    "<a id=\"f5-13\"></a>\n",
    "(5.13)  \n",
    "\\begin{gather}\n",
    " \\pmb{x}_1^\\top \\pmb{w} = \\begin{pmatrix}\n",
    "1 & 0 & 1 & 1 & 1 & 1 & 0 & 1 & 1\n",
    "\\end{pmatrix} \\begin{pmatrix}\n",
    "1 & 2 & 0 & 0 & 0 & -1 & 1 & 1 & -2\n",
    "\\end{pmatrix}^\\top = -1 \\\\\n",
    "P(\\hat{y} = 1|\\pmb{x}_1) = \\sigma(\\pmb{x}_1^\\top \\pmb{w}) = \\sigma(-1) \\approx 0.269\n",
    "\\end{gather}\n",
    "\n",
    "ゆえに、$P(\\hat{y} = 1|\\pmb{x}_1) = 0.269$であるから、このモデルは与えられたメールがスパムである確率を$0.269$と予測し、その確率が$0.5$を超えないことから、$\\pmb{x}_1$はスパムメールではないと判定している。\n",
    "\n",
    "これまでの流れは、事例$\\pmb{x}_1$とモデルのパラメータ$\\pmb{w}$が与えられた時、予測結果$P(\\hat{y} = 1|\\pmb{x}_1) = 0.269$を計算するものであった。ここで、学習事例$(\\pmb{x}_1, y_1)$は不変（\"Hi Mark, Kyoto photo in attached file\"というメールがスパムではないのは事実）であると考える。そして、確率に対する見方を変えて、このモデルのパラメータ$\\pmb{w}$が与えられた学習事例を正しく判定できる確率、すなわちモデルパラメータ$\\pmb{w}$の学習事例$(\\pmb{x}, y)$に対する**尤度**$\\hat{l}_{\\pmb{x}, y}(\\pmb{w})$を次式で定義する。\n",
    "\n",
    "<a id=\"f5-14\"></a>\n",
    "(5.14)  \n",
    "\\begin{gather}\n",
    "\\hat{l}_{\\pmb{x}, y}(\\pmb{w}) = P(\\hat{y} = y | \\pmb{x})\n",
    "\\end{gather}\n",
    "\n",
    "この学習事例に対する尤度は、モデルのパラメータが「どのくらい学習事例を正しく再現できるか」を定量化した指標と見なすことができる。尤度が$1$に近いほど学習事例を正しく再現できていること、$0$に近づくほど学習事例を間違って（例えば$y=0$なのに$\\hat{y}=1$と予測して）再現していることを意味する。\n",
    "\n",
    "例えば、学習事例$(\\pmb{x}_1, y_1)$は$y_1 = 0$であるから、この学習事例に対するモデルパラメータ$\\pmb{w}$の尤度は、\n",
    "\n",
    "<a id=\"f5-15\"></a>\n",
    "(5.15)  \n",
    "\\begin{gather}\n",
    "\\hat{l}_{\\pmb{x}_1, y_1}(\\pmb{w}) = P(\\hat{y} = 0|\\pmb{x}_1) = 1 - P(\\hat{y} = 1|\\pmb{x}_1) = 1 - 0.269 = 0.731\n",
    "\\end{gather}\n",
    "\n",
    "これは、モデルパラメータ$\\pmb{w}$が学習事例$(\\pmb{x}_1, y_1)$を$0.731$の確率で正しく分類できることを表している。\n",
    "\n",
    "続いて、$\\mathcal{D}_s$中の事例$\\pmb{x}_2$に対してロジスティック回帰モデルを適用する。\n",
    "\n",
    "<a id=\"f5-16\"></a>\n",
    "(5.16)  \n",
    "\\begin{gather}\n",
    " \\pmb{x}_2^\\top \\pmb{w} = \\begin{pmatrix}\n",
    "1 & 1 & 1 & 1 & 0 & 0 & 1 & 1 & 1\n",
    "\\end{pmatrix} \\begin{pmatrix}\n",
    "1 & 2 & 0 & 0 & 0 & -1 & 1 & 1 & -2\n",
    "\\end{pmatrix}^\\top = 3 \\\\\n",
    "P(\\hat{y} = 1|\\pmb{x}_2) = \\sigma(\\pmb{x}_2^\\top \\pmb{w}) = \\sigma(3) \\approx 0.953\n",
    "\\end{gather}\n",
    "\n",
    "ゆえに、このモデルは与えられたメールがスパムである確率を$0.953$と推定し、その確率が$0.5$を超えていることから、$\\pmb{x}_2$はスパムメールである可能性が高いと判定している。また、モデルパラメータ$\\pmb{w}$の学習事例$(\\pmb{x}_2, y_2)$に対する尤度$\\hat{l}_{\\pmb{x}_2, y_2}(\\pmb{w})$は、\n",
    "\n",
    "<a id=\"f5-17\"></a>\n",
    "(5.17)  \n",
    "\\begin{gather}\n",
    "\\hat{l}_{\\pmb{x}_2, y_2}(\\pmb{w}) = P(\\hat{y} = 1|\\pmb{x}_2) = 0.953\n",
    "\\end{gather}\n",
    "\n",
    "これは、モデルパラメータ$\\pmb{w}$が学習事例$(\\pmb{x}_2, y_2)$を$0.953$の確率で正しく分類できることを表している。\n",
    "\n",
    "なお、学習事例に対する尤度$\\hat{l}_{\\pmb{x}, y}$は、$y=0$と$y=1$で場合分けする代わりに、$y$乗を使ってまとめると、次式で表現できる。\n",
    "\n",
    "---\n",
    "\n",
    "### 【ポイント】事例ごとの尤度  \n",
    "\n",
    "<a id=\"f5-18\"></a>\n",
    "(5.18)  \n",
    "$$\n",
    "\\begin{gather}\n",
    "\\hat{l}_{\\pmb{x}, y}(\\pmb{w}) = P(\\hat{y} = y | \\pmb{x}) = \\begin{cases}\n",
    "P(\\hat{y} = 1 | \\pmb{x}) & (y = 1\\mbox{のとき}) \\\\\n",
    "P(\\hat{y} = 0 | \\pmb{x}) & (y = 0\\mbox{のとき}) \\\\\n",
    "\\end{cases}\n",
    "&= p^{y} (1-p)^{(1 - y)}\n",
    "\\end{gather}\n",
    "$$\n",
    "\n",
    "---\n",
    "\n",
    "ここで、\n",
    "\n",
    "<a id=\"f5-19\"></a>\n",
    "(5.19)  \n",
    "$$\n",
    "\\begin{align}\n",
    "p = P(\\hat{y} = 1 | \\pmb{x}) = \\sigma(\\pmb{x}^\\top \\pmb{w})\n",
    "\\end{align}\n",
    "$$\n",
    "\n",
    "とおいた。"
   ]
  },
  {
   "cell_type": "markdown",
   "metadata": {},
   "source": [
    "\n",
    "---\n",
    "\n",
    "### 【補足】数学の記号  \n",
    "\n",
    "- $\\prod$ ：総積 → $\\sum$ ：総和の掛け算バージョン  \n",
    "\n",
    "\n",
    "- $\\log$ ： 対数  \n",
    "  例） 2 を何乗したら 8 になるか → 対数 = 3  \n",
    "\n",
    "\n",
    "---\n",
    "\n",
    "## 最尤推定\n",
    "\n",
    "先ほどの例では、モデルのパラメータ$\\pmb{w}$を合理的な値に（手で）調整しておいたので、すべての学習事例を正しく分類できた。しかし、パラメータ$\\pmb{w}$の値によっては、正しく分類できない学習事例が出てくる。また、両方の学習事例の尤度は学習事例を完全に再現できる値（$1$）を下回っている。パラメータ$\\pmb{w}$を調整することで、すべての学習事例の尤度を$1$に引き上げ、未知の事例に対する予測性能を向上させることができるかもしれない。先ほどの学習データ$\\mathcal{D}_s$の例では、$\\pmb{w}$をうまく調整することで、\n",
    "\n",
    "<a id=\"f5-20\"></a>\n",
    "(5.20)  \n",
    "\\begin{gather}\n",
    "\\hat{l}_{\\pmb{x}_1, y_1}(\\pmb{w}) &= 0.731 \\rightsquigarrow 1 \\\\\n",
    "\\hat{l}_{\\pmb{x}_2, y_2}(\\pmb{w}) &= 0.953 \\rightsquigarrow 1\n",
    "\\end{gather}\n",
    "を実現できるかもしれない。\n",
    "\n",
    "そこで、学習データ$\\mathcal{D}$全体における尤度を定義し、モデルのパラメータ$\\pmb{w}$がどのくらい学習データ$\\mathcal{D}$をうまく反映しているのか、定量的に示したい。ここで、学習データのすべての事例は**独立同分布**（i.i.d: independent and identically distributed）である仮定し、学習データ全体の尤度$\\hat{L}_{\\mathcal{D}}(\\pmb{w})$を各学習事例の尤度の結合確率として定義する。\n",
    "\n",
    "<a id=\"f5-21\"></a>\n",
    "(5.21)  \n",
    "\\begin{align}\n",
    "\\hat{L}_{\\mathcal{D}}(\\pmb{w}) = \\prod_{i=1}^N \\hat{l}_{\\pmb{x}_i, y_i}(\\pmb{w})\n",
    "\\end{align}\n",
    "学習データ全体の尤度も$0$から$1$までの値をとり、尤度が$1$に近いほど学習事例を正しく再現できていることを表す。ゆえに、$\\hat{L}_{\\mathcal{D}}(\\pmb{w})$を目的関数とみなし、この目的関数の値を最大化するような$\\pmb{w}^*$を求めることで、学習データ$\\mathcal{D}$によく合致するモデルパラメータを求めることができる。尤度が最大になるパラメータを求めることを**最尤推定**（MLE: Maximum Likelihood Estimation）と呼ぶ。\n",
    "\n",
    "ところで、学習データ全体の尤度は事例の尤度の積であるから、学習事例の数が多くなると$[0, 1]$の範囲の積を繰り返すことになる。これは、コンピュータ上で学習データ上の尤度を計算するとき、アンダーフローの問題（小さい値を精度良く表現できない問題）を引き起こす。そこで、尤度を最大化する代わりに、尤度の対数をとった**対数尤度**を最大化する。対数尤度は、学習事例の尤度の対数$\\log \\hat{l}_{(\\pmb{x}_i, y_i)}(\\pmb{w})$の和として表現できる。\n",
    "\n",
    "<a id=\"f5-22\"></a>\n",
    "(5.22)  \n",
    "\\begin{align}\n",
    "\\log \\hat{L}_{\\mathcal{D}}(\\pmb{w}) &= \\log \\prod_{i=1}^N \\hat{l}_{\\pmb{x}_i, y_i}(\\pmb{w})\n",
    "= \\sum_{i=1}^N \\log \\hat{l}_{\\pmb{x}_i, y_i}(\\pmb{w})\n",
    "\\end{align}\n",
    "\n",
    "なお、回帰では目的関数を最小にするパラメータを求めた。二値分類でも目的関数の最小化の問題に書き換えるため、負の対数尤度を目的関数として用いる。最終的に、ロジスティック回帰モデルの学習で最小化する目的関数$\\hat{\\mathcal{L}}_{\\mathcal{D}}^{\\rm MLE}(\\pmb{w})$は次式で表される。\n",
    "\n",
    "---\n",
    "\n",
    "### 【ポイント】最尤推定による目的関数  \n",
    "\n",
    "<a id=\"f5-23\"></a>\n",
    "(5.23)  \n",
    "\\begin{align}\n",
    "\\hat{\\mathcal{L}}_{\\mathcal{D}}^{\\rm MLE}(\\pmb{w}) = -\\log \\hat{L}_{\\mathcal{D}}(\\pmb{w})\n",
    "= -\\sum_{i=1}^N \\log \\hat{l}_{\\pmb{x}_i, y_i}(\\pmb{w})\n",
    "\\end{align}\n",
    "\n",
    "---\n",
    "\n",
    "また、学習時に$L_2$正則化を導入する場合、目的関数は、\n",
    "\n",
    "<a id=\"f5-24\"></a>\n",
    "(5.24)  \n",
    "\\begin{align}\n",
    "\\hat{\\mathcal{L}}_{\\mathcal{D}}^{\\rm MAP}(\\pmb{w}) &= -\\log \\hat{L}_{\\mathcal{D}}(\\pmb{w}) + \\alpha \\|\\pmb{w}\\|^2\n",
    "= -\\sum_{i=1}^N \\log \\hat{l}_{\\pmb{x}_i, y_i}(\\pmb{w}) + \\alpha \\|\\pmb{w}\\|^2\n",
    "\\end{align}\n",
    "\n",
    "となる。ここで、$\\alpha$ ($\\alpha>0$) は$L_2$正則化の係数である。"
   ]
  },
  {
   "cell_type": "markdown",
   "metadata": {},
   "source": [
    "## 確率的勾配降下法"
   ]
  },
  {
   "cell_type": "markdown",
   "metadata": {},
   "source": [
    "これまでの議論により、ロジスティック回帰モデルの学習は、目的関数$\\hat{\\mathcal{L}}_{\\mathcal{D}}^{\\rm MLE}(\\pmb{w})$を最小にするパラメータ$\\pmb{w}^*$を求める問題に帰着した。回帰の場合は目的関数を最小にする解析解（閉じた解）を求めることができたが、ロジスティック回帰モデルの目的関数$\\hat{\\mathcal{L}}_{\\mathcal{D}}^{\\rm MLE}(\\pmb{w})$は、パラメータ$\\pmb{w}$に関して偏微分はできるが、その偏微分の値を$\\pmb{0}$とする解析解を求めることができない。そこで、確率的勾配降下法で目的関数$\\hat{\\mathcal{L}}_{\\mathcal{D}}^{\\rm MLE}(\\pmb{w})$を最小にするパラメータ$\\pmb{w}^*$を求めることにする。\n",
    "\n",
    "ここで、最尤推定の目的関数$\\hat{\\mathcal{L}}_{\\mathcal{D}}^{\\rm MLE}(\\pmb{w})$は、\n",
    "\n",
    "<a id=\"f5-25\"></a>\n",
    "(5.25)  \n",
    "\\begin{align}\n",
    "\\hat{\\mathcal{L}}_{\\mathcal{D}}^{\\rm MLE}(\\pmb{w}) &= -\\log \\hat{L}_{\\mathcal{D}}(\\pmb{w})\n",
    "= \\sum_{i=1}^N - \\log \\hat{l}_{\\pmb{x}_i, y_i}(\\pmb{w})\n",
    "\\end{align}\n",
    "\n",
    "であり、事例毎の実数値の和に分解できるため、確率的勾配降下法を適用可能である。\n",
    "\n",
    "---\n",
    "\n",
    "### 【補足】ランダムに選んだ事例$(\\pmb{x}, y)$  \n",
    "前章の説明では、ランダムに選んだ訓練事例を$(\\pmb{x}_i, y_i)$と事例番号$i$の添字付きで表記していたが、以降の導出で添字を使うと煩雑になるため、事例番号の添字は省略する。\n",
    "\n",
    "---\n",
    "\n",
    "確率的勾配降下法がランダムに訓練事例$(\\pmb{x}, y) \\in \\mathcal{D}$を選んだとき、その勾配は$- \\nabla \\log \\hat{l}_{\\pmb{x}, y}(\\pmb{w})$であるから、確率的勾配降下法によるパラメータ$\\pmb{w}$の更新式は、\n",
    "\n",
    "<a id=\"f5-26\"></a>\n",
    "(5.26)  \n",
    "$$\n",
    "\\begin{align}\n",
    "\\pmb{w}^{(t+1)} = \\pmb{w}^{(t)} + \\eta_t \\nabla \\log \\hat{l}_{\\pmb{x}, y}(\\pmb{w}^{(t)})\n",
    "\\end{align}\n",
    "$$\n",
    "\n",
    "となる。確率的勾配降下法でロジスティック回帰モデルのパラメータ推定を行うためには、訓練事例の勾配$\\nabla \\log \\hat{l}_{\\pmb{x}, y}(\\pmb{w})$、すなわち訓練事例の対数尤度$\\log \\hat{l}_{\\pmb{x}, y}(\\pmb{w})$の$\\pmb{w}$に関する偏微分を求めればよい。\n",
    "\n",
    "学習事例の対数尤度は、式[(5.18)](#f5-18)より、\n",
    "\n",
    "<a id=\"f5-27\"></a>\n",
    "(5.27)  \n",
    "$$\n",
    "\\begin{align}\n",
    "\\log \\hat{l}_{\\pmb{x}, y}(\\pmb{w}) &= \\log \\left(p^{y} (1-p)^{(1 - y)}\\right)\n",
    "= y \\log p + (1-y)\\log(1-p)\n",
    "\\end{align}\n",
    "$$\n",
    "\n",
    "と整理できる。ただし、式[(5.6)](#f5-6) と [(5.19)](#f5-19) で表現されているように、$p$は$\\pmb{w}$と$\\pmb{x}$に依存していることに注意が必要である。\n",
    "\n",
    "<a id=\"f5-28\"></a>\n",
    "(5.28)  \n",
    "\\begin{align}\n",
    "p &= \\sigma(a) = \\frac{1}{1 + e^{-a}} \\\\\n",
    "a &= \\pmb{x}^\\top \\pmb{w}\n",
    "\\end{align}\n",
    "\n",
    "合成関数の微分より、\n",
    "\n",
    "<a id=\"f5-29\"></a>\n",
    "(5.29)  \n",
    "$$\n",
    "\\begin{align}\n",
    "\\nabla \\log \\hat{l}_{\\pmb{x}, y}(\\pmb{w})\n",
    "= \\frac{\\partial \\left(\\log \\hat{l}_{\\pmb{x}, y}(\\pmb{w})\\right)}{\\partial \\pmb{w}}\n",
    "&= \\frac{\\partial}{\\partial \\pmb{w}} \\left\\{y \\log p + (1 - y) \\log (1-p) \\right\\} \\\\\n",
    "&= \\left( \\frac{y}{p} \\cdot \\frac{\\partial p}{\\partial \\pmb{w}} + \\frac{1 - y}{1 - p} \\cdot (-1) \\cdot \\frac{\\partial p}{\\partial \\pmb{w}} \\right) \\\\\n",
    "&= \\left(\\frac{y}{p} - \\frac{1 - y}{1 - p}\\right) \\cdot \\frac{\\partial p}{\\partial \\pmb{w}} \\\\\n",
    "&= \\frac{(1-p) y - p(1 - y)}{p(1 - p)} \\cdot \\frac{\\partial p}{\\partial a} \\cdot \\frac{\\partial a}{\\partial \\pmb{w}} \\\\\n",
    "&= \\frac{y - p y - p + p y}{p(1 - p)} \\cdot \\frac{\\partial p}{\\partial a} \\cdot \\frac{\\partial a}{\\partial \\pmb{w}} \\\\\n",
    "&= \\frac{y - p}{p(1 - p)} \\cdot \\frac{\\partial p}{\\partial a} \\cdot \\frac{\\partial a}{\\partial \\pmb{w}} \\\\\n",
    "\\end{align}\n",
    "$$\n",
    "\n",
    "$\\frac{\\partial p}{\\partial a}$はシグモイド関数$\\sigma(a)$の微分である。\n",
    "\n",
    "<a id=\"f5-30\"></a>\n",
    "(5.30)  \n",
    "\\begin{align}\n",
    "\\frac{\\partial p}{\\partial a} = \\sigma'(a) &= \\frac{\\partial}{\\partial a}\\left(\\frac{1}{1 + e^{-a}}\\right) \\\\\n",
    "&= (-1) \\cdot \\frac{1}{\\left(1 + e^{-a}\\right)^2} \\cdot \\frac{\\partial}{\\partial a} \\left(1 + e^{-a}\\right) \\\\\n",
    "&= - \\frac{1}{\\left(1 + e^{-a}\\right)^2} \\cdot e^{-a} \\cdot (-1) \\\\\n",
    "&= \\frac{1}{1 + e^{-a}} \\cdot \\frac{e^{-a}}{1 + e^{-a}} \\\\\n",
    "&= \\sigma(a) \\left(1 - \\sigma(a)\\right) \\\\\n",
    "&= p (1 - p)\n",
    "\\end{align}\n",
    "\n",
    "また、$\\frac{\\partial a}{\\partial \\pmb{w}}=\\pmb{x}$であるから、式[(5.29)](#f5-29)は、\n",
    "\n",
    "<a id=\"f5-31\"></a>\n",
    "(5.31)  \n",
    "$$\n",
    "\\begin{align}\n",
    "\\nabla \\log \\hat{l}_{\\pmb{x}, y}(\\pmb{w})\n",
    "&= \\frac{y - p}{p(1 - p)} \\cdot \\frac{\\partial p}{\\partial a} \\cdot \\frac{\\partial a}{\\partial \\pmb{w}} \\\\\n",
    "&= \\frac{y - p}{p(1 - p)} \\cdot \\{p (1 - p)\\} \\cdot \\pmb{x} \\\\\n",
    "&= (y - p) \\pmb{x} \\\\\n",
    "\\end{align}\n",
    "$$\n",
    "\n",
    "これを、確率的勾配降下法の反復式[(5.26)](#f5-26)に代入すると、\n",
    "\n",
    "---\n",
    "\n",
    "### 【ポイント】確率的勾配降下法によるロジスティック回帰モデルのパラメータ更新式  \n",
    "\n",
    "<a id=\"f5-32\"></a>\n",
    "(5.32)  \n",
    "$$\n",
    "\\begin{align}\n",
    "\\pmb{w}^{(t+1)} =  \\pmb{w}^{(t)} + \\eta_t (y - p^{(t)}) \\pmb{x}\n",
    "\\end{align}\n",
    "$$\n",
    "\n",
    "---\n",
    "\n",
    "ただし、$p^{(t)}$は$t$回目の反復時のパラメータ$\\pmb{w}^{(t)}$で事例$\\pmb{x}$を分類したとき、その事例が正例$\\hat{y}=1$と予測される確率である。\n",
    "\n",
    "<a id=\"f5-33\"></a>\n",
    "(5.33)  \n",
    "\\begin{align}\n",
    "p^{(t)} = \\sigma(\\pmb{x}^\\top \\pmb{w}^{(t)})\n",
    "\\end{align}\n",
    "\n",
    "確率的勾配降下法で回帰モデルのパラメータを求めるための反復式[(4.33)](#f4-33)と同様に、ある訓練事例における目的変数の真の値$y$とその確率推定値$p$の差を係数として、その事例の特徴ベクトル$\\pmb{x}$をパラメータベクトルに足し込む形になっているのが興味深い。\n",
    "\n",
    "### 確率的勾配降下法の更新式の解釈\n",
    "\n",
    "式[(5.32)](#f5-32)の反復式の振る舞いを、学習事例が正例（$y=1$）のときと、負例（$y = 0$）に分けて考える。もし、学習事例が正例（$y=1$）のとき、パラメータの更新式は、\n",
    "\n",
    "<a id=\"f5-34\"></a>\n",
    "(5.34)  \n",
    "\\begin{align}\n",
    "\\pmb{w}^{(t+1)} &= \\pmb{w}^{(t)} + \\eta_t (1 - p^{(t)}) \\pmb{x}\n",
    "\\end{align}\n",
    "\n",
    "である。この更新後のパラメータ$\\pmb{w}^{(t+1)}$で同じ事例$\\pmb{x}$との内積を計算すると、\n",
    "\n",
    "<a id=\"f5-35\"></a>\n",
    "(5.35)  \n",
    "\\begin{align}\n",
    "\\pmb{x}^\\top\\pmb{w}^{(t+1)} &= \\pmb{x}^\\top\\pmb{w}^{(t)} + \\eta_t (1 - p^{(t)}) \\underbrace{\\pmb{x}^\\top\\pmb{x}}_{\\geq 0} \\geq \\pmb{x}^\\top\\pmb{w}^{(t)}\n",
    "\\end{align}\n",
    "\n",
    "であるから、更新後のパラメータの内積$\\pmb{x}^\\top\\pmb{w}^{(t+1)}$は、更新前のパラメータの内積値$\\pmb{x}^\\top\\pmb{w}^{(t)}$以上にとなり、その変化量は$\\eta_t (1 - p^{(t)}) \\pmb{x}^\\top\\pmb{x}$である。ここで、学習率$\\eta_t$は学習事例に依存しない。また、$\\pmb{x}^\\top\\pmb{x}$もパラメータ$\\pmb{w}^{(t)}$の値によらない定数と見なすと、内積の変化量は$(1-p^{(t)})$に比例することが分かる。いま、学習事例は正例（$y=1$）であるので、$(1-p^{(t)})$はこの事例に対して予測すべき確率$1$と、実際に計算された確率$p^{(t)}$との差を表している。したがって、モデルのパラメータ$\\pmb{w}^{(t)}$が学習事例が正例であることをよく予測できている（$p^{(t)} \\approx 1$）ならば内積の変化量は小さくなる。逆に、モデルのパラメータ$\\pmb{w}^{(t)}$が学習事例が正例であることを予測できていない場合（$p^{(t)} \\approx 0$）ならば、内積の変化量が大きくなるようにパラメータ$\\pmb{w}^{(t)}$が更新される。\n",
    "\n",
    "続いて、学習事例が負例（$y=0$）のとき、パラメータの更新式は、\n",
    "\n",
    "<a id=\"f5-36\"></a>\n",
    "(5.36)  \n",
    "\\begin{align}\n",
    "\\pmb{w}^{(t+1)} = \\pmb{w}^{(t)} + \\eta_t (0 - p^{(t)}) \\pmb{x} = \\pmb{w}^{(t)} - \\eta_t p^{(t)} \\pmb{x}\n",
    "\\end{align}\n",
    "\n",
    "である。この更新後のパラメータ$\\pmb{w}^{(t+1)}$で同じ事例$\\pmb{x}$との内積を計算すると、\n",
    "\n",
    "<a id=\"f5-37\"></a>\n",
    "(5.37)  \n",
    "\\begin{align}\n",
    "\\pmb{x}^\\top\\pmb{w}^{(t+1)} &= \\pmb{x}^\\top\\pmb{w}^{(t)} - \\eta_t p^{(t)} \\underbrace{\\pmb{x}^\\top\\pmb{x}}_{\\geq 0} \\leq \\pmb{x}^\\top\\pmb{w}^{(t)}\n",
    "\\end{align}\n",
    "\n",
    "であるから、更新後のパラメータの内積$\\pmb{x}^\\top\\pmb{w}^{(t+1)}$は、更新前のパラメータの内積値$\\pmb{x}^\\top\\pmb{w}^{(t)}$以下にとなり、その変化量は$\\eta_t p^{(t)} \\pmb{x}^\\top\\pmb{x}$である。先ほどの正例の議論と同様に、内積の変化量は$p^{(t)}$に比例することが分かる。いま、学習事例は負例（$y=0$）であるので、$p^{(t)}$はこの事例に対して予測すべき確率$0$と、実際に計算された確率$p^{(t)}$との差を表している。したがって、学習事例が負例であることをモデルのパラメータ$\\pmb{w}^{(t)}$がよく予測できている（$p^{(t)} \\approx 0$）ならば内積の変化量は小さくなる。逆に、学習事例が負例であることをモデルのパラメータ$\\pmb{w}^{(t)}$があまり予測できていない場合（$p^{(t)} \\approx 1$）、内積の変化量が大きくなるようにパラメータ$\\pmb{w}^{(t)}$が更新される。\n",
    "\n",
    "### $L_2$正則化付きロジスティック回帰\n",
    "\n",
    "学習時に$L_2$正則化を導入する場合、目的関数は、\n",
    "\n",
    "<a id=\"f5-38\"></a>\n",
    "(5.38)  \n",
    "\\begin{align}\n",
    "\\hat{\\mathcal{L}}_{\\mathcal{D}}^{\\rm MAP}(\\pmb{w}) &= -\\log \\hat{L}_{\\mathcal{D}}(\\pmb{w}) + \\alpha \\|\\pmb{w}\\|^2 \\\\\n",
    "&= -\\sum_{i=1}^N \\log \\hat{l}_{\\pmb{x}_i, y_i}(\\pmb{w}) + \\alpha \\|\\pmb{w}\\|^2 \\\\\n",
    "&= \\sum_{i=1}^N \\left(-\\log \\hat{l}_{\\pmb{x}_i, y_i}(\\pmb{w}) + \\frac{\\alpha}{N} \\|\\pmb{w}\\|^2 \\right)\\\\\n",
    "\\end{align}\n",
    "\n",
    "と整理できるので、確率的勾配降下法を適用できる。確率的勾配降下法がランダムに選んだ学習事例を$(\\pmb{x}, y)$とすると、その損失$l_{\\pmb{x}, y}(\\pmb{w})$は、\n",
    "\n",
    "<a id=\"f5-39\"></a>\n",
    "(5.39)  \n",
    "\\begin{align}\n",
    "l_{\\pmb{x}, y}(\\pmb{w}) = -\\log \\hat{l}_{\\pmb{x}, y}(\\pmb{w}) + \\frac{\\alpha}{N} \\|\\pmb{w}\\|^2\n",
    "\\end{align}\n",
    "\n",
    "である。この勾配$\\nabla l_{\\pmb{x}, y}(\\pmb{w})$を求めるために、$\\pmb{w}$で偏微分すると、\n",
    "\n",
    "<a id=\"f5-40\"></a>\n",
    "(5.40)  \n",
    "\\begin{align}\n",
    "\\nabla l_{\\pmb{x}, y}(\\pmb{w}) = \\frac{\\partial l_{\\pmb{x}, y}(\\pmb{w})}{\\partial \\pmb{w}}\n",
    "&= \\frac{\\partial }{\\partial \\pmb{w}}\\left(-\\log \\hat{l}_{\\pmb{x}, y}(\\pmb{w}) + \\frac{\\alpha}{N} \\|\\pmb{w}\\|^2\\right) \\\\\n",
    "&= - \\frac{\\partial \\left(\\log \\hat{l}_{\\pmb{x}, y}(\\pmb{w})\\right)}{\\partial \\pmb{w}} + \\frac{\\partial}{\\partial \\pmb{w}} \\left(\\frac{\\alpha}{N} \\|\\pmb{w}\\|^2\\right)\\\\\n",
    "&= - (y-p) \\pmb{x} + \\frac{2\\alpha}{N} \\pmb{w}\n",
    "\\end{align}\n",
    "\n",
    "これを、確率的勾配降下法の反復式に代入すると、\n",
    "\n",
    "<a id=\"f5-41\"></a>\n",
    "(5.41)  \n",
    "\\begin{align}\n",
    "\\pmb{w}^{(t+1)} &= \\pmb{w}^{(t)} - \\eta_t \\left.\\frac{\\partial l_{\\pmb{x}, y}(\\pmb{w})}{\\partial \\pmb{w}}\\right|_{\\pmb{w} = \\pmb{w}^{(t)}} \\\\\n",
    "&= \\pmb{w}^{(t)} + \\eta_t \\left\\{(y - p) \\pmb{x} - \\frac{2\\alpha}{N} \\pmb{w}^{(t)}\\right\\} \\\\\n",
    "&= \\left(1 - \\frac{2\\alpha\\eta_t}{N}\\right) \\pmb{w}^{(t)} + \\eta_t (y - p) \\pmb{x}\n",
    "\\end{align}\n",
    "\n",
    "リッジ回帰と同様に、パラメータの重みを減衰させる係数$(1 - \\frac{2\\alpha\\eta_t}{N})$が現れる。"
   ]
  },
  {
   "cell_type": "markdown",
   "metadata": {},
   "source": [
    "## 評価\n",
    "\n",
    "さて、学習によって獲得した二値分類モデルの性能（分類の正しさ）をどのように評価すればよいか。回帰のときは、学習で用いた目的関数、すなわち平均二乗残差を使って検証データやテストデータ上の性能を測定した。ロジスティック回帰モデルを最尤推定で学習する場合、尤度（もしくは対数尤度）を最大化していたので、検証データやテストデータ上で尤度を測定すればよい（実際に尤度が評価に用いられることもある）。ところが、尤度は人間にとって分かりやすい指標ではないため、二値分類ではもう少し分かりやすい評価尺度が用いられる。ここでは、二値分類モデルの評価尺度として、正解率、適合率、再現率、F1スコアを紹介する。\n",
    "\n",
    "これらの尺度を説明する前に、**真陽性**（TP: true positive）、**偽陽性**（FP: false positive）、**偽陰性**（FN: false negative）、**真陰性**（TN: true negative）の概念を理解する必要がある。モデルが正例と予測（$\\hat{y}=1$）した事例のうち、実際に正例（$y=1$）である事例を真陽性、実際には負例（$y=0$）である事例を疑陽性と呼ぶ。一方、モデルが負例と予測（$\\hat{y}=0$）した事例のうち、実際に負例（$y=0$）である事例を真陰性、実際には正例（$y=1$）である事例を偽陰性と呼ぶ。これらの概念を表に表すと、以下のようになる。\n",
    "\n",
    "<img src=\"fig/tpfpfntn.svg\" alt=\"混同行列\" width=\"480px\">\n",
    "\n",
    "ここで、真陽性、偽陽性、偽陰性、真陰性の事例数をそれぞれ、${\\rm TP}$, ${\\rm FP}$, ${\\rm FN}$, ${\\rm TN}$と書くことにすると、正解率$A$、適合率$P$、再現率$R$、F1スコア$F_1$は、\n",
    "\n",
    "\n",
    "---\n",
    "\n",
    "### 【ポイント】  \n",
    "\n",
    "<a id=\"f5-42\"></a>\n",
    "(5.42)  \n",
    "\\begin{gather}\n",
    "A = \\frac{\\mbox{システムの正しい予測事例数}}{\\mbox{評価した全事例数}} = \\frac{{\\rm TP} + {\\rm TN}}{{\\rm TP} + {\\rm TN} + {\\rm FP} + {\\rm FN}}\n",
    "\\end{gather}\n",
    "\n",
    "\n",
    "<a id=\"f5-43\"></a>\n",
    "(5.43)  \n",
    "\\begin{gather}\n",
    "P = \\frac{\\mbox{システムが正しく正例と予測した事例数}}{\\mbox{システムが正例と予測した事例数}} = \\frac{{\\rm TP}}{{\\rm TP} + {\\rm FP}}\n",
    "\\end{gather}\n",
    "\n",
    "\n",
    "<a id=\"f5-44\"></a>\n",
    "(5.44)  \n",
    "\\begin{gather}\n",
    "R = \\frac{\\mbox{システムが正しく正例と予測した事例数}}{\\mbox{評価データ中の正例の事例数}} = \\frac{{\\rm TP}}{{\\rm TP} + {\\rm FN}}\n",
    "\\end{gather}\n",
    "\n",
    "\n",
    "<a id=\"f5-45\"></a>\n",
    "(5.45)  \n",
    "\\begin{gather}\n",
    "F_1 = \\frac{P \\times R}{\\frac{1}{2}(P + R)} = \\frac{2PR}{P + R}\n",
    "\\end{gather}\n",
    "\n",
    "---\n",
    "\n",
    "この中で最も分かりやすい尺度は**正解率**（accuracy）であろう。正解率は、すべての評価事例の中でモデルが予測に成功した割合である。スパム判定の例では、届いたメールに対して、スパム判定の結果が正しかった割合を表す。ただし、評価データ中の正例と負例の割合が大きく偏っている場合、正解率は高くなりやすい。例えば、100件中1件しかスパムメールがやってこない状況では、すべてのメールを「スパムでない」と判定しても正解率が0.99となる。\n",
    "\n",
    "適合率と再現率はセットで理解する必要がある。**適合率**（precision）は、モデルが正例と予測した事例のうち、実際に正例である事例の割合である。スパム判定の例では、スパムと判定されたメールのうち、実際にスパムであるメールの割合である。スパム判定において適合率が低いと、本当はスパムではないメールがスパムフォルダに自動仕分けされてしまうことになる。一方、**再現率**（recall）は、実際に正例である事例のうち、モデルが正例として予測できる事例の割合である。スパム判定の例では、スパムメールの何割を自動的に認識できるかを表す。スパム判定において再現率が低いと、スパムメールがスパムフォルダに自動仕分けされず、新着メールとして頻繁に表示されてしまうことになる。\n",
    "\n",
    "一般に、適合率と再現率はトレードオフの関係にある。スパムメールの判定の適合率を高めるには、自信を持ってスパムメールと判定できるものだけスパムと判定し、あまり自信がない事例についてはスパムではないと判定すればよい。ところが、このようにして適合率を高めると、スパムメールと判定することに消極的となり、再現率が低下する。一方、再現率を高めるには、スパムメールと認定する基準を下げ、より多くのメールをスパムとして判定できるように調整すればよい。ところが、メールをスパムとして積極的に判定しすぎると、適合率が低下する。従って、モデルの性能を評価するときは、適合率と再現率の両方を測定することが望ましい。スパムメール判定では、スパムフォルダに自動的に仕分けされてしまったメールは読まれないことになってしまうため、再現率よりも適合率を重視すべきである。\n",
    "\n",
    "このように、適合率と再現率はトレードオフの関係にあるため、分類器の性能を測定するときにはこの両方の尺度の数値を見る必要がある。この適合率と再現率の調和平均をとったものが**F1スコア**である。F1スコアは異なるモデル間の性能を一つの評価尺度で比較できるので便利である。\n",
    "\n",
    "なお、病気などの検査では感度（sensitivity）と特異度（specificity）もよく用いられる。感度は再現率と同じ定義であり、実際に陽性となるべき事例をどの程度陽性として検出できたかを表す。特異度は負例に関する再現率であり、実際に陰性となるべき事例をどの程度陰性として検出できたかを表す。特異度（$S$）の定義は次式の通りである。\n",
    "\n",
    "<a id=\"f5-46\"></a>\n",
    "(5.46)  \n",
    "\\begin{align}\n",
    "S &= \\frac{\\mbox{システムが正しく負例と予測した事例数}}{\\mbox{評価データ中の負例の事例数}} = \\frac{{\\rm TN}}{{\\rm TN} + {\\rm FP}}\n",
    "\\end{align}"
   ]
  },
  {
   "cell_type": "markdown",
   "metadata": {},
   "source": [
    "## スパムフィルタの構築\n",
    "\n",
    "### データのダウンロード\n",
    "\n",
    "[SMS Spam Collection Data Set](https://archive.ics.uci.edu/ml/datasets/sms+spam+collection)を用いて、英語のスパムフィルタを学習する。"
   ]
  },
  {
   "cell_type": "markdown",
   "metadata": {
    "tags": []
   },
   "source": [
    "\n",
    "----\n",
    "\n",
    "#### 【補足】  \n",
    "ダウンロード・解凍したファイルは、「./spam」フォルダへ登録済  \n",
    "\n",
    "---\n"
   ]
  },
  {
   "cell_type": "code",
   "execution_count": 26,
   "metadata": {},
   "outputs": [],
   "source": [
    "# !wget https://archive.ics.uci.edu/ml/machine-learning-databases/00228/smsspamcollection.zip"
   ]
  },
  {
   "cell_type": "markdown",
   "metadata": {},
   "source": [
    "ダウンロードしたファイルを解凍する。"
   ]
  },
  {
   "cell_type": "code",
   "execution_count": 27,
   "metadata": {},
   "outputs": [],
   "source": [
    "# !unzip smsspamcollection.zip"
   ]
  },
  {
   "cell_type": "markdown",
   "metadata": {},
   "source": [
    "データのファイル（SMSSpamCollection）は、１行１事例で書かれており、各事例はラベルとテキストのタブ区切り形式である。スパムではないメッセージは\"ham\"、スパムメッセージは\"spam\"としてラベル付けされている。"
   ]
  },
  {
   "cell_type": "code",
   "execution_count": 28,
   "metadata": {},
   "outputs": [
    {
     "name": "stdout",
     "output_type": "stream",
     "text": [
      "ham\tGo until jurong point, crazy.. Available only in bugis n great world la e buffet... Cine there got amore wat...\n",
      "ham\tOk lar... Joking wif u oni...\n",
      "spam\tFree entry in 2 a wkly comp to win FA Cup final tkts 21st May 2005. Text FA to 87121 to receive entry question(std txt rate)T&C's apply 08452810075over18's\n",
      "ham\tU dun say so early hor... U c already then say...\n",
      "ham\tNah I don't think he goes to usf, he lives around here though\n",
      "spam\tFreeMsg Hey there darling it's been 3 week's now and no word back! I'd like some fun you up for it still? Tb ok! XxX std chgs to send, £1.50 to rcv\n",
      "ham\tEven my brother is not like to speak with me. They treat me like aids patent.\n",
      "ham\tAs per your request 'Melle Melle (Oru Minnaminunginte Nurungu Vettam)' has been set as your callertune for all Callers. Press *9 to copy your friends Callertune\n",
      "spam\tWINNER!! As a valued network customer you have been selected to receivea £900 prize reward! To claim call 09061701461. Claim code KL341. Valid 12 hours only.\n",
      "spam\tHad your mobile 11 months or more? U R entitled to Update to the latest colour mobiles with camera for Free! Call The Mobile Update Co FREE on 08002986030\n"
     ]
    }
   ],
   "source": [
    "!head ./spam/SMSSpamCollection"
   ]
  },
  {
   "cell_type": "markdown",
   "metadata": {},
   "source": [
    "\n",
    "---\n",
    "\n",
    "#### 【補足】Windows版PythonなどでLinuxコマンドを利用できない場合  \n",
    "\n",
    "上の3つのコードセルでは、`!`を先頭に付けることでLinuxコマンドを呼び出している。ところが、Windows版のPython上で動作しているJupyterでは、Linuxコマンドを実行できない。その代替として、以下のPythonプログラムを実行すればよい。\n",
    "\n",
    "wgetコマンドの代わりに[SMS Spam Collection Data Set](https://archive.ics.uci.edu/ml/datasets/sms+spam+collection)をダウンロードするコード。\n",
    "\n",
    "```python\n",
    "import urllib.request\n",
    "filename, _ = urllib.request.urlretrieve(\n",
    "    'https://archive.ics.uci.edu/ml/machine-learning-databases/00228/smsspamcollection.zip',\n",
    "    'smsspamcollection.zip'\n",
    ")\n",
    "```\n",
    "\n",
    "zipコマンドの代わりにダウンロードしたファイルを解凍する。\n",
    "\n",
    "```python\n",
    "import zipfile\n",
    "with zipfile.ZipFile(filename, 'r') as fi:\n",
    "    fi.extractall('.')\n",
    "```\n",
    "\n",
    "解凍したファイルの先頭から10行を表示する。\n",
    "\n",
    "```python\n",
    "with open('SMSSpamCollection', encoding=\"utf-8\") as fi:\n",
    "    for n, line in enumerate(fi):\n",
    "        if n < 10:\n",
    "            print(line, end='')\n",
    "        else:\n",
    "            break\n",
    "```\n",
    "\n",
    "なお、Windows 10以降では[Windows Subsystem for Linux (WSL)](https://docs.microsoft.com/ja-jp/windows/wsl/install)をインストールすることで、UbuntuなどのLinux ディストリビューションを動作させ、その環境内でJupyterを立ち上げることができる。その場合、LinuxコマンドをJupyterのコードセルから直接呼び出すことが可能である。\n",
    "\n",
    "---\n"
   ]
  },
  {
   "cell_type": "markdown",
   "metadata": {},
   "source": [
    "### データの読み込み\n",
    "\n",
    "このファイルから事例を読み込み、リストオブジェクト`D`に格納する。\n",
    "\n",
    "---\n",
    "\n",
    "#### 【補足】Windows版Pythonで文字化けが発生する場合  \n",
    "\n",
    "Windows版のPythonでは、テキストファイルの読み書きの際の文字コードの規定値がCP932 (Shift_JIS) に設定されていることがある。ところが、SMSSpamCollectionというファイルの文字コードはUTF-8であるため、ファイルの内容を正常に読み込むことができない。その場合は、以下のプログラムで\n",
    "\n",
    "```python\n",
    "with open('SMSSpamCollection') as fi:\n",
    "```\n",
    "\n",
    "となっている箇所を、\n",
    "\n",
    "```python\n",
    "with open('SMSSpamCollection', encoding='utf8') as fi:\n",
    "```\n",
    "\n",
    "に変更すればよい。\n",
    "\n",
    "もしくは、`PYTHONUTF8`という環境変数に`1`をセットした状態でJupyterを立ち上げると、テキストファイルの読み書き時の文字コードの規定値がUTF-8となるので、プログラムを変更しなくてもSMSSpamCollectionをUTF-8のテキストファイルとして読み込むことができる（[PEP 540 -- Add a new UTF-8 Mode](https://www.python.org/dev/peps/pep-0540/)）。\n",
    "\n",
    "```bat\n",
    "set PYTHONUTF8=1\n",
    "```\n",
    "\n",
    "---\n"
   ]
  },
  {
   "cell_type": "code",
   "execution_count": 29,
   "metadata": {},
   "outputs": [],
   "source": [
    "def tokenize(s):\n",
    "    return [t.rstrip('.') for t in s.split(' ')]\n",
    "\n",
    "def vectorize(tokens):\n",
    "    return Counter(tokens)\n",
    "\n",
    "def readiter(fi):\n",
    "    for line in fi:\n",
    "        fields = line.strip('\\n').split('\\t')\n",
    "        x = vectorize(tokenize(fields[1]))\n",
    "        y = fields[0]\n",
    "        yield x, y\n",
    "\n",
    "with open('./spam/SMSSpamCollection') as fi:\n",
    "    D = [d for d in readiter(fi)]"
   ]
  },
  {
   "cell_type": "markdown",
   "metadata": {},
   "source": [
    "`D`の各要素はメッセージ中に含まれる単語の出現頻度（`collections.Counter`オブジェクト）とラベルのタプルである。"
   ]
  },
  {
   "cell_type": "code",
   "execution_count": 30,
   "metadata": {},
   "outputs": [
    {
     "data": {
      "text/plain": [
       "(Counter({'Even': 1,\n",
       "          'my': 1,\n",
       "          'brother': 1,\n",
       "          'is': 1,\n",
       "          'not': 1,\n",
       "          'like': 2,\n",
       "          'to': 1,\n",
       "          'speak': 1,\n",
       "          'with': 1,\n",
       "          'me': 2,\n",
       "          'They': 1,\n",
       "          'treat': 1,\n",
       "          'aids': 1,\n",
       "          'patent': 1}),\n",
       " 'ham')"
      ]
     },
     "execution_count": 30,
     "metadata": {},
     "output_type": "execute_result"
    }
   ],
   "source": [
    "D[6]"
   ]
  },
  {
   "cell_type": "markdown",
   "metadata": {},
   "source": [
    "[sklearn.model_selection.train_test_split](https://scikit-learn.org/stable/modules/generated/sklearn.model_selection.train_test_split.html)を用いて、このデータセットを訓練データ（90%）と評価データ（10%）に分割する。"
   ]
  },
  {
   "cell_type": "code",
   "execution_count": 31,
   "metadata": {},
   "outputs": [],
   "source": [
    "Dtrain, Dtest = train_test_split(D, test_size=0.1, random_state=0)"
   ]
  },
  {
   "cell_type": "markdown",
   "metadata": {},
   "source": [
    "訓練データと評価データの事例数を確認しておく。"
   ]
  },
  {
   "cell_type": "code",
   "execution_count": 32,
   "metadata": {},
   "outputs": [
    {
     "data": {
      "text/plain": [
       "(5016, 558)"
      ]
     },
     "execution_count": 32,
     "metadata": {},
     "output_type": "execute_result"
    }
   ],
   "source": [
    "len(Dtrain), len(Dtest)"
   ]
  },
  {
   "cell_type": "markdown",
   "metadata": {},
   "source": [
    "### データ形式の変換\n",
    "\n",
    "[sklearn.feature_extraction.DictVectorizer](https://scikit-learn.org/stable/modules/generated/sklearn.feature_extraction.DictVectorizer.html)と[sklearn.preprocessing.LabelEncoder](https://scikit-learn.org/stable/modules/generated/sklearn.preprocessing.LabelEncoder.html)を用いて、訓練データと評価データをscikit-learnが扱える行列形式に変換する。\n",
    "\n",
    "DictVectorizerは、特徴をキー、値をバリューとする辞書オブジェクトから特徴ベクトルに変換する。このとき、各特徴に$0$から始まるID番号を割り振っていくことで、文字列などで表現される特徴をベクトルの要素番号に対応づける。なお、テキストを単語を特徴とするベクトルで表現する場合、ベクトルの要素数はデータ中のすべての単語となるが、各事例のテキストは少数の単語で構成されるため、特徴ベクトルの多くの要素はゼロで、テキストに含まれている単語に対応する要素だけ非ゼロとなる。このように、要素の多くはゼロで、少数の要素が非ゼロであるベクトルは疎ベクトルと呼ばれる。DictVectorizerのデフォルトの動作では、辞書オブジェクトを[scipy.sparse](https://docs.scipy.org/doc/scipy/reference/sparse.html)の疎ベクトル形式に変換する。\n",
    "\n",
    "[fit_transform](https://scikit-learn.org/stable/modules/generated/sklearn.feature_extraction.DictVectorizer.html#sklearn.feature_extraction.DictVectorizer.fit_transform)関数は、\n",
    "特徴と要素番号の対応関係を更新しながら、辞書オブジェクトを疎ベクトルに変換する。[transform](https://scikit-learn.org/stable/modules/generated/sklearn.feature_extraction.DictVectorizer.html#sklearn.feature_extraction.DictVectorizer.transform)関数は、特徴と要素番号の対応関係を更新せずに、辞書オブジェクトを疎ベクトルに変換する（対応関係が登録されていない特徴は無視される）。\n",
    "学習時に存在しなかった特徴を評価時に使うことができないため、前者を学習データに、後者を評価データに用いる。いずれの関数も、引数として辞書オブジェクトのリスト（事例のリスト）を与えると、返り値は事例の疎ベクトルをまとめた疎行列となる。\n",
    "\n",
    "LabelEncoderはラベルを整数値に変換する。各ラベルに$0$から始まるID番号を割り振っていくことで、文字列などで表現されるラベルをクラスの番号に対応づける。今回用いるデータは\"ham\"と\"spam\"の二つのラベルで構成されているため、これらのラベルに対して$0$または$1$が割り当てられる。"
   ]
  },
  {
   "cell_type": "markdown",
   "metadata": {
    "tags": []
   },
   "source": [
    "\n",
    "---\n",
    "\n",
    "#### 【補足】疎ベクトル  \n",
    "\n",
    "疎ベクトル：0の値が多く含まれるベクトル  \n",
    "\n",
    "\n",
    "例：`(1, 0, 0, 0, 0)`  \n",
    "1) 要素数は5つ  \n",
    "2) 最初の要素は1  \n",
    "3) それ以外の要素は0  \n",
    "\n",
    "\n",
    "疎ベクトルの場合、上記1. と2. の情報だけを管理している  \n",
    "→ 0の値をメモリで保持する必要が無いため、リソースを効率良く利用できる  \n",
    "\n",
    "\n",
    "密ベクトルもあり、こちらは0も管理対象とする  \n",
    "\n",
    "\n",
    "---\n"
   ]
  },
  {
   "cell_type": "code",
   "execution_count": 33,
   "metadata": {},
   "outputs": [],
   "source": [
    "VX = DictVectorizer()\n",
    "VY = LabelEncoder()\n",
    "\n",
    "Xtrain = VX.fit_transform([d[0] for d in Dtrain])\n",
    "Ytrain = VY.fit_transform([d[1] for d in Dtrain])\n",
    "Xtest = VX.transform([d[0] for d in Dtest])\n",
    "Ytest = VY.transform([d[1] for d in Dtest])"
   ]
  },
  {
   "cell_type": "markdown",
   "metadata": {},
   "source": [
    "訓練データの事例`Dtrain[10]`がどのように変換されたのか確認しておこう。"
   ]
  },
  {
   "cell_type": "code",
   "execution_count": 34,
   "metadata": {},
   "outputs": [
    {
     "data": {
      "text/plain": [
       "(Counter({'I': 1,\n",
       "          'take': 1,\n",
       "          'it': 2,\n",
       "          'we': 3,\n",
       "          \"didn't\": 1,\n",
       "          'have': 2,\n",
       "          'the': 1,\n",
       "          'phone': 1,\n",
       "          'callon': 1,\n",
       "          'Friday': 1,\n",
       "          'Can': 1,\n",
       "          'assume': 1,\n",
       "          \"won't\": 1,\n",
       "          'this': 1,\n",
       "          'year': 1,\n",
       "          'now?': 1}),\n",
       " 'ham')"
      ]
     },
     "execution_count": 34,
     "metadata": {},
     "output_type": "execute_result"
    }
   ],
   "source": [
    "Dtrain[10]"
   ]
  },
  {
   "cell_type": "markdown",
   "metadata": {},
   "source": [
    "この事例の特徴ベクトルは疎ベクトルとして表現されている。"
   ]
  },
  {
   "cell_type": "code",
   "execution_count": 35,
   "metadata": {},
   "outputs": [
    {
     "name": "stdout",
     "output_type": "stream",
     "text": [
      "  (0, 1831)\t1.0\n",
      "  (0, 2385)\t1.0\n",
      "  (0, 2769)\t1.0\n",
      "  (0, 5546)\t1.0\n",
      "  (0, 6110)\t1.0\n",
      "  (0, 6923)\t1.0\n",
      "  (0, 8101)\t2.0\n",
      "  (0, 8587)\t2.0\n",
      "  (0, 9821)\t1.0\n",
      "  (0, 10231)\t1.0\n",
      "  (0, 11832)\t1.0\n",
      "  (0, 11957)\t1.0\n",
      "  (0, 12014)\t1.0\n",
      "  (0, 12653)\t3.0\n",
      "  (0, 12862)\t1.0\n",
      "  (0, 13030)\t1.0\n"
     ]
    }
   ],
   "source": [
    "print(Xtrain[10])"
   ]
  },
  {
   "cell_type": "markdown",
   "metadata": {},
   "source": [
    "値が`3.0`となっているベクトルの列番号は`12653`である。`Dtrain[10]`の実行結果から、この特徴に対応する単語は\"we\"である。そこで、`12653`に対応づけられている特徴を調べると、\"we\"であることが確認できる。"
   ]
  },
  {
   "cell_type": "code",
   "execution_count": 36,
   "metadata": {},
   "outputs": [
    {
     "data": {
      "text/plain": [
       "'we'"
      ]
     },
     "execution_count": 36,
     "metadata": {},
     "output_type": "execute_result"
    }
   ],
   "source": [
    "VX.feature_names_[12653]"
   ]
  },
  {
   "cell_type": "markdown",
   "metadata": {},
   "source": [
    "この事例に対応づけられたラベルのID番号は$0$である。"
   ]
  },
  {
   "cell_type": "code",
   "execution_count": 37,
   "metadata": {},
   "outputs": [
    {
     "name": "stdout",
     "output_type": "stream",
     "text": [
      "0\n"
     ]
    }
   ],
   "source": [
    "print(Ytrain[10])"
   ]
  },
  {
   "cell_type": "markdown",
   "metadata": {
    "tags": []
   },
   "source": [
    "\n",
    "---\n",
    "\n",
    "#### 【補足】その他データの状態  \n",
    "\n",
    "Yの値でham/spamを区別している  \n"
   ]
  },
  {
   "cell_type": "code",
   "execution_count": 38,
   "metadata": {},
   "outputs": [
    {
     "data": {
      "text/plain": [
       "(Counter({'Your': 1,\n",
       "          'unique': 1,\n",
       "          'user': 1,\n",
       "          'ID': 1,\n",
       "          'is': 1,\n",
       "          '1172': 1,\n",
       "          'For': 1,\n",
       "          'removal': 1,\n",
       "          'send': 1,\n",
       "          'STOP': 1,\n",
       "          'to': 1,\n",
       "          '87239': 1,\n",
       "          'customer': 1,\n",
       "          'services': 1,\n",
       "          '08708034412': 1}),\n",
       " 'spam')"
      ]
     },
     "execution_count": 38,
     "metadata": {},
     "output_type": "execute_result"
    }
   ],
   "source": [
    "Dtrain[2]"
   ]
  },
  {
   "cell_type": "code",
   "execution_count": 39,
   "metadata": {},
   "outputs": [
    {
     "name": "stdout",
     "output_type": "stream",
     "text": [
      "  (0, 405)\t1.0\n",
      "  (0, 634)\t1.0\n",
      "  (0, 1178)\t1.0\n",
      "  (0, 2362)\t1.0\n",
      "  (0, 2783)\t1.0\n",
      "  (0, 4137)\t1.0\n",
      "  (0, 5114)\t1.0\n",
      "  (0, 6699)\t1.0\n",
      "  (0, 8564)\t1.0\n",
      "  (0, 10776)\t1.0\n",
      "  (0, 11118)\t1.0\n",
      "  (0, 11142)\t1.0\n",
      "  (0, 12113)\t1.0\n",
      "  (0, 12388)\t1.0\n",
      "  (0, 12451)\t1.0\n"
     ]
    }
   ],
   "source": [
    "print(Xtrain[2])"
   ]
  },
  {
   "cell_type": "code",
   "execution_count": 40,
   "metadata": {},
   "outputs": [
    {
     "name": "stdout",
     "output_type": "stream",
     "text": [
      "1\n"
     ]
    }
   ],
   "source": [
    "print(Ytrain[2])"
   ]
  },
  {
   "cell_type": "markdown",
   "metadata": {},
   "source": [
    "\n",
    "---\n",
    "\n",
    "LabelEncoderオブジェクトに格納されているラベルからID番号への対応付けを確認すると、\"ham\"が$0$番、\"spam\"が$1$番に割り当てられていることが分かる。つまり、$y=0$が\"ham\"、$y=1$が\"spam\"に対応付けられている。"
   ]
  },
  {
   "cell_type": "code",
   "execution_count": 41,
   "metadata": {},
   "outputs": [
    {
     "data": {
      "text/plain": [
       "array(['ham', 'spam'], dtype='<U4')"
      ]
     },
     "execution_count": 41,
     "metadata": {},
     "output_type": "execute_result"
    }
   ],
   "source": [
    "VY.classes_"
   ]
  },
  {
   "cell_type": "markdown",
   "metadata": {
    "tags": []
   },
   "source": [
    "\n",
    "---\n",
    "\n",
    "#### 【補足】検証データの状態  \n",
    "\n"
   ]
  },
  {
   "cell_type": "code",
   "execution_count": 42,
   "metadata": {},
   "outputs": [
    {
     "name": "stdout",
     "output_type": "stream",
     "text": [
      "  (0, 4560)\t1.0\n",
      "  (0, 5320)\t1.0\n",
      "  (0, 5500)\t1.0\n",
      "  (0, 5719)\t1.0\n",
      "  (0, 6581)\t1.0\n",
      "  (0, 8112)\t1.0\n",
      "  (0, 8177)\t1.0\n",
      "  (0, 8810)\t1.0\n",
      "  (0, 8945)\t1.0\n",
      "  (0, 9737)\t1.0\n",
      "  (0, 12752)\t1.0\n",
      "  (0, 13077)\t1.0\n"
     ]
    }
   ],
   "source": [
    "print(Xtest[0])"
   ]
  },
  {
   "cell_type": "code",
   "execution_count": 43,
   "metadata": {},
   "outputs": [
    {
     "name": "stdout",
     "output_type": "stream",
     "text": [
      "0\n"
     ]
    }
   ],
   "source": [
    "print(Ytest[0])"
   ]
  },
  {
   "cell_type": "markdown",
   "metadata": {},
   "source": [
    "\n",
    "---\n",
    "\n",
    "### 二値分類モデルの学習"
   ]
  },
  {
   "cell_type": "markdown",
   "metadata": {},
   "source": [
    "[sklearn.linear_model.SGDClassifier](https://scikit-learn.org/stable/modules/generated/sklearn.linear_model.SGDClassifier.html)は線形分類モデルを確率的勾配降下法で学習する。ロジスティック回帰モデルを学習するには、SGDClassifierの引数に`loss='log'`を指定する。[fit](https://scikit-learn.org/stable/modules/generated/sklearn.linear_model.SGDClassifier.html#sklearn.linear_model.SGDClassifier.fit)関数に訓練データを渡すことで、モデルのパラメータが学習される。"
   ]
  },
  {
   "cell_type": "code",
   "execution_count": 44,
   "metadata": {},
   "outputs": [
    {
     "name": "stderr",
     "output_type": "stream",
     "text": [
      "/home/studio-lab-user/.conda/envs/mlnote/lib/python3.10/site-packages/sklearn/linear_model/_stochastic_gradient.py:173: FutureWarning: The loss 'log' was deprecated in v1.1 and will be removed in version 1.3. Use `loss='log_loss'` which is equivalent.\n",
      "  warnings.warn(\n"
     ]
    },
    {
     "data": {
      "text/html": [
       "<style>#sk-container-id-1 {color: black;background-color: white;}#sk-container-id-1 pre{padding: 0;}#sk-container-id-1 div.sk-toggleable {background-color: white;}#sk-container-id-1 label.sk-toggleable__label {cursor: pointer;display: block;width: 100%;margin-bottom: 0;padding: 0.3em;box-sizing: border-box;text-align: center;}#sk-container-id-1 label.sk-toggleable__label-arrow:before {content: \"▸\";float: left;margin-right: 0.25em;color: #696969;}#sk-container-id-1 label.sk-toggleable__label-arrow:hover:before {color: black;}#sk-container-id-1 div.sk-estimator:hover label.sk-toggleable__label-arrow:before {color: black;}#sk-container-id-1 div.sk-toggleable__content {max-height: 0;max-width: 0;overflow: hidden;text-align: left;background-color: #f0f8ff;}#sk-container-id-1 div.sk-toggleable__content pre {margin: 0.2em;color: black;border-radius: 0.25em;background-color: #f0f8ff;}#sk-container-id-1 input.sk-toggleable__control:checked~div.sk-toggleable__content {max-height: 200px;max-width: 100%;overflow: auto;}#sk-container-id-1 input.sk-toggleable__control:checked~label.sk-toggleable__label-arrow:before {content: \"▾\";}#sk-container-id-1 div.sk-estimator input.sk-toggleable__control:checked~label.sk-toggleable__label {background-color: #d4ebff;}#sk-container-id-1 div.sk-label input.sk-toggleable__control:checked~label.sk-toggleable__label {background-color: #d4ebff;}#sk-container-id-1 input.sk-hidden--visually {border: 0;clip: rect(1px 1px 1px 1px);clip: rect(1px, 1px, 1px, 1px);height: 1px;margin: -1px;overflow: hidden;padding: 0;position: absolute;width: 1px;}#sk-container-id-1 div.sk-estimator {font-family: monospace;background-color: #f0f8ff;border: 1px dotted black;border-radius: 0.25em;box-sizing: border-box;margin-bottom: 0.5em;}#sk-container-id-1 div.sk-estimator:hover {background-color: #d4ebff;}#sk-container-id-1 div.sk-parallel-item::after {content: \"\";width: 100%;border-bottom: 1px solid gray;flex-grow: 1;}#sk-container-id-1 div.sk-label:hover label.sk-toggleable__label {background-color: #d4ebff;}#sk-container-id-1 div.sk-serial::before {content: \"\";position: absolute;border-left: 1px solid gray;box-sizing: border-box;top: 0;bottom: 0;left: 50%;z-index: 0;}#sk-container-id-1 div.sk-serial {display: flex;flex-direction: column;align-items: center;background-color: white;padding-right: 0.2em;padding-left: 0.2em;position: relative;}#sk-container-id-1 div.sk-item {position: relative;z-index: 1;}#sk-container-id-1 div.sk-parallel {display: flex;align-items: stretch;justify-content: center;background-color: white;position: relative;}#sk-container-id-1 div.sk-item::before, #sk-container-id-1 div.sk-parallel-item::before {content: \"\";position: absolute;border-left: 1px solid gray;box-sizing: border-box;top: 0;bottom: 0;left: 50%;z-index: -1;}#sk-container-id-1 div.sk-parallel-item {display: flex;flex-direction: column;z-index: 1;position: relative;background-color: white;}#sk-container-id-1 div.sk-parallel-item:first-child::after {align-self: flex-end;width: 50%;}#sk-container-id-1 div.sk-parallel-item:last-child::after {align-self: flex-start;width: 50%;}#sk-container-id-1 div.sk-parallel-item:only-child::after {width: 0;}#sk-container-id-1 div.sk-dashed-wrapped {border: 1px dashed gray;margin: 0 0.4em 0.5em 0.4em;box-sizing: border-box;padding-bottom: 0.4em;background-color: white;}#sk-container-id-1 div.sk-label label {font-family: monospace;font-weight: bold;display: inline-block;line-height: 1.2em;}#sk-container-id-1 div.sk-label-container {text-align: center;}#sk-container-id-1 div.sk-container {/* jupyter's `normalize.less` sets `[hidden] { display: none; }` but bootstrap.min.css set `[hidden] { display: none !important; }` so we also need the `!important` here to be able to override the default hidden behavior on the sphinx rendered scikit-learn.org. See: https://github.com/scikit-learn/scikit-learn/issues/21755 */display: inline-block !important;position: relative;}#sk-container-id-1 div.sk-text-repr-fallback {display: none;}</style><div id=\"sk-container-id-1\" class=\"sk-top-container\"><div class=\"sk-text-repr-fallback\"><pre>SGDClassifier(loss=&#x27;log&#x27;)</pre><b>In a Jupyter environment, please rerun this cell to show the HTML representation or trust the notebook. <br />On GitHub, the HTML representation is unable to render, please try loading this page with nbviewer.org.</b></div><div class=\"sk-container\" hidden><div class=\"sk-item\"><div class=\"sk-estimator sk-toggleable\"><input class=\"sk-toggleable__control sk-hidden--visually\" id=\"sk-estimator-id-1\" type=\"checkbox\" checked><label for=\"sk-estimator-id-1\" class=\"sk-toggleable__label sk-toggleable__label-arrow\">SGDClassifier</label><div class=\"sk-toggleable__content\"><pre>SGDClassifier(loss=&#x27;log&#x27;)</pre></div></div></div></div></div>"
      ],
      "text/plain": [
       "SGDClassifier(loss='log')"
      ]
     },
     "execution_count": 44,
     "metadata": {},
     "output_type": "execute_result"
    }
   ],
   "source": [
    "model = SGDClassifier(loss='log')\n",
    "model.fit(Xtrain, Ytrain)"
   ]
  },
  {
   "cell_type": "markdown",
   "metadata": {},
   "source": [
    "### 分類器の適用・評価"
   ]
  },
  {
   "cell_type": "markdown",
   "metadata": {},
   "source": [
    "学習した分類器のモデルを用い、評価データの先頭の事例を分類する。予測されたラベルのID番号は$0$なので、このメッセージは\"ham\"（スパムではない）と予測された。"
   ]
  },
  {
   "cell_type": "code",
   "execution_count": 45,
   "metadata": {},
   "outputs": [
    {
     "data": {
      "text/plain": [
       "array([0])"
      ]
     },
     "execution_count": 45,
     "metadata": {},
     "output_type": "execute_result"
    }
   ],
   "source": [
    "model.predict(Xtest[0])"
   ]
  },
  {
   "cell_type": "markdown",
   "metadata": {},
   "source": [
    "モデルがこの事例を\"ham\"および\"spam\"と予測する確率を表示する。"
   ]
  },
  {
   "cell_type": "code",
   "execution_count": 46,
   "metadata": {},
   "outputs": [
    {
     "data": {
      "text/plain": [
       "array([[0.99596225, 0.00403775]])"
      ]
     },
     "execution_count": 46,
     "metadata": {},
     "output_type": "execute_result"
    }
   ],
   "source": [
    "model.predict_proba(Xtest[0])"
   ]
  },
  {
   "cell_type": "markdown",
   "metadata": {},
   "source": [
    "評価データのすべての事例を使い、正解率を求める。"
   ]
  },
  {
   "cell_type": "code",
   "execution_count": 47,
   "metadata": {},
   "outputs": [
    {
     "data": {
      "text/plain": [
       "0.9713261648745519"
      ]
     },
     "execution_count": 47,
     "metadata": {},
     "output_type": "execute_result"
    }
   ],
   "source": [
    "model.score(Xtest, Ytest)"
   ]
  },
  {
   "cell_type": "markdown",
   "metadata": {},
   "source": [
    "任意のテキストメッセージを分類モデルに適用する例。以下のメッセージはspamに分類された。"
   ]
  },
  {
   "cell_type": "code",
   "execution_count": 48,
   "metadata": {},
   "outputs": [
    {
     "data": {
      "text/plain": [
       "array([[0.16948542, 0.83051458]])"
      ]
     },
     "execution_count": 48,
     "metadata": {},
     "output_type": "execute_result"
    }
   ],
   "source": [
    "msg = \"Your account has been credited with 500 FREE Text Messages.\"\n",
    "model.predict_proba(VX.transform(vectorize(tokenize(msg))))"
   ]
  },
  {
   "cell_type": "markdown",
   "metadata": {},
   "source": [
    "### モデルパラメータの確認"
   ]
  },
  {
   "cell_type": "markdown",
   "metadata": {},
   "source": [
    "学習で求められたモデルのパラメータ（重み）は`coef_`メンバ変数で確認できる。"
   ]
  },
  {
   "cell_type": "code",
   "execution_count": 49,
   "metadata": {},
   "outputs": [
    {
     "data": {
      "text/plain": [
       "array([[-0.88101682, -0.01049393, -0.00526578, ...,  0.25048392,\n",
       "        -0.16611254, -0.00166691]])"
      ]
     },
     "execution_count": 49,
     "metadata": {},
     "output_type": "execute_result"
    }
   ],
   "source": [
    "model.coef_"
   ]
  },
  {
   "cell_type": "markdown",
   "metadata": {},
   "source": [
    "特徴を表す単語とその重みのタプルからなるリストを作成し、重みが小さい順に並べたものを変数`F`に格納する。"
   ]
  },
  {
   "cell_type": "code",
   "execution_count": 50,
   "metadata": {},
   "outputs": [],
   "source": [
    "F = sorted(zip(VX.feature_names_, model.coef_[0]), key=lambda x: x[1])"
   ]
  },
  {
   "cell_type": "markdown",
   "metadata": {},
   "source": [
    "重みの値が負に大きいトップ20の単語を表示する。$y=0$は\"ham\"に対応するので、これらの単語を含むメッセージは\"ham\"と予測されやすくなる。"
   ]
  },
  {
   "cell_type": "code",
   "execution_count": 51,
   "metadata": {},
   "outputs": [
    {
     "data": {
      "text/plain": [
       "[('&lt;#&gt;', -1.2804875307704304),\n",
       " ('him', -1.2576094593067513),\n",
       " ('me', -1.2159641283533973),\n",
       " (':)', -1.1622474801067544),\n",
       " ('morning', -1.0001126496930886),\n",
       " ('And', -0.9944254905965172),\n",
       " ('my', -0.9266964958900634),\n",
       " ('I', -0.92312677785722),\n",
       " ('i', -0.9228843626322076),\n",
       " ('u', -0.918980676549678),\n",
       " ('So', -0.909889779554044),\n",
       " (\"I'll\", -0.8981543793024044),\n",
       " ('Happy', -0.8937256123713586),\n",
       " ('', -0.8810168201603458),\n",
       " ('Its', -0.8681870698776609),\n",
       " ('cant', -0.8575734117079152),\n",
       " ('Yes', -0.8432881747812738),\n",
       " ('that', -0.8069156159382798),\n",
       " (\"i'm\", -0.8064833576021816),\n",
       " ('da', -0.7847582933498883)]"
      ]
     },
     "execution_count": 51,
     "metadata": {},
     "output_type": "execute_result"
    }
   ],
   "source": [
    "F[:20]"
   ]
  },
  {
   "cell_type": "markdown",
   "metadata": {},
   "source": [
    "重みの値が正に大きいトップ20の単語を表示する。$y=1$は\"spam\"に対応するので、これらの単語を含むメッセージは\"spam\"と予測されやすくなる。"
   ]
  },
  {
   "cell_type": "code",
   "execution_count": 52,
   "metadata": {},
   "outputs": [
    {
     "data": {
      "text/plain": [
       "[('85233', 1.565661504974812),\n",
       " ('FREE>Ringtone!Reply', 1.565661504974812),\n",
       " ('To', 1.6186953522862726),\n",
       " ('service', 1.6336569701319903),\n",
       " ('FREE', 1.673662946851834),\n",
       " ('Text', 1.6752584265305013),\n",
       " ('146tf150p', 1.7163804052290603),\n",
       " ('2/2', 1.7163804052290603),\n",
       " ('84484', 1.7261703769791719),\n",
       " ('ringtoneking', 1.7261703769791719),\n",
       " ('-', 1.7488799512996576),\n",
       " ('mobile', 1.8119524011893995),\n",
       " ('text', 1.8316877920286336),\n",
       " ('&', 1.895334103460981),\n",
       " ('won', 2.013100554269714),\n",
       " ('txt', 2.0327171460189297),\n",
       " ('STOP', 2.069720963933867),\n",
       " ('now!', 2.2491236310855904),\n",
       " ('Txt', 2.2755674424233527),\n",
       " ('Call', 2.4015589890267766)]"
      ]
     },
     "execution_count": 52,
     "metadata": {},
     "output_type": "execute_result"
    }
   ],
   "source": [
    "F[-20:]"
   ]
  },
  {
   "cell_type": "markdown",
   "metadata": {},
   "source": [
    "## 確認問題"
   ]
  },
  {
   "cell_type": "markdown",
   "metadata": {},
   "source": [
    "**(1) 確率的勾配降下法によるロジスティック回帰モデルの学習**\n",
    "\n",
    "確率的勾配降下法でロジスティック回帰モデルを学習するアルゴリズムを自前で実装せよ。学習データや評価データは自由に選んでよい（難しければ、前節で用いた[SMS Spam Collection Data Set](https://archive.ics.uci.edu/ml/datasets/sms+spam+collection)を用いよ）。"
   ]
  },
  {
   "cell_type": "markdown",
   "metadata": {},
   "source": [
    "### 1.1 モデルの作成\n",
    "\n",
    "ロジスティック回帰モデルのクラスを作成します。入力がベクトル化されていることを前提とし、出力値は数値とします。\n"
   ]
  },
  {
   "cell_type": "code",
   "execution_count": 53,
   "metadata": {},
   "outputs": [],
   "source": [
    "class LogisticClassifier():\n",
    "    \n",
    "    def __init__(self):\n",
    "        self.w = None\n",
    "    \n",
    "    def sigmoid(self, a):\n",
    "        # refer 5.3.1\n",
    "        return (0 <= a) * (1 / (1 + np.exp(-a))) + (0 > a) * (1. - 1 / (1 + np.exp(a)))\n",
    "    \n",
    "    def train(self, X, Y, eta=1.0, alpha=1e-6, epoch=40000, eps=1e-6):\n",
    "        N = X.shape[0]\n",
    "        self.w = np.random.uniform(size=(X.shape[-1], 1))\n",
    "        for t in range(epoch):\n",
    "            i = np.random.choice(N)\n",
    "            delta = (Y[i] - self.predict_proba(X[i])) * X[i]\n",
    "            delta = delta.reshape((-1, 1)) - 2 * alpha * self.w / N\n",
    "            if np.sum(np.abs(delta)) < eps:\n",
    "                break\n",
    "            self.w += eta * delta\n",
    "        return self\n",
    "    \n",
    "    def predict_proba(self, X):\n",
    "        y = self.sigmoid(X @ self.w)\n",
    "        return y.flatten()\n",
    "\n",
    "    def predict(self, X, threshold=0.5):\n",
    "        return (self.predict_proba(X) >= threshold).astype(int)"
   ]
  },
  {
   "cell_type": "markdown",
   "metadata": {},
   "source": [
    "シグモイド関数を描画し、実装できていることを確認します。"
   ]
  },
  {
   "cell_type": "code",
   "execution_count": 54,
   "metadata": {},
   "outputs": [
    {
     "data": {
      "text/plain": [
       "<AxesSubplot:xlabel='x'>"
      ]
     },
     "execution_count": 54,
     "metadata": {},
     "output_type": "execute_result"
    },
    {
     "data": {
      "image/png": "[encoded data removed]",
      "text/plain": [
       "<Figure size 640x480 with 1 Axes>"
      ]
     },
     "metadata": {},
     "output_type": "display_data"
    }
   ],
   "source": [
    "pd.DataFrame({\n",
    "    \"x\": np.arange(-10, 10, 0.1),\n",
    "    \"y\": LogisticClassifier().sigmoid(np.arange(-10, 10, 0.1))\n",
    "}).plot.line(x=\"x\", y=\"y\")"
   ]
  },
  {
   "cell_type": "markdown",
   "metadata": {},
   "source": [
    "学習が可能なことを確認します。"
   ]
  },
  {
   "cell_type": "code",
   "execution_count": 55,
   "metadata": {
    "tags": []
   },
   "outputs": [],
   "source": [
    "def test_train():\n",
    "    X = np.array([[1.0, 0.0, 0.0], [0.0, 0.1, 0.0], [1.0, 0.0, 0.0]])\n",
    "    y = np.array([1, 0, 1])\n",
    "    model = LogisticClassifier().train(X, y, eps=0)\n",
    "    np.testing.assert_allclose(y, model.predict_proba(X), atol=0.01)\n",
    "\n",
    "test_train()"
   ]
  },
  {
   "cell_type": "markdown",
   "metadata": {},
   "source": [
    "### 1.2 データの作成\n",
    "\n",
    "データを読み込み、ベクトル化するクラスを作成します。"
   ]
  },
  {
   "cell_type": "code",
   "execution_count": 56,
   "metadata": {},
   "outputs": [],
   "source": [
    "class Converter():\n",
    "    \n",
    "    def __init__(self):\n",
    "        self.vectorizer = None\n",
    "        self.encoder = None\n",
    "\n",
    "    def tokenize(self, text):\n",
    "        return [s.rstrip('.') for s in text.split(' ')]\n",
    "\n",
    "    def to_dict(self, tokens):\n",
    "        return Counter(tokens)\n",
    "\n",
    "    def read_file(self, file_name):\n",
    "        dataset = []\n",
    "        with open(file_name) as f:\n",
    "            for line in f.readlines():\n",
    "                fields = line.strip('\\n').split('\\t')\n",
    "                y = fields[0]\n",
    "                x = self.to_dict(self.tokenize(fields[1]))\n",
    "                dataset.append((x, y))\n",
    "        return dataset\n",
    "    \n",
    "    def fit_transform(self, dataset):\n",
    "        self.vectorizer = DictVectorizer()\n",
    "        self.encoder = LabelEncoder()\n",
    "        X = self.vectorizer.fit_transform([d[0] for d in dataset])\n",
    "        y = self.encoder.fit_transform([d[1] for d in dataset])\n",
    "        return X, y\n",
    "    \n",
    "    def transform(self, dataset):\n",
    "        X = self.vectorizer.transform([d[0] for d in dataset])\n",
    "        y = self.encoder.transform([d[1] for d in dataset])\n",
    "        return X, y        "
   ]
  },
  {
   "cell_type": "markdown",
   "metadata": {},
   "source": [
    "データを取得します。[5.9. スパムフィルタの構築](https://chokkan.github.io/mlnote/classification/01binary.html#id12)と同じものを使用します。"
   ]
  },
  {
   "cell_type": "markdown",
   "metadata": {
    "tags": []
   },
   "source": [
    "\n",
    "----\n",
    "\n",
    "#### 【補足】  \n",
    "ダウンロード・解凍したファイルは、「./spam」フォルダへ登録済  \n",
    "\n",
    "---\n"
   ]
  },
  {
   "cell_type": "code",
   "execution_count": 57,
   "metadata": {},
   "outputs": [],
   "source": [
    "#!wget https://archive.ics.uci.edu/ml/machine-learning-databases/00228/smsspamcollection.zip -f -P data/"
   ]
  },
  {
   "cell_type": "code",
   "execution_count": 58,
   "metadata": {},
   "outputs": [],
   "source": [
    "#!unzip data/smsspamcollection.zip -f -d data/"
   ]
  },
  {
   "cell_type": "code",
   "execution_count": 59,
   "metadata": {},
   "outputs": [
    {
     "name": "stdout",
     "output_type": "stream",
     "text": [
      "ham\tGo until jurong point, crazy.. Available only in bugis n great world la e buffet... Cine there got amore wat...\n",
      "ham\tOk lar... Joking wif u oni...\n",
      "spam\tFree entry in 2 a wkly comp to win FA Cup final tkts 21st May 2005. Text FA to 87121 to receive entry question(std txt rate)T&C's apply 08452810075over18's\n",
      "ham\tU dun say so early hor... U c already then say...\n",
      "ham\tNah I don't think he goes to usf, he lives around here though\n",
      "spam\tFreeMsg Hey there darling it's been 3 week's now and no word back! I'd like some fun you up for it still? Tb ok! XxX std chgs to send, £1.50 to rcv\n",
      "ham\tEven my brother is not like to speak with me. They treat me like aids patent.\n",
      "ham\tAs per your request 'Melle Melle (Oru Minnaminunginte Nurungu Vettam)' has been set as your callertune for all Callers. Press *9 to copy your friends Callertune\n",
      "spam\tWINNER!! As a valued network customer you have been selected to receivea £900 prize reward! To claim call 09061701461. Claim code KL341. Valid 12 hours only.\n",
      "spam\tHad your mobile 11 months or more? U R entitled to Update to the latest colour mobiles with camera for Free! Call The Mobile Update Co FREE on 08002986030\n"
     ]
    }
   ],
   "source": [
    "!head ./spam/SMSSpamCollection"
   ]
  },
  {
   "cell_type": "markdown",
   "metadata": {},
   "source": [
    "データの中を参照してみます。"
   ]
  },
  {
   "cell_type": "code",
   "execution_count": 60,
   "metadata": {},
   "outputs": [
    {
     "data": {
      "text/plain": [
       "(Counter({\"I'm\": 1,\n",
       "          'gonna': 1,\n",
       "          'be': 1,\n",
       "          'home': 1,\n",
       "          'soon': 1,\n",
       "          'and': 1,\n",
       "          'i': 1,\n",
       "          \"don't\": 1,\n",
       "          'want': 1,\n",
       "          'to': 1,\n",
       "          'talk': 1,\n",
       "          'about': 1,\n",
       "          'this': 1,\n",
       "          'stuff': 1,\n",
       "          'anymore': 1,\n",
       "          'tonight,': 1,\n",
       "          'k?': 1,\n",
       "          \"I've\": 1,\n",
       "          'cried': 1,\n",
       "          'enough': 1,\n",
       "          'today': 1}),\n",
       " 'ham')"
      ]
     },
     "execution_count": 60,
     "metadata": {},
     "output_type": "execute_result"
    }
   ],
   "source": [
    "converter = Converter()\n",
    "dataset = converter.read_file(\"./spam/SMSSpamCollection\")\n",
    "dataset[10]"
   ]
  },
  {
   "cell_type": "markdown",
   "metadata": {},
   "source": [
    "テストデータと評価データに分離します。"
   ]
  },
  {
   "cell_type": "code",
   "execution_count": 61,
   "metadata": {},
   "outputs": [
    {
     "data": {
      "text/plain": [
       "(5016, 558)"
      ]
     },
     "execution_count": 61,
     "metadata": {},
     "output_type": "execute_result"
    }
   ],
   "source": [
    "from sklearn.model_selection import train_test_split\n",
    "\n",
    "\n",
    "train_data, test_data = train_test_split(dataset, test_size=0.1, random_state=0)\n",
    "len(train_data), len(test_data)"
   ]
  },
  {
   "cell_type": "markdown",
   "metadata": {},
   "source": [
    "学習データをベクトル化します"
   ]
  },
  {
   "cell_type": "code",
   "execution_count": 62,
   "metadata": {},
   "outputs": [],
   "source": [
    "X, y = converter.fit_transform(train_data)"
   ]
  },
  {
   "cell_type": "code",
   "execution_count": 63,
   "metadata": {},
   "outputs": [
    {
     "data": {
      "text/plain": [
       "(5016, 13205)"
      ]
     },
     "execution_count": 63,
     "metadata": {},
     "output_type": "execute_result"
    }
   ],
   "source": [
    "X.shape"
   ]
  },
  {
   "cell_type": "code",
   "execution_count": 64,
   "metadata": {},
   "outputs": [
    {
     "data": {
      "text/plain": [
       "(5016,)"
      ]
     },
     "execution_count": 64,
     "metadata": {},
     "output_type": "execute_result"
    }
   ],
   "source": [
    "y.shape"
   ]
  },
  {
   "cell_type": "markdown",
   "metadata": {},
   "source": [
    "学習を実行します。"
   ]
  },
  {
   "cell_type": "code",
   "execution_count": 65,
   "metadata": {},
   "outputs": [],
   "source": [
    "model = LogisticClassifier().train(X, y, eta=1.0, alpha=1e-6, epoch=100000, eps=1e-6)"
   ]
  },
  {
   "cell_type": "markdown",
   "metadata": {},
   "source": [
    "**(2) 評価データ上での正解率**\n",
    "\n",
    "評価データ上で学習したモデルの正解率を測定せよ。"
   ]
  },
  {
   "cell_type": "code",
   "execution_count": 66,
   "metadata": {},
   "outputs": [],
   "source": [
    "X_test, y_test = converter.transform(test_data)"
   ]
  },
  {
   "cell_type": "code",
   "execution_count": 67,
   "metadata": {},
   "outputs": [
    {
     "name": "stdout",
     "output_type": "stream",
     "text": [
      "              precision    recall  f1-score   support\n",
      "\n",
      "           0       0.97      0.99      0.98       469\n",
      "           1       0.92      0.87      0.89        89\n",
      "\n",
      "    accuracy                           0.97       558\n",
      "   macro avg       0.95      0.93      0.94       558\n",
      "weighted avg       0.97      0.97      0.97       558\n",
      "\n"
     ]
    }
   ],
   "source": [
    "from sklearn.metrics import classification_report\n",
    "\n",
    "\n",
    "print(classification_report(y_test, model.predict(X_test)))"
   ]
  },
  {
   "cell_type": "markdown",
   "metadata": {},
   "source": [
    "正解率、`accuracy`は0.96となりました。学習できていることがわかります。"
   ]
  },
  {
   "cell_type": "markdown",
   "metadata": {},
   "source": [
    "**(3) 学習で求めたパラメータ**\n",
    "\n",
    "学習で求めたモデルのパラメータのうち、重みの絶対値が大きいものトップ20を、重みが正のものと負のものに分けて表示せよ。"
   ]
  },
  {
   "cell_type": "code",
   "execution_count": 68,
   "metadata": {},
   "outputs": [],
   "source": [
    "weight = pd.Series(model.w.flatten(), index=converter.vectorizer.feature_names_)"
   ]
  },
  {
   "cell_type": "markdown",
   "metadata": {},
   "source": [
    "重みの絶対値が大きいものトップ20を表示します。"
   ]
  },
  {
   "cell_type": "code",
   "execution_count": 69,
   "metadata": {},
   "outputs": [
    {
     "data": {
      "text/plain": [
       "Luv            8.029503\n",
       "Txt            7.926126\n",
       "STOP           7.300906\n",
       "let's          6.362072\n",
       "&              6.216447\n",
       "won            6.195750\n",
       "txt            6.169019\n",
       "Ltd            6.007731\n",
       "Reply          5.816683\n",
       "FREE           5.791881\n",
       "Text           5.744629\n",
       "service        5.627008\n",
       "sexy           5.428004\n",
       "07090201529    5.180729\n",
       "mobile         5.178209\n",
       "truly          4.921814\n",
       "link           4.760730\n",
       "Call           4.580193\n",
       "86688          4.561556\n",
       "text           4.555766\n",
       "dtype: float64"
      ]
     },
     "execution_count": 69,
     "metadata": {},
     "output_type": "execute_result"
    }
   ],
   "source": [
    "weight.nlargest(20)"
   ]
  },
  {
   "cell_type": "markdown",
   "metadata": {},
   "source": [
    "重みが負のものトップ20を表示します。"
   ]
  },
  {
   "cell_type": "code",
   "execution_count": 70,
   "metadata": {},
   "outputs": [
    {
     "data": {
      "text/plain": [
       "Happy       -13.292154\n",
       "Ok           -6.450143\n",
       "me           -5.764359\n",
       "i            -5.229871\n",
       "Yup          -5.042250\n",
       "i'm          -4.909425\n",
       "             -4.800083\n",
       "later        -4.773965\n",
       "I            -4.756342\n",
       "Okie         -4.746123\n",
       "my           -4.729663\n",
       "What         -4.651203\n",
       "No           -4.577537\n",
       "lor          -4.527354\n",
       "u            -4.510093\n",
       ":)           -4.473576\n",
       "ü            -4.445050\n",
       "got          -4.387095\n",
       "&lt;#&gt;    -4.386105\n",
       "Its          -4.366185\n",
       "dtype: float64"
      ]
     },
     "execution_count": 70,
     "metadata": {},
     "output_type": "execute_result"
    }
   ],
   "source": [
    "weight.nsmallest(20)"
   ]
  },
  {
   "cell_type": "markdown",
   "metadata": {
    "tags": [
     "remove-cell"
    ]
   },
   "source": [
    "---\n",
    "\n",
    "[機械学習帳](https://chokkan.github.io/mlnote/) © Copyright 2020-2022 by [岡崎 直観 (Naoaki Okazaki)](https://www.chokkan.org/). この作品は<a rel=\"license\" href=\"http://creativecommons.org/licenses/by-nc-nd/4.0/\">クリエイティブ・コモンズ 表示 - 非営利 - 改変禁止 4.0 国際 ライセンス</a>の下に提供されています。 <a rel=\"license\" href=\"http://creativecommons.org/licenses/by-nc-nd/4.0/\"><img alt=\"クリエイティブ・コモンズ・ライセンス\" style=\"border-width:0\" src=\"https://i.creativecommons.org/l/by-nc-nd/4.0/80x15.png\" /></a>　ただし、作品中のコードセル部分は<a rel=\"license\" href=\"https://opensource.org/licenses/MIT\">MITライセンス</a>の下に提供されています。"
   ]
  }
 ],
 "metadata": {
  "@context": {
   "CreativeWork": "http://schema.org/CreativeWork",
   "Organization": "http://schema.org/Organization",
   "Person": "http://schema.org/Person",
   "author": "http://schema.org/author",
   "copyrightHolder": "http://schema.org/copyrightHolder",
   "copyrightYear": "http://schema.org/copyrightYear",
   "license": "http://schema.org/license",
   "name": "http://schema.org/name",
   "title": "http://schema.org/name",
   "url": "http://schema.org/url"
  },
  "@type": "CreativeWork",
  "author": [
   {
    "@type": "Person",
    "name": "Naoaki Okazaki",
    "url": "https://www.chokkan.org/"
   }
  ],
  "copyrightHolder": [
   {
    "@type": "Person",
    "name": "Naoaki Okazaki",
    "url": "https://www.chokkan.org/"
   }
  ],
  "copyrightYear": 2022,
  "kernelspec": {
   "display_name": "mlnote:Python",
   "language": "python",
   "name": "conda-env-mlnote-py"
  },
  "language_info": {
   "codemirror_mode": {
    "name": "ipython",
    "version": 3
   },
   "file_extension": ".py",
   "mimetype": "text/x-python",
   "name": "python",
   "nbconvert_exporter": "python",
   "pygments_lexer": "ipython3",
   "version": "3.10.6"
  },
  "license": "https://creativecommons.org/licenses/by-nc-nd/4.0/deed.ja",
  "title": "機械学習帳"
 },
 "nbformat": 4,
 "nbformat_minor": 4
}
