{
 "cells": [
  {
   "cell_type": "markdown",
   "id": "3cf762d7-f847-47c3-b872-3e2c3d119298",
   "metadata": {
    "tags": []
   },
   "source": [
    "# 家賃算出モデル  \n",
    "\n",
    "トレーニングデータは以下から引用  \n",
    "[「千葉商科大学 商経学部 情報コース 応用情報処理」](https://www3.cuc.ac.jp/~nagaoka/2011/ouyou/11/rent/index.html)  \n",
    "\n",
    "- なお説明変数(X)のうち、「家の向き」は独自に数値化してみた  "
   ]
  },
  {
   "cell_type": "markdown",
   "id": "39829f35-b5cf-41de-ab4d-32baae0dc5dd",
   "metadata": {},
   "source": [
    "初回のみインストール  "
   ]
  },
  {
   "cell_type": "code",
   "execution_count": null,
   "id": "874d041b",
   "metadata": {
    "tags": []
   },
   "outputs": [],
   "source": [
    "!pip install numpy\n",
    "!pip install pandas\n",
    "!pip install japanize-matplotlib\n",
    "!pip install scikit-learn"
   ]
  },
  {
   "cell_type": "markdown",
   "id": "10273126-e7e6-4bda-b99b-a11f890b4e0f",
   "metadata": {},
   "source": [
    "\n",
    "---\n",
    "\n",
    "Python動作環境  "
   ]
  },
  {
   "cell_type": "code",
   "execution_count": 1,
   "id": "f253d06d-0c5e-40f9-af25-b52c49463327",
   "metadata": {
    "tags": []
   },
   "outputs": [],
   "source": [
    "import numpy as np\n",
    "import pandas as pd\n",
    "import matplotlib.pyplot as plt\n",
    "import matplotlib.patches\n",
    "import matplotlib.colors\n",
    "import matplotlib.animation\n",
    "from IPython.display import HTML\n",
    "import japanize_matplotlib\n",
    "from sklearn import linear_model"
   ]
  },
  {
   "cell_type": "markdown",
   "id": "b9d3c227-1150-4242-bba6-fc173057ee26",
   "metadata": {},
   "source": [
    "\n",
    "---\n",
    "\n",
    "## トレーニングデータ：csvファイル読込  "
   ]
  },
  {
   "cell_type": "code",
   "execution_count": 2,
   "id": "58c74e68-23bc-4824-ab15-cfa5d3f75a9a",
   "metadata": {},
   "outputs": [
    {
     "data": {
      "text/html": [
       "<div>\n",
       "<style scoped>\n",
       "    .dataframe tbody tr th:only-of-type {\n",
       "        vertical-align: middle;\n",
       "    }\n",
       "\n",
       "    .dataframe tbody tr th {\n",
       "        vertical-align: top;\n",
       "    }\n",
       "\n",
       "    .dataframe thead th {\n",
       "        text-align: right;\n",
       "    }\n",
       "</style>\n",
       "<table border=\"1\" class=\"dataframe\">\n",
       "  <thead>\n",
       "    <tr style=\"text-align: right;\">\n",
       "      <th></th>\n",
       "      <th>number</th>\n",
       "      <th>location</th>\n",
       "      <th>monthly_price</th>\n",
       "      <th>house_area</th>\n",
       "      <th>house_age</th>\n",
       "      <th>walk_from_station</th>\n",
       "      <th>direction_of_house</th>\n",
       "      <th>direction_jp</th>\n",
       "    </tr>\n",
       "  </thead>\n",
       "  <tbody>\n",
       "    <tr>\n",
       "      <th>0</th>\n",
       "      <td>1</td>\n",
       "      <td>市川市真間</td>\n",
       "      <td>60000</td>\n",
       "      <td>23.2</td>\n",
       "      <td>19</td>\n",
       "      <td>7</td>\n",
       "      <td>3.0</td>\n",
       "      <td>南</td>\n",
       "    </tr>\n",
       "    <tr>\n",
       "      <th>1</th>\n",
       "      <td>2</td>\n",
       "      <td>市川市新田</td>\n",
       "      <td>77000</td>\n",
       "      <td>23.2</td>\n",
       "      <td>16</td>\n",
       "      <td>2</td>\n",
       "      <td>2.7</td>\n",
       "      <td>南東</td>\n",
       "    </tr>\n",
       "    <tr>\n",
       "      <th>2</th>\n",
       "      <td>3</td>\n",
       "      <td>市川市真間</td>\n",
       "      <td>60000</td>\n",
       "      <td>32.1</td>\n",
       "      <td>19</td>\n",
       "      <td>10</td>\n",
       "      <td>3.0</td>\n",
       "      <td>南</td>\n",
       "    </tr>\n",
       "    <tr>\n",
       "      <th>3</th>\n",
       "      <td>4</td>\n",
       "      <td>市川市新田</td>\n",
       "      <td>62000</td>\n",
       "      <td>18.0</td>\n",
       "      <td>14</td>\n",
       "      <td>11</td>\n",
       "      <td>2.7</td>\n",
       "      <td>南東</td>\n",
       "    </tr>\n",
       "    <tr>\n",
       "      <th>4</th>\n",
       "      <td>5</td>\n",
       "      <td>市川市市川南</td>\n",
       "      <td>64000</td>\n",
       "      <td>21.1</td>\n",
       "      <td>0</td>\n",
       "      <td>2</td>\n",
       "      <td>2.3</td>\n",
       "      <td>東</td>\n",
       "    </tr>\n",
       "    <tr>\n",
       "      <th>5</th>\n",
       "      <td>6</td>\n",
       "      <td>市川市菅野</td>\n",
       "      <td>51000</td>\n",
       "      <td>15.8</td>\n",
       "      <td>21</td>\n",
       "      <td>12</td>\n",
       "      <td>3.0</td>\n",
       "      <td>南</td>\n",
       "    </tr>\n",
       "    <tr>\n",
       "      <th>6</th>\n",
       "      <td>7</td>\n",
       "      <td>市川市菅野</td>\n",
       "      <td>43000</td>\n",
       "      <td>14.6</td>\n",
       "      <td>16</td>\n",
       "      <td>12</td>\n",
       "      <td>3.0</td>\n",
       "      <td>南</td>\n",
       "    </tr>\n",
       "    <tr>\n",
       "      <th>7</th>\n",
       "      <td>8</td>\n",
       "      <td>市川市真間</td>\n",
       "      <td>59000</td>\n",
       "      <td>17.4</td>\n",
       "      <td>18</td>\n",
       "      <td>6</td>\n",
       "      <td>2.5</td>\n",
       "      <td>南西</td>\n",
       "    </tr>\n",
       "    <tr>\n",
       "      <th>8</th>\n",
       "      <td>9</td>\n",
       "      <td>市川市新田</td>\n",
       "      <td>55000</td>\n",
       "      <td>19.8</td>\n",
       "      <td>16</td>\n",
       "      <td>10</td>\n",
       "      <td>3.0</td>\n",
       "      <td>南</td>\n",
       "    </tr>\n",
       "    <tr>\n",
       "      <th>9</th>\n",
       "      <td>10</td>\n",
       "      <td>市川市新田</td>\n",
       "      <td>51000</td>\n",
       "      <td>17.0</td>\n",
       "      <td>18</td>\n",
       "      <td>6</td>\n",
       "      <td>3.0</td>\n",
       "      <td>南</td>\n",
       "    </tr>\n",
       "  </tbody>\n",
       "</table>\n",
       "</div>"
      ],
      "text/plain": [
       "   number location  monthly_price  house_area  house_age  walk_from_station  \\\n",
       "0       1    市川市真間          60000        23.2         19                  7   \n",
       "1       2    市川市新田          77000        23.2         16                  2   \n",
       "2       3    市川市真間          60000        32.1         19                 10   \n",
       "3       4    市川市新田          62000        18.0         14                 11   \n",
       "4       5   市川市市川南          64000        21.1          0                  2   \n",
       "5       6    市川市菅野          51000        15.8         21                 12   \n",
       "6       7    市川市菅野          43000        14.6         16                 12   \n",
       "7       8    市川市真間          59000        17.4         18                  6   \n",
       "8       9    市川市新田          55000        19.8         16                 10   \n",
       "9      10    市川市新田          51000        17.0         18                  6   \n",
       "\n",
       "   direction_of_house direction_jp  \n",
       "0                 3.0            南  \n",
       "1                 2.7           南東  \n",
       "2                 3.0            南  \n",
       "3                 2.7           南東  \n",
       "4                 2.3            東  \n",
       "5                 3.0            南  \n",
       "6                 3.0            南  \n",
       "7                 2.5           南西  \n",
       "8                 3.0            南  \n",
       "9                 3.0            南  "
      ]
     },
     "metadata": {},
     "output_type": "display_data"
    }
   ],
   "source": [
    "inFileName = 'rent.csv'\n",
    "\n",
    "data = pd.read_csv(inFileName, sep = ',')\n",
    "display(data.head(10))"
   ]
  },
  {
   "cell_type": "markdown",
   "id": "cea1e7c9-4983-40f7-8d6f-a2e7dfe8e36c",
   "metadata": {},
   "source": [
    "- データの情報  "
   ]
  },
  {
   "cell_type": "code",
   "execution_count": 3,
   "id": "8b873053-b5cb-4503-b1f9-4b43b5ef4ed6",
   "metadata": {},
   "outputs": [
    {
     "data": {
      "text/plain": [
       "number                  int64\n",
       "location               object\n",
       "monthly_price           int64\n",
       "house_area            float64\n",
       "house_age               int64\n",
       "walk_from_station       int64\n",
       "direction_of_house    float64\n",
       "direction_jp           object\n",
       "dtype: object"
      ]
     },
     "execution_count": 3,
     "metadata": {},
     "output_type": "execute_result"
    }
   ],
   "source": [
    "data.dtypes"
   ]
  },
  {
   "cell_type": "code",
   "execution_count": 4,
   "id": "538880d6-5e65-4465-8a3b-70667acec13c",
   "metadata": {},
   "outputs": [
    {
     "name": "stdout",
     "output_type": "stream",
     "text": [
      "<class 'pandas.core.frame.DataFrame'>\n",
      "RangeIndex: 297 entries, 0 to 296\n",
      "Data columns (total 8 columns):\n",
      " #   Column              Non-Null Count  Dtype  \n",
      "---  ------              --------------  -----  \n",
      " 0   number              297 non-null    int64  \n",
      " 1   location            297 non-null    object \n",
      " 2   monthly_price       297 non-null    int64  \n",
      " 3   house_area          297 non-null    float64\n",
      " 4   house_age           297 non-null    int64  \n",
      " 5   walk_from_station   297 non-null    int64  \n",
      " 6   direction_of_house  297 non-null    float64\n",
      " 7   direction_jp        297 non-null    object \n",
      "dtypes: float64(2), int64(4), object(2)\n",
      "memory usage: 18.7+ KB\n"
     ]
    }
   ],
   "source": [
    "data.info()"
   ]
  },
  {
   "cell_type": "code",
   "execution_count": 5,
   "id": "5ee7182b-ee18-4f59-9f94-a863caa0231b",
   "metadata": {},
   "outputs": [
    {
     "data": {
      "text/html": [
       "<div>\n",
       "<style scoped>\n",
       "    .dataframe tbody tr th:only-of-type {\n",
       "        vertical-align: middle;\n",
       "    }\n",
       "\n",
       "    .dataframe tbody tr th {\n",
       "        vertical-align: top;\n",
       "    }\n",
       "\n",
       "    .dataframe thead th {\n",
       "        text-align: right;\n",
       "    }\n",
       "</style>\n",
       "<table border=\"1\" class=\"dataframe\">\n",
       "  <thead>\n",
       "    <tr style=\"text-align: right;\">\n",
       "      <th></th>\n",
       "      <th>number</th>\n",
       "      <th>monthly_price</th>\n",
       "      <th>house_area</th>\n",
       "      <th>house_age</th>\n",
       "      <th>walk_from_station</th>\n",
       "      <th>direction_of_house</th>\n",
       "    </tr>\n",
       "  </thead>\n",
       "  <tbody>\n",
       "    <tr>\n",
       "      <th>count</th>\n",
       "      <td>297.000000</td>\n",
       "      <td>297.000000</td>\n",
       "      <td>297.000000</td>\n",
       "      <td>297.000000</td>\n",
       "      <td>297.000000</td>\n",
       "      <td>297.000000</td>\n",
       "    </tr>\n",
       "    <tr>\n",
       "      <th>mean</th>\n",
       "      <td>149.000000</td>\n",
       "      <td>59769.360269</td>\n",
       "      <td>20.820202</td>\n",
       "      <td>16.471380</td>\n",
       "      <td>8.154882</td>\n",
       "      <td>2.719529</td>\n",
       "    </tr>\n",
       "    <tr>\n",
       "      <th>std</th>\n",
       "      <td>85.880731</td>\n",
       "      <td>8985.245259</td>\n",
       "      <td>4.014214</td>\n",
       "      <td>8.852013</td>\n",
       "      <td>4.034846</td>\n",
       "      <td>0.397317</td>\n",
       "    </tr>\n",
       "    <tr>\n",
       "      <th>min</th>\n",
       "      <td>1.000000</td>\n",
       "      <td>25000.000000</td>\n",
       "      <td>10.000000</td>\n",
       "      <td>0.000000</td>\n",
       "      <td>1.000000</td>\n",
       "      <td>1.000000</td>\n",
       "    </tr>\n",
       "    <tr>\n",
       "      <th>25%</th>\n",
       "      <td>75.000000</td>\n",
       "      <td>55000.000000</td>\n",
       "      <td>18.000000</td>\n",
       "      <td>14.000000</td>\n",
       "      <td>5.000000</td>\n",
       "      <td>2.500000</td>\n",
       "    </tr>\n",
       "    <tr>\n",
       "      <th>50%</th>\n",
       "      <td>149.000000</td>\n",
       "      <td>60000.000000</td>\n",
       "      <td>20.100000</td>\n",
       "      <td>17.000000</td>\n",
       "      <td>8.000000</td>\n",
       "      <td>3.000000</td>\n",
       "    </tr>\n",
       "    <tr>\n",
       "      <th>75%</th>\n",
       "      <td>223.000000</td>\n",
       "      <td>66000.000000</td>\n",
       "      <td>23.100000</td>\n",
       "      <td>20.000000</td>\n",
       "      <td>11.000000</td>\n",
       "      <td>3.000000</td>\n",
       "    </tr>\n",
       "    <tr>\n",
       "      <th>max</th>\n",
       "      <td>297.000000</td>\n",
       "      <td>86000.000000</td>\n",
       "      <td>33.000000</td>\n",
       "      <td>43.000000</td>\n",
       "      <td>15.000000</td>\n",
       "      <td>3.000000</td>\n",
       "    </tr>\n",
       "  </tbody>\n",
       "</table>\n",
       "</div>"
      ],
      "text/plain": [
       "           number  monthly_price  house_area   house_age  walk_from_station  \\\n",
       "count  297.000000     297.000000  297.000000  297.000000         297.000000   \n",
       "mean   149.000000   59769.360269   20.820202   16.471380           8.154882   \n",
       "std     85.880731    8985.245259    4.014214    8.852013           4.034846   \n",
       "min      1.000000   25000.000000   10.000000    0.000000           1.000000   \n",
       "25%     75.000000   55000.000000   18.000000   14.000000           5.000000   \n",
       "50%    149.000000   60000.000000   20.100000   17.000000           8.000000   \n",
       "75%    223.000000   66000.000000   23.100000   20.000000          11.000000   \n",
       "max    297.000000   86000.000000   33.000000   43.000000          15.000000   \n",
       "\n",
       "       direction_of_house  \n",
       "count          297.000000  \n",
       "mean             2.719529  \n",
       "std              0.397317  \n",
       "min              1.000000  \n",
       "25%              2.500000  \n",
       "50%              3.000000  \n",
       "75%              3.000000  \n",
       "max              3.000000  "
      ]
     },
     "execution_count": 5,
     "metadata": {},
     "output_type": "execute_result"
    }
   ],
   "source": [
    "data.describe()"
   ]
  },
  {
   "cell_type": "markdown",
   "id": "d6858c1b-fec4-430a-b721-751428237639",
   "metadata": {},
   "source": [
    "\n",
    "---\n",
    "\n",
    "## 各データと家賃の関係性をチェック  \n",
    "\n",
    "- 部屋の面積 ＆ 家賃  "
   ]
  },
  {
   "cell_type": "code",
   "execution_count": 6,
   "id": "15138f6e-5c75-40f1-a56c-2da85d839671",
   "metadata": {},
   "outputs": [
    {
     "data": {
      "text/plain": [
       "array([ 1213.63210198, 34501.29472795])"
      ]
     },
     "execution_count": 6,
     "metadata": {},
     "output_type": "execute_result"
    }
   ],
   "source": [
    "W = np.polyfit(data['house_area'], data['monthly_price'], 1)\n",
    "y_hat = np.polyval(W, data['house_area'])\n",
    "W"
   ]
  },
  {
   "cell_type": "code",
   "execution_count": 7,
   "id": "94f170ce-7fa3-4796-83bb-f1f1c2a9d2d3",
   "metadata": {},
   "outputs": [
    {
     "data": {
      "image/png": "[encoded data removed]",
      "text/plain": [
       "<Figure size 504x504 with 1 Axes>"
      ]
     },
     "metadata": {
      "needs_background": "light"
     },
     "output_type": "display_data"
    }
   ],
   "source": [
    "plt.figure(figsize=(7,7))\n",
    "plt.scatter(data['house_area'], data['monthly_price'])\n",
    "plt.plot(data['house_area'], y_hat, 'r')\n",
    "plt.xlabel('面積')\n",
    "plt.ylabel('家賃')\n",
    "plt.grid()"
   ]
  },
  {
   "cell_type": "markdown",
   "id": "7455efa1-fdeb-4a9f-bb51-e3758037b6a2",
   "metadata": {},
   "source": [
    "- 築年数 ＆ 家賃  "
   ]
  },
  {
   "cell_type": "code",
   "execution_count": 8,
   "id": "529a27c4-e7d2-4485-9eb8-8f270d63e9d4",
   "metadata": {},
   "outputs": [
    {
     "data": {
      "text/plain": [
       "array([ -613.50807564, 69874.68520545])"
      ]
     },
     "execution_count": 8,
     "metadata": {},
     "output_type": "execute_result"
    }
   ],
   "source": [
    "W = np.polyfit(data['house_age'], data['monthly_price'], 1)\n",
    "y_hat = np.polyval(W, data['house_age'])\n",
    "W"
   ]
  },
  {
   "cell_type": "code",
   "execution_count": 9,
   "id": "bfa60b04-af4c-4e05-8224-0636b890f23b",
   "metadata": {},
   "outputs": [
    {
     "data": {
      "image/png": "[encoded data removed]",
      "text/plain": [
       "<Figure size 504x504 with 1 Axes>"
      ]
     },
     "metadata": {
      "needs_background": "light"
     },
     "output_type": "display_data"
    }
   ],
   "source": [
    "plt.figure(figsize=(7,7))\n",
    "plt.scatter(data['house_age'], data['monthly_price'])\n",
    "plt.plot(data['house_age'], y_hat, 'r')\n",
    "plt.xlabel('築年数')\n",
    "plt.ylabel('家賃')\n",
    "plt.grid()"
   ]
  },
  {
   "cell_type": "markdown",
   "id": "ae89bd85-5a07-4dc8-b751-6d82bec26de7",
   "metadata": {},
   "source": [
    "- 駅まで歩いて何分 ＆ 家賃  "
   ]
  },
  {
   "cell_type": "code",
   "execution_count": 10,
   "id": "751eea47-6ddf-46e4-8fa0-3c61663aee5d",
   "metadata": {},
   "outputs": [
    {
     "data": {
      "text/plain": [
       "array([ -788.95805356, 66203.22022127])"
      ]
     },
     "execution_count": 10,
     "metadata": {},
     "output_type": "execute_result"
    }
   ],
   "source": [
    "W = np.polyfit(data['walk_from_station'], data['monthly_price'], 1)\n",
    "y_hat = np.polyval(W, data['walk_from_station'])\n",
    "W"
   ]
  },
  {
   "cell_type": "code",
   "execution_count": 11,
   "id": "7ad90fb1-ea8e-487f-8b71-0f2081a6ab57",
   "metadata": {},
   "outputs": [
    {
     "data": {
      "image/png": "[encoded data removed]",
      "text/plain": [
       "<Figure size 504x504 with 1 Axes>"
      ]
     },
     "metadata": {
      "needs_background": "light"
     },
     "output_type": "display_data"
    }
   ],
   "source": [
    "plt.figure(figsize=(7,7))\n",
    "plt.scatter(data['walk_from_station'], data['monthly_price'])\n",
    "plt.plot(data['walk_from_station'], y_hat, 'r')\n",
    "plt.xlabel('駅徒歩分')\n",
    "plt.ylabel('家賃')\n",
    "plt.grid()"
   ]
  },
  {
   "cell_type": "markdown",
   "id": "e3cdadff-11a2-4855-88fe-ce69cf724168",
   "metadata": {},
   "source": [
    "- 家の向き(南：3.0 ～ 北：1.0) ＆ 家賃  "
   ]
  },
  {
   "cell_type": "code",
   "execution_count": 12,
   "id": "9d161303-8d7c-49de-ba7b-65364ad82559",
   "metadata": {},
   "outputs": [
    {
     "data": {
      "text/plain": [
       "array([  848.28762978, 57462.41778259])"
      ]
     },
     "execution_count": 12,
     "metadata": {},
     "output_type": "execute_result"
    }
   ],
   "source": [
    "W = np.polyfit(data['direction_of_house'], data['monthly_price'], 1)\n",
    "y_hat = np.polyval(W, data['direction_of_house'])\n",
    "W"
   ]
  },
  {
   "cell_type": "code",
   "execution_count": 13,
   "id": "7fe1d907-333e-4d9c-9745-5593b75a21de",
   "metadata": {},
   "outputs": [
    {
     "data": {
      "image/png": "[encoded data removed]",
      "text/plain": [
       "<Figure size 504x504 with 1 Axes>"
      ]
     },
     "metadata": {
      "needs_background": "light"
     },
     "output_type": "display_data"
    }
   ],
   "source": [
    "plt.figure(figsize=(7,7))\n",
    "plt.scatter(data['direction_of_house'], data['monthly_price'])\n",
    "plt.plot(data['direction_of_house'], y_hat, 'r')\n",
    "plt.xlabel('家の向き')\n",
    "plt.ylabel('家賃')\n",
    "plt.grid()"
   ]
  },
  {
   "cell_type": "markdown",
   "id": "1b038d24-73ed-45dc-aa07-902c6abed39a",
   "metadata": {},
   "source": [
    "\n",
    "---\n",
    "\n",
    "## 家賃算出モデルを作成  \n",
    "\n",
    "- 目的変数(y)：算出結果 → 家賃  \n",
    "- 説明変数(X)：算出に影響を与える項目 → 面積・築年数・駅徒歩分・家の向き  \n"
   ]
  },
  {
   "cell_type": "code",
   "execution_count": 14,
   "id": "9c3b69f5-0952-446c-8b48-2287e2cc0313",
   "metadata": {},
   "outputs": [
    {
     "data": {
      "text/html": [
       "<style>#sk-container-id-1 {color: black;background-color: white;}#sk-container-id-1 pre{padding: 0;}#sk-container-id-1 div.sk-toggleable {background-color: white;}#sk-container-id-1 label.sk-toggleable__label {cursor: pointer;display: block;width: 100%;margin-bottom: 0;padding: 0.3em;box-sizing: border-box;text-align: center;}#sk-container-id-1 label.sk-toggleable__label-arrow:before {content: \"▸\";float: left;margin-right: 0.25em;color: #696969;}#sk-container-id-1 label.sk-toggleable__label-arrow:hover:before {color: black;}#sk-container-id-1 div.sk-estimator:hover label.sk-toggleable__label-arrow:before {color: black;}#sk-container-id-1 div.sk-toggleable__content {max-height: 0;max-width: 0;overflow: hidden;text-align: left;background-color: #f0f8ff;}#sk-container-id-1 div.sk-toggleable__content pre {margin: 0.2em;color: black;border-radius: 0.25em;background-color: #f0f8ff;}#sk-container-id-1 input.sk-toggleable__control:checked~div.sk-toggleable__content {max-height: 200px;max-width: 100%;overflow: auto;}#sk-container-id-1 input.sk-toggleable__control:checked~label.sk-toggleable__label-arrow:before {content: \"▾\";}#sk-container-id-1 div.sk-estimator input.sk-toggleable__control:checked~label.sk-toggleable__label {background-color: #d4ebff;}#sk-container-id-1 div.sk-label input.sk-toggleable__control:checked~label.sk-toggleable__label {background-color: #d4ebff;}#sk-container-id-1 input.sk-hidden--visually {border: 0;clip: rect(1px 1px 1px 1px);clip: rect(1px, 1px, 1px, 1px);height: 1px;margin: -1px;overflow: hidden;padding: 0;position: absolute;width: 1px;}#sk-container-id-1 div.sk-estimator {font-family: monospace;background-color: #f0f8ff;border: 1px dotted black;border-radius: 0.25em;box-sizing: border-box;margin-bottom: 0.5em;}#sk-container-id-1 div.sk-estimator:hover {background-color: #d4ebff;}#sk-container-id-1 div.sk-parallel-item::after {content: \"\";width: 100%;border-bottom: 1px solid gray;flex-grow: 1;}#sk-container-id-1 div.sk-label:hover label.sk-toggleable__label {background-color: #d4ebff;}#sk-container-id-1 div.sk-serial::before {content: \"\";position: absolute;border-left: 1px solid gray;box-sizing: border-box;top: 0;bottom: 0;left: 50%;z-index: 0;}#sk-container-id-1 div.sk-serial {display: flex;flex-direction: column;align-items: center;background-color: white;padding-right: 0.2em;padding-left: 0.2em;position: relative;}#sk-container-id-1 div.sk-item {position: relative;z-index: 1;}#sk-container-id-1 div.sk-parallel {display: flex;align-items: stretch;justify-content: center;background-color: white;position: relative;}#sk-container-id-1 div.sk-item::before, #sk-container-id-1 div.sk-parallel-item::before {content: \"\";position: absolute;border-left: 1px solid gray;box-sizing: border-box;top: 0;bottom: 0;left: 50%;z-index: -1;}#sk-container-id-1 div.sk-parallel-item {display: flex;flex-direction: column;z-index: 1;position: relative;background-color: white;}#sk-container-id-1 div.sk-parallel-item:first-child::after {align-self: flex-end;width: 50%;}#sk-container-id-1 div.sk-parallel-item:last-child::after {align-self: flex-start;width: 50%;}#sk-container-id-1 div.sk-parallel-item:only-child::after {width: 0;}#sk-container-id-1 div.sk-dashed-wrapped {border: 1px dashed gray;margin: 0 0.4em 0.5em 0.4em;box-sizing: border-box;padding-bottom: 0.4em;background-color: white;}#sk-container-id-1 div.sk-label label {font-family: monospace;font-weight: bold;display: inline-block;line-height: 1.2em;}#sk-container-id-1 div.sk-label-container {text-align: center;}#sk-container-id-1 div.sk-container {/* jupyter's `normalize.less` sets `[hidden] { display: none; }` but bootstrap.min.css set `[hidden] { display: none !important; }` so we also need the `!important` here to be able to override the default hidden behavior on the sphinx rendered scikit-learn.org. See: https://github.com/scikit-learn/scikit-learn/issues/21755 */display: inline-block !important;position: relative;}#sk-container-id-1 div.sk-text-repr-fallback {display: none;}</style><div id=\"sk-container-id-1\" class=\"sk-top-container\"><div class=\"sk-text-repr-fallback\"><pre>LinearRegression()</pre><b>In a Jupyter environment, please rerun this cell to show the HTML representation or trust the notebook. <br />On GitHub, the HTML representation is unable to render, please try loading this page with nbviewer.org.</b></div><div class=\"sk-container\" hidden><div class=\"sk-item\"><div class=\"sk-estimator sk-toggleable\"><input class=\"sk-toggleable__control sk-hidden--visually\" id=\"sk-estimator-id-1\" type=\"checkbox\" checked><label for=\"sk-estimator-id-1\" class=\"sk-toggleable__label sk-toggleable__label-arrow\">LinearRegression</label><div class=\"sk-toggleable__content\"><pre>LinearRegression()</pre></div></div></div></div></div>"
      ],
      "text/plain": [
       "LinearRegression()"
      ]
     },
     "execution_count": 14,
     "metadata": {},
     "output_type": "execute_result"
    }
   ],
   "source": [
    "y = data['monthly_price']\n",
    "X = data[['house_area', 'house_age', 'walk_from_station', 'direction_of_house']]\n",
    "\n",
    "reg = linear_model.LinearRegression()\n",
    "X = X.values\n",
    "reg.fit(X, y)"
   ]
  },
  {
   "cell_type": "markdown",
   "id": "091c6427-692c-4615-b24d-0aec9966ff09",
   "metadata": {},
   "source": [
    "家賃を算出する式  \n",
    "`y = b0 + (b1 * x1) + (b2 * x2) + (b3 * x3) + (b4 * x4)` の bを表示  \n",
    "以下の順番で出力される  \n",
    "- b1：面積の係数  \n",
    "- b2：築年数の係数  \n",
    "- b3：駅徒歩分の係数  \n",
    "- b4：家の向きの係数  "
   ]
  },
  {
   "cell_type": "code",
   "execution_count": 15,
   "id": "079e1e70-8975-4aca-9ede-a0088f3d11b5",
   "metadata": {},
   "outputs": [
    {
     "name": "stdout",
     "output_type": "stream",
     "text": [
      "[1033.03350706 -534.29657955 -460.25957578 1270.300408  ]\n"
     ]
    }
   ],
   "source": [
    "print(reg.coef_)"
   ]
  },
  {
   "cell_type": "markdown",
   "id": "189aabd2-77c6-48fe-b6b1-b84e6cc962bb",
   "metadata": {},
   "source": [
    "- b0：切片を算出  "
   ]
  },
  {
   "cell_type": "code",
   "execution_count": 16,
   "id": "3df1aee5-d52b-4506-abbc-0546f30d1778",
   "metadata": {},
   "outputs": [
    {
     "data": {
      "text/plain": [
       "47360.74049115615"
      ]
     },
     "execution_count": 16,
     "metadata": {},
     "output_type": "execute_result"
    }
   ],
   "source": [
    "reg.intercept_"
   ]
  },
  {
   "cell_type": "markdown",
   "id": "c72426af-b7a3-41d3-a422-c7196e319ad1",
   "metadata": {},
   "source": [
    "決定係数：1に近いほど、モデルの精度が高い  "
   ]
  },
  {
   "cell_type": "code",
   "execution_count": 17,
   "id": "a0005401-febd-42b8-a408-25f371e2db80",
   "metadata": {},
   "outputs": [
    {
     "data": {
      "text/plain": [
       "0.6437087456963198"
      ]
     },
     "execution_count": 17,
     "metadata": {},
     "output_type": "execute_result"
    }
   ],
   "source": [
    "reg.score(X, y)"
   ]
  },
  {
   "cell_type": "markdown",
   "id": "71d36ad7-d8b7-4a11-b28d-f1ccb1820def",
   "metadata": {},
   "source": [
    "\n",
    "---\n",
    "\n",
    "## 予測：家賃を算出してみる  \n",
    "\n",
    "- x1：面積 (小数点1桁まで入力)  \n",
    "- x2：築年数 (0～)  \n",
    "- x3：駅まで歩いて何分か (0～)  \n",
    "- x4：家の向き (南：3.0、南東：2.7、南西：2.5、東：2.3、西：2.0、北東：1.5、北：1.0)  "
   ]
  },
  {
   "cell_type": "code",
   "execution_count": 18,
   "id": "946fd538-d43c-4108-8aa1-488f1bdf69c3",
   "metadata": {},
   "outputs": [
    {
     "name": "stdout",
     "output_type": "stream",
     "text": [
      "¥48,972\n"
     ]
    }
   ],
   "source": [
    "x1 = 17.0\n",
    "x2 = 15\n",
    "x3 = 20\n",
    "x4 = 1.0\n",
    "\n",
    "price = reg.predict([[x1, x2, x3, x4]])\n",
    "print('¥' +'{:,.0f}'.format(int(price)))"
   ]
  },
  {
   "cell_type": "markdown",
   "id": "956cfc5c-9fd9-4f1d-97db-fcd13b42b9c4",
   "metadata": {},
   "source": [
    "- 北→南向きの部屋に変更  "
   ]
  },
  {
   "cell_type": "code",
   "execution_count": 19,
   "id": "d7236691-a9d3-4bb4-a062-9e460becf711",
   "metadata": {},
   "outputs": [
    {
     "name": "stdout",
     "output_type": "stream",
     "text": [
      "¥51,513\n"
     ]
    }
   ],
   "source": [
    "x1 = 17.0\n",
    "x2 = 15\n",
    "x3 = 20\n",
    "x4 = 3.0    #変更\n",
    "\n",
    "price = reg.predict([[x1, x2, x3, x4]])\n",
    "print('¥' +'{:,.0f}'.format(int(price)))"
   ]
  },
  {
   "cell_type": "markdown",
   "id": "f609bda3-f37f-4573-a01e-1f21eecf3ad6",
   "metadata": {},
   "source": [
    "- 徒歩20分 → 10分  "
   ]
  },
  {
   "cell_type": "code",
   "execution_count": 20,
   "id": "890b1830-bce5-453f-a182-f222744e950d",
   "metadata": {},
   "outputs": [
    {
     "name": "stdout",
     "output_type": "stream",
     "text": [
      "¥56,116\n"
     ]
    }
   ],
   "source": [
    "x1 = 17.0\n",
    "x2 = 15\n",
    "x3 = 10    #変更\n",
    "x4 = 3.0\n",
    "\n",
    "price = reg.predict([[x1, x2, x3, x4]])\n",
    "print('¥' +'{:,.0f}'.format(int(price)))"
   ]
  },
  {
   "cell_type": "markdown",
   "id": "70959cdd-ca1a-4caf-a5d5-02bffcc2c896",
   "metadata": {},
   "source": [
    "- 広い部屋：面積を25㎡へ  "
   ]
  },
  {
   "cell_type": "code",
   "execution_count": 21,
   "id": "c4dffa47-3bb0-4a99-a20a-0600b78d3d7a",
   "metadata": {},
   "outputs": [
    {
     "name": "stdout",
     "output_type": "stream",
     "text": [
      "¥64,380\n"
     ]
    }
   ],
   "source": [
    "x1 = 25.0    #変更\n",
    "x2 = 15\n",
    "x3 = 10\n",
    "x4 = 3.0\n",
    "\n",
    "price = reg.predict([[x1, x2, x3, x4]])\n",
    "print('¥' +'{:,.0f}'.format(int(price)))"
   ]
  },
  {
   "cell_type": "markdown",
   "id": "a4565026-99b4-4d63-97ec-cac9631c4bd6",
   "metadata": {},
   "source": [
    "- 徒歩10分 → 5分  "
   ]
  },
  {
   "cell_type": "code",
   "execution_count": 22,
   "id": "2470711c-7f37-48cd-a96d-1fdb595054d7",
   "metadata": {},
   "outputs": [
    {
     "name": "stdout",
     "output_type": "stream",
     "text": [
      "¥66,681\n"
     ]
    }
   ],
   "source": [
    "x1 = 25.0\n",
    "x2 = 15\n",
    "x3 = 5    #変更\n",
    "x4 = 3.0\n",
    "\n",
    "price = reg.predict([[x1, x2, x3, x4]])\n",
    "print('¥' +'{:,.0f}'.format(int(price)))"
   ]
  },
  {
   "cell_type": "markdown",
   "id": "445a2c2c-b823-43ab-bf69-7bfc54e283cd",
   "metadata": {},
   "source": [
    "- 築15年 → 新築(0年)に変更  "
   ]
  },
  {
   "cell_type": "code",
   "execution_count": 23,
   "id": "e24c011c-0608-4eba-97dd-0eea0e933274",
   "metadata": {},
   "outputs": [
    {
     "name": "stdout",
     "output_type": "stream",
     "text": [
      "¥74,696\n"
     ]
    }
   ],
   "source": [
    "x1 = 25.0\n",
    "x2 = 0    #変更\n",
    "x3 = 5\n",
    "x4 = 3.0\n",
    "\n",
    "price = reg.predict([[x1, x2, x3, x4]])\n",
    "print('¥' +'{:,.0f}'.format(int(price)))"
   ]
  },
  {
   "cell_type": "markdown",
   "id": "bb864b60-2312-4003-910e-cd784f737643",
   "metadata": {},
   "source": [
    "-  徒歩5分 → 徒歩0分(駅近)に変更  "
   ]
  },
  {
   "cell_type": "code",
   "execution_count": 24,
   "id": "5d8ef9fe-195e-4c2f-91c1-ac60bb40ed7a",
   "metadata": {},
   "outputs": [
    {
     "name": "stdout",
     "output_type": "stream",
     "text": [
      "¥76,997\n"
     ]
    }
   ],
   "source": [
    "x1 = 25.0\n",
    "x2 = 0\n",
    "x3 = 0    #変更\n",
    "x4 = 3.0\n",
    "\n",
    "price = reg.predict([[x1, x2, x3, x4]])\n",
    "print('¥' +'{:,.0f}'.format(int(price)))"
   ]
  },
  {
   "cell_type": "markdown",
   "id": "8b75f7a6-7fa7-4b18-a313-c4c2eb15ec5f",
   "metadata": {},
   "source": [
    "\n",
    "---\n"
   ]
  }
 ],
 "metadata": {
  "kernelspec": {
   "display_name": "default:Python",
   "language": "python",
   "name": "conda-env-default-py"
  },
  "language_info": {
   "codemirror_mode": {
    "name": "ipython",
    "version": 3
   },
   "file_extension": ".py",
   "mimetype": "text/x-python",
   "name": "python",
   "nbconvert_exporter": "python",
   "pygments_lexer": "ipython3",
   "version": "3.9.13"
  }
 },
 "nbformat": 4,
 "nbformat_minor": 5
}
