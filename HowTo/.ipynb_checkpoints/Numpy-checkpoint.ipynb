{
 "cells": [
  {
   "cell_type": "markdown",
   "id": "98bbdb53-2bf9-4b7e-a28b-e9d08995012c",
   "metadata": {
    "tags": []
   },
   "source": [
    "# Numpy  \n",
    "\n",
    "## Numpyとは  \n",
    "\n",
    "ベクトル（１次元配列）や行列（２次元配列）など、多次元配列の計算を高速に処理するライブラリ  \n",
    "機械学習やディープラーニングを行う場合は必ず利用される \n",
    "\n",
    "\n",
    "## 参考  \n",
    "- Chainer[「8.Numpy入門」](https://tutorials.chainer.org/ja/08_Introduction_to_NumPy.html)  \n",
    "- Pythonで学ぶ入門計量経済学[「単回帰分析」](https://py4etrics.github.io/8_Simple_Regression.html)  \n",
    "- Sci-pursuit[「最小二乗法の意味と計算方法 - 回帰直線の求め方」](https://sci-pursuit.com/math/statistics/least-square-method.html)  \n"
   ]
  },
  {
   "cell_type": "code",
   "execution_count": null,
   "id": "887e5646-eb47-403a-af54-a79df9a9e40d",
   "metadata": {},
   "outputs": [],
   "source": [
    "!pip install opencv-python"
   ]
  },
  {
   "cell_type": "code",
   "execution_count": 1,
   "id": "9643ed60-2176-4d5c-938c-80aefb833aeb",
   "metadata": {
    "tags": []
   },
   "outputs": [],
   "source": [
    "import numpy as np\n",
    "import matplotlib.pyplot as plt\n",
    "import japanize_matplotlib\n",
    "from PIL import Image\n",
    "import cv2"
   ]
  },
  {
   "cell_type": "markdown",
   "id": "2b35aee6-6331-4385-9576-667bc93754e2",
   "metadata": {},
   "source": [
    "\n",
    "\n",
    "---\n",
    "\n",
    "## その前に、Pythonのリストを復習  \n",
    "\n",
    "- リストを作成  \n"
   ]
  },
  {
   "cell_type": "code",
   "execution_count": 2,
   "id": "cfe771f4-18cf-47cf-ac3e-921dd86f166c",
   "metadata": {},
   "outputs": [
    {
     "name": "stdout",
     "output_type": "stream",
     "text": [
      "['apple', 100, 0.123]\n"
     ]
    }
   ],
   "source": [
    "#一次元\n",
    "l = ['apple', 100, 0.123]\n",
    "print(l)"
   ]
  },
  {
   "cell_type": "code",
   "execution_count": 3,
   "id": "231d2acc-4c65-4c15-9965-ae916213dab4",
   "metadata": {
    "tags": []
   },
   "outputs": [
    {
     "name": "stdout",
     "output_type": "stream",
     "text": [
      "[[0, 1, 2], [3, 4, 5], [6, 7, 8]]\n"
     ]
    }
   ],
   "source": [
    "#二次元\n",
    "l_2d = [[0, 1, 2], [3, 4, 5], [6, 7, 8]]\n",
    "print(l_2d)"
   ]
  },
  {
   "cell_type": "markdown",
   "id": "d34f84ad-89dd-4ab4-8264-5ad909b7c4ae",
   "metadata": {},
   "source": [
    "- リストを取得  "
   ]
  },
  {
   "cell_type": "code",
   "execution_count": 4,
   "id": "9e46e569-a570-41f4-990c-c1c9b8eb80f2",
   "metadata": {},
   "outputs": [
    {
     "name": "stdout",
     "output_type": "stream",
     "text": [
      "100\n",
      "[3, 4, 5]\n",
      "4\n"
     ]
    }
   ],
   "source": [
    "print(l[1])\n",
    "print(l_2d[1])\n",
    "print(l_2d[1][1])"
   ]
  },
  {
   "cell_type": "markdown",
   "id": "f321a61b-4035-42df-992a-a98f0d714a59",
   "metadata": {},
   "source": [
    "- スライス：リストを範囲指定で取得  \n",
    "  - 選択範囲の開始位置startと終了位置stopを、`[start:stop]`のように書く  \n",
    "    `start <= x < stop`の範囲が選択される。\n",
    "  - 開始位置startを省略した場合：最初から選択される  \n",
    "  - 終了位置stopを省略した場合：最後までが選択される  \n",
    "  - 両方とも省略した場合：すべての値が選択される  \n",
    "  - 位置を負の値で指定した場合：末尾(-1)からの位置となる\n",
    "  - 増分stepも指定可能、`[start:stop:step]`のように書く  \n"
   ]
  },
  {
   "cell_type": "code",
   "execution_count": 5,
   "id": "ec77e245-ed6d-483c-80b2-22fe83d380be",
   "metadata": {},
   "outputs": [
    {
     "name": "stdout",
     "output_type": "stream",
     "text": [
      "['apple', 100, 0.123]\n",
      "['apple', 100]\n",
      "[0]\n",
      "[1, 2]\n",
      "[0, 1, 2]\n",
      "[0.123]\n",
      "[100, 0.123]\n",
      "[0, 2]\n"
     ]
    }
   ],
   "source": [
    "print(l[:])\n",
    "print(l[:2])\n",
    "print(l_2d[0][:1])\n",
    "print(l_2d[0][1:])\n",
    "print(l_2d[0][:])\n",
    "print(l[-1:])\n",
    "print(l[-2:])\n",
    "print(l_2d[0][0::2])"
   ]
  },
  {
   "cell_type": "markdown",
   "id": "9d3e2e71-68a2-40c0-b918-568a7343fa21",
   "metadata": {},
   "source": [
    "\n",
    "\n",
    "---\n",
    "\n",
    "## Numpy  \n",
    "\n",
    "### 基礎  \n",
    "\n",
    "- array：データクラス(=ndarray)を作成  \n"
   ]
  },
  {
   "cell_type": "code",
   "execution_count": 6,
   "id": "8d822797-15cc-4c5e-a256-03f07231876d",
   "metadata": {
    "tags": []
   },
   "outputs": [
    {
     "name": "stdout",
     "output_type": "stream",
     "text": [
      "[1 2 3]\n",
      "<class 'numpy.ndarray'>\n"
     ]
    }
   ],
   "source": [
    "a = np.array([1, 2, 3])\n",
    "#a = np.array([1, 2])\n",
    "\n",
    "print(str(a))\n",
    "print(type(a))"
   ]
  },
  {
   "cell_type": "markdown",
   "id": "8ef75e1a-3ec2-4b1b-a3a0-dde7e3b0f57f",
   "metadata": {},
   "source": [
    "- shape：要素数を返却  "
   ]
  },
  {
   "cell_type": "code",
   "execution_count": 7,
   "id": "06797ebf-74a5-4485-a397-389700d8b67c",
   "metadata": {},
   "outputs": [
    {
     "data": {
      "text/plain": [
       "(3,)"
      ]
     },
     "execution_count": 7,
     "metadata": {},
     "output_type": "execute_result"
    }
   ],
   "source": [
    "a.shape"
   ]
  },
  {
   "cell_type": "markdown",
   "id": "4adb8f95-47f5-4021-80fe-5af454188294",
   "metadata": {},
   "source": [
    "- ndim：次元数を返却  "
   ]
  },
  {
   "cell_type": "code",
   "execution_count": 8,
   "id": "442dd01f-2d17-4331-928d-7be5e7018418",
   "metadata": {},
   "outputs": [
    {
     "data": {
      "text/plain": [
       "1"
      ]
     },
     "execution_count": 8,
     "metadata": {},
     "output_type": "execute_result"
    }
   ],
   "source": [
    "a.ndim"
   ]
  },
  {
   "cell_type": "markdown",
   "id": "302ac3ad-8f0a-4dd3-8577-0ecb3f6e37a1",
   "metadata": {
    "tags": []
   },
   "source": [
    "- size：要素数  "
   ]
  },
  {
   "cell_type": "code",
   "execution_count": 9,
   "id": "9076d52a-e154-40dc-aefc-8e8aa8e32c6e",
   "metadata": {
    "tags": []
   },
   "outputs": [
    {
     "data": {
      "text/plain": [
       "3"
      ]
     },
     "execution_count": 9,
     "metadata": {},
     "output_type": "execute_result"
    }
   ],
   "source": [
    "a.size"
   ]
  },
  {
   "cell_type": "markdown",
   "id": "8e7765f0-461d-4b3e-9871-57fc185d41e8",
   "metadata": {},
   "source": [
    "- 二次元配列の場合  "
   ]
  },
  {
   "cell_type": "code",
   "execution_count": 10,
   "id": "cd00b864-2e12-4bd8-8205-d984de2171d1",
   "metadata": {},
   "outputs": [
    {
     "name": "stdout",
     "output_type": "stream",
     "text": [
      "b = [[1 2 3]\n",
      " [4 5 6]]\n",
      "shape = (2, 3)\n",
      "ndim = 2\n",
      "size = 6\n"
     ]
    }
   ],
   "source": [
    "b = np.array(\n",
    "    [[1, 2, 3],\n",
    "     [4, 5, 6]]\n",
    ")\n",
    "\n",
    "print('b = ' + str(b))\n",
    "print('shape = ' + str(b.shape))\n",
    "print('ndim = ' + str(b.ndim))\n",
    "print('size = ' + str(b.size))"
   ]
  },
  {
   "cell_type": "markdown",
   "id": "f6e73d1a-6f2e-453e-8127-6bdacf5a43f6",
   "metadata": {},
   "source": [
    "- 空の配列を作成  \n",
    "  `dtype`でデータ型を指定、デフォルトは`float64`  "
   ]
  },
  {
   "cell_type": "code",
   "execution_count": 11,
   "id": "deb0ee28-240f-4c22-94d5-86dcc920c1d8",
   "metadata": {},
   "outputs": [
    {
     "data": {
      "text/plain": [
       "array([], dtype=int64)"
      ]
     },
     "execution_count": 11,
     "metadata": {},
     "output_type": "execute_result"
    }
   ],
   "source": [
    "c = np.empty(0, dtype='int')\n",
    "c"
   ]
  },
  {
   "cell_type": "markdown",
   "id": "75c0cd69-8659-42dd-b061-05b55e2b779e",
   "metadata": {},
   "source": [
    "- 配列に要素を追加  "
   ]
  },
  {
   "cell_type": "code",
   "execution_count": 12,
   "id": "f0086d04-7026-48e0-b9db-5a61f0dd1b1c",
   "metadata": {},
   "outputs": [
    {
     "data": {
      "text/plain": [
       "array([1])"
      ]
     },
     "execution_count": 12,
     "metadata": {},
     "output_type": "execute_result"
    }
   ],
   "source": [
    "c = np.append(c, 1)\n",
    "c"
   ]
  },
  {
   "cell_type": "markdown",
   "id": "2f7d4b4c-fce1-4a6d-94ec-2c2e8572137e",
   "metadata": {
    "tags": []
   },
   "source": [
    "\n",
    "---\n",
    "\n",
    "### データ型  \n",
    "\n",
    "\n",
    "- 整数  \n"
   ]
  },
  {
   "cell_type": "code",
   "execution_count": 13,
   "id": "e11b54ea-0c6d-49cd-994e-ced37b3011ed",
   "metadata": {
    "tags": []
   },
   "outputs": [
    {
     "data": {
      "text/plain": [
       "dtype('int64')"
      ]
     },
     "execution_count": 13,
     "metadata": {},
     "output_type": "execute_result"
    }
   ],
   "source": [
    "x = np.array([1, 2, 3])\n",
    "\n",
    "x.dtype"
   ]
  },
  {
   "cell_type": "markdown",
   "id": "287bc98e-51bf-46a0-a2a0-9f9cb2f0318f",
   "metadata": {},
   "source": [
    "- 浮動小数点  "
   ]
  },
  {
   "cell_type": "code",
   "execution_count": 14,
   "id": "ecf3f6b4-a1de-41ec-b738-0afb9141de7c",
   "metadata": {},
   "outputs": [
    {
     "data": {
      "text/plain": [
       "dtype('float64')"
      ]
     },
     "execution_count": 14,
     "metadata": {},
     "output_type": "execute_result"
    }
   ],
   "source": [
    "x = np.array([1., 2., 3.])\n",
    "\n",
    "x.dtype"
   ]
  },
  {
   "cell_type": "markdown",
   "id": "748e9e08-345b-4ed3-af53-42234f32662c",
   "metadata": {},
   "source": [
    "- 指数表現(e)のfloatを、指定した桁数で丸める  "
   ]
  },
  {
   "cell_type": "code",
   "execution_count": 15,
   "id": "9e6c493f-a6b9-46b9-997d-8ec328bf2bde",
   "metadata": {},
   "outputs": [
    {
     "name": "stdout",
     "output_type": "stream",
     "text": [
      "0.840517241\n",
      "0.0\n"
     ]
    }
   ],
   "source": [
    "x = np.array([8.40517241e-01, 1.38777878e-17])\n",
    "for i, row in enumerate(x):\n",
    "    print(np.around(row,10))"
   ]
  },
  {
   "cell_type": "markdown",
   "id": "7b78e660-3cdd-4d27-ba39-38848482ae3d",
   "metadata": {},
   "source": [
    "\n",
    "---\n",
    "\n",
    "## 配列の並び替え  \n"
   ]
  },
  {
   "cell_type": "markdown",
   "id": "0cf4cd48-42a9-47fc-bd97-b7eadff158d5",
   "metadata": {},
   "source": [
    "- [[x, y], [x, y], …] の配列を、[x, x, …], [y, y, …]の配列に変換  "
   ]
  },
  {
   "cell_type": "code",
   "execution_count": 16,
   "id": "492c30ce-b599-44ff-b5f7-b14e587456dc",
   "metadata": {
    "tags": []
   },
   "outputs": [
    {
     "data": {
      "text/plain": [
       "(array([1, 3, 6, 8]), array([3, 6, 5, 7]))"
      ]
     },
     "execution_count": 16,
     "metadata": {},
     "output_type": "execute_result"
    }
   ],
   "source": [
    "D = np.array([[1, 3], [3, 6], [6, 5], [8, 7]])\n",
    "D[:,0], D[:,1]"
   ]
  },
  {
   "cell_type": "markdown",
   "id": "2eb3e245-5209-44ac-9dc2-232e0a173a7c",
   "metadata": {},
   "source": [
    "上記の逆  \n",
    "\n",
    "- [x, x, …], [y, y, …] の配列を、[[x, y], [x, y], …]の配列に変換  "
   ]
  },
  {
   "cell_type": "code",
   "execution_count": 17,
   "id": "139dbf58-15f3-485b-802d-ed2cd80ef9c0",
   "metadata": {},
   "outputs": [
    {
     "data": {
      "text/plain": [
       "array([[[1, 3],\n",
       "        [3, 6],\n",
       "        [6, 5],\n",
       "        [8, 7]]])"
      ]
     },
     "execution_count": 17,
     "metadata": {},
     "output_type": "execute_result"
    }
   ],
   "source": [
    "X = np.array([1, 3, 6, 8])\n",
    "Y = np.array([3, 6, 5, 7])\n",
    "\n",
    "D = np.dstack([X, Y])\n",
    "D"
   ]
  },
  {
   "cell_type": "markdown",
   "id": "9fffa889-42ca-47ec-9037-99f150bd9506",
   "metadata": {},
   "source": [
    "複数の配列を、行として結合  "
   ]
  },
  {
   "cell_type": "code",
   "execution_count": 18,
   "id": "ca66237b-9f1e-4e1a-8d85-e6c720a45cc3",
   "metadata": {},
   "outputs": [
    {
     "data": {
      "text/plain": [
       "array([[1, 3, 6, 8],\n",
       "       [3, 6, 5, 7]])"
      ]
     },
     "execution_count": 18,
     "metadata": {},
     "output_type": "execute_result"
    }
   ],
   "source": [
    "b = np.vstack([X, Y])\n",
    "b"
   ]
  },
  {
   "cell_type": "markdown",
   "id": "2930e949-295b-4ac6-9ce4-d33b70309771",
   "metadata": {},
   "source": [
    "二次元配列の転置ビューを生成  \n",
    "元の値を変更すると、ビューの値も変更される  "
   ]
  },
  {
   "cell_type": "code",
   "execution_count": 19,
   "id": "7a234cce-7b53-4579-b57c-e91d2b8bdd07",
   "metadata": {},
   "outputs": [
    {
     "data": {
      "text/plain": [
       "array([[1, 3],\n",
       "       [3, 6],\n",
       "       [6, 5],\n",
       "       [8, 7]])"
      ]
     },
     "execution_count": 19,
     "metadata": {},
     "output_type": "execute_result"
    }
   ],
   "source": [
    "b_t = b.T\n",
    "b_t"
   ]
  },
  {
   "cell_type": "markdown",
   "id": "8319fb18-5976-403f-88eb-ec1e78a135cc",
   "metadata": {},
   "source": [
    "- Xの形状を変更  \n",
    "  - 行, 列 を指定  \n",
    "  - 列 を指定  \n",
    "  - `-1`を指定した場合、もう一つの要素数から自動算出  "
   ]
  },
  {
   "cell_type": "code",
   "execution_count": 20,
   "id": "3c0d7cc5-ceca-455d-b4e1-88ee7d9ea9c7",
   "metadata": {
    "tags": []
   },
   "outputs": [
    {
     "data": {
      "text/plain": [
       "array([[1, 2, 3, 4],\n",
       "       [5, 6, 7, 8]])"
      ]
     },
     "execution_count": 20,
     "metadata": {},
     "output_type": "execute_result"
    }
   ],
   "source": [
    "X = np.array([1, 2, 3, 4, 5, 6, 7, 8])\n",
    "D = X.reshape(2, 4)\n",
    "D"
   ]
  },
  {
   "cell_type": "code",
   "execution_count": 21,
   "id": "c1d0ae32-ed24-466c-ab75-fabe9f552f96",
   "metadata": {},
   "outputs": [
    {
     "data": {
      "text/plain": [
       "array([1, 2, 3, 4, 5, 6, 7, 8])"
      ]
     },
     "execution_count": 21,
     "metadata": {},
     "output_type": "execute_result"
    }
   ],
   "source": [
    "D = D.reshape(8)\n",
    "D"
   ]
  },
  {
   "cell_type": "code",
   "execution_count": 22,
   "id": "7ebbc10d-5057-4505-ba4a-48a801af8162",
   "metadata": {},
   "outputs": [
    {
     "data": {
      "text/plain": [
       "array([[1],\n",
       "       [2],\n",
       "       [3],\n",
       "       [4],\n",
       "       [5],\n",
       "       [6],\n",
       "       [7],\n",
       "       [8]])"
      ]
     },
     "execution_count": 22,
     "metadata": {},
     "output_type": "execute_result"
    }
   ],
   "source": [
    "D = X.reshape(-1, 1)\n",
    "D"
   ]
  },
  {
   "cell_type": "markdown",
   "id": "ba816e6a-6d84-47e2-83a2-2b13d9ae76af",
   "metadata": {
    "tags": []
   },
   "source": [
    "\n",
    "---\n",
    "\n",
    "### 値を生成  \n",
    "\n",
    "- `np.arange(end)`  \n",
    "  0から1つずつカウント、`end`の手前で終了(endは含まれない)  \n",
    "- `np.arange(start, end)`  \n",
    "  `start`から1つずつカウント、`end`の手前で終了  \n",
    "- `np.arange(start, end, i)`  \n",
    "  `start`から`i`ずつカウント、`end`の手前で終了  \n"
   ]
  },
  {
   "cell_type": "code",
   "execution_count": 23,
   "id": "31e3f257-a6b7-4b61-9687-25f3523a3884",
   "metadata": {},
   "outputs": [
    {
     "data": {
      "text/plain": [
       "(array([0, 1, 2]), array([0, 1, 2]), array([0, 2, 4, 6, 8]))"
      ]
     },
     "execution_count": 23,
     "metadata": {},
     "output_type": "execute_result"
    }
   ],
   "source": [
    "np.arange(3), np.arange(0,3), np.arange(0,10,2)"
   ]
  },
  {
   "cell_type": "markdown",
   "id": "cad3d9ee-0614-4b9e-9d4f-ab7426a1cf75",
   "metadata": {
    "tags": []
   },
   "source": [
    "- 範囲内で複数の値を生成  \n",
    "  `np.linspace(最小値, 最大値, 要素数)`\n"
   ]
  },
  {
   "cell_type": "code",
   "execution_count": 24,
   "id": "23ed38af-5e4f-4baa-86fc-1aa3df4062fa",
   "metadata": {},
   "outputs": [
    {
     "name": "stdout",
     "output_type": "stream",
     "text": [
      "[ 0.   2.5  5.   7.5 10. ]\n",
      "[ 0.          3.33333333  6.66666667 10.        ]\n",
      "[0.  0.5 1.  1.5 2.  2.5 3.  3.5 4.  4.5 5.  5.5 6. ]\n",
      "[0.   0.05 0.1  0.15 0.2  0.25 0.3  0.35 0.4  0.45 0.5  0.55 0.6  0.65\n",
      " 0.7  0.75 0.8  0.85 0.9  0.95 1.  ]\n"
     ]
    }
   ],
   "source": [
    "print(np.linspace(0, 10, 5))\n",
    "print(np.linspace(0, 10, 4))\n",
    "print(np.linspace(0, 6, 13))\n",
    "print(np.linspace(0, 1, 21))"
   ]
  },
  {
   "cell_type": "markdown",
   "id": "1b4ae05b-6414-469e-9bc2-6d5fdaec36ff",
   "metadata": {
    "tags": []
   },
   "source": [
    "- 0.0以上、1.0未満の乱数を生成  \n",
    "  引数(縦：行, 横：列)を指定することで、行×列数分の配列を生成  \n"
   ]
  },
  {
   "cell_type": "code",
   "execution_count": 25,
   "id": "8c93d6dc-59c6-4a95-a9ff-6ed56e69acbc",
   "metadata": {},
   "outputs": [
    {
     "data": {
      "text/plain": [
       "array([[0.9230523 , 0.23295898, 0.29718958, 0.75616582, 0.35002135],\n",
       "       [0.55075193, 0.39507187, 0.76260691, 0.05920463, 0.07348781],\n",
       "       [0.07707279, 0.1286685 , 0.69162614, 0.96159628, 0.90355493],\n",
       "       [0.13955851, 0.03820478, 0.91433686, 0.88241159, 0.34739422]])"
      ]
     },
     "execution_count": 25,
     "metadata": {},
     "output_type": "execute_result"
    }
   ],
   "source": [
    "c = np.random.rand(4, 5) \n",
    "c"
   ]
  },
  {
   "cell_type": "markdown",
   "id": "da82f722-3727-47ad-aa18-8f79021fa1e9",
   "metadata": {},
   "source": [
    "- 正規分布：平均0、標準偏差1の乱数  \n",
    "  高速に生成できる`Generator.standard_normal`を使用する  \n",
    "  `standard_normal()`や`randn()`は古いとのこと  \n",
    "  - `default_rng`：コンストラクタ(乱数ジェネレータのインスタンスを生成)  "
   ]
  },
  {
   "cell_type": "code",
   "execution_count": 26,
   "id": "ac81c620-3ec4-47ba-97fa-ab25d892c295",
   "metadata": {},
   "outputs": [
    {
     "data": {
      "text/plain": [
       "array([-2.11932119,  1.35587553,  0.10578571,  0.50101433,  1.24104171,\n",
       "        0.01184171, -0.09660938, -0.00583166, -1.02243505,  0.03452518])"
      ]
     },
     "execution_count": 26,
     "metadata": {},
     "output_type": "execute_result"
    }
   ],
   "source": [
    "rng = np.random.default_rng()\n",
    "r = rng.standard_normal(10)\n",
    "r"
   ]
  },
  {
   "cell_type": "markdown",
   "id": "b8b480c6-c7ec-404b-956b-a91a4be3b93f",
   "metadata": {},
   "source": [
    "- 正規分布：範囲を指定する場合  \n",
    "  `rng.normal(平均値, 標準偏差, 個数 or (配列数))`  "
   ]
  },
  {
   "cell_type": "code",
   "execution_count": 27,
   "id": "501ca1e2-7ef1-4ca6-81d6-69a346366c84",
   "metadata": {},
   "outputs": [
    {
     "data": {
      "text/plain": [
       "array([[  3.71604043, -12.93329511],\n",
       "       [  0.64462172,   4.04430464],\n",
       "       [-14.41794237,   9.1840995 ],\n",
       "       [-22.3775946 ,   2.21269355],\n",
       "       [ 10.62879913,  -6.90777414]])"
      ]
     },
     "execution_count": 27,
     "metadata": {},
     "output_type": "execute_result"
    }
   ],
   "source": [
    "rng = np.random.default_rng()\n",
    "r = rng.normal(0, 10, (5,2))\n",
    "r"
   ]
  },
  {
   "cell_type": "markdown",
   "id": "51724989-4d4f-417b-b5fa-58f7d0fe58e1",
   "metadata": {},
   "source": [
    "- meshgrid：格子点の組み合わせパターンを作成  "
   ]
  },
  {
   "cell_type": "code",
   "execution_count": 28,
   "id": "e2ffc326-4324-43aa-9b74-fa9cdd124a55",
   "metadata": {},
   "outputs": [
    {
     "name": "stdout",
     "output_type": "stream",
     "text": [
      "x = [0 1 2]\n",
      "y = [0 1 2]\n",
      "\n",
      "X\n",
      "[[0 1 2]\n",
      " [0 1 2]\n",
      " [0 1 2]]\n",
      "\n",
      "Y\n",
      "[[0 0 0]\n",
      " [1 1 1]\n",
      " [2 2 2]]\n",
      "\n",
      "X,Y\n",
      "[[[0 0]\n",
      "  [1 0]\n",
      "  [2 0]]\n",
      "\n",
      " [[0 1]\n",
      "  [1 1]\n",
      "  [2 1]]\n",
      "\n",
      " [[0 2]\n",
      "  [1 2]\n",
      "  [2 2]]]\n"
     ]
    }
   ],
   "source": [
    "x = np.arange(3)\n",
    "y = np.arange(3)\n",
    "print('x = ' + str(x))\n",
    "print('y = ' + str(y))\n",
    "\n",
    "# 格子点の組み合わせパターン\n",
    "X, Y = np.meshgrid(x, y)\n",
    "\n",
    "# 格子点を作成 → 深さ方向に結合\n",
    "Z = np.dstack([X, Y])\n",
    "\n",
    "print('\\nX\\n{}\\n'.format(X))\n",
    "print(\"Y\\n{}\".format(Y))\n",
    "print(\"\\nX,Y\\n{}\".format(Z))"
   ]
  },
  {
   "cell_type": "markdown",
   "id": "2d7d11e5-e3cc-492d-8707-4461d73d86eb",
   "metadata": {},
   "source": [
    "\n",
    "---\n",
    "\n",
    "### 配列から抽出  \n",
    "- 1つ抽出  "
   ]
  },
  {
   "cell_type": "code",
   "execution_count": 29,
   "id": "85d2cf0a-3cde-43bf-90a7-8c0e733539d4",
   "metadata": {
    "tags": []
   },
   "outputs": [
    {
     "data": {
      "text/plain": [
       "0.23295897873429638"
      ]
     },
     "execution_count": 29,
     "metadata": {},
     "output_type": "execute_result"
    }
   ],
   "source": [
    "v = c[0, 1]\n",
    "v"
   ]
  },
  {
   "cell_type": "markdown",
   "id": "fc8a2caa-5a2f-4eca-bb44-a151ea7ab7fa",
   "metadata": {},
   "source": [
    "- 範囲指定抽出  \n",
    "  - 2～3行目  \n",
    "  - 2～4列目  \n"
   ]
  },
  {
   "cell_type": "code",
   "execution_count": 30,
   "id": "fb7c15bc-3e0e-4881-a342-600ca2a2900f",
   "metadata": {},
   "outputs": [
    {
     "data": {
      "text/plain": [
       "array([[0.39507187, 0.76260691, 0.05920463],\n",
       "       [0.1286685 , 0.69162614, 0.96159628]])"
      ]
     },
     "execution_count": 30,
     "metadata": {},
     "output_type": "execute_result"
    }
   ],
   "source": [
    "v = c[1:3, 1:4]\n",
    "\n",
    "v"
   ]
  },
  {
   "cell_type": "markdown",
   "id": "efaa0ccf-3fea-4983-9a49-7435be679625",
   "metadata": {},
   "source": [
    "\n",
    "---\n",
    "\n",
    "### 配列を更新  \n"
   ]
  },
  {
   "cell_type": "code",
   "execution_count": 31,
   "id": "a4da30bc-b7f7-432e-8800-fc52309054b1",
   "metadata": {},
   "outputs": [
    {
     "data": {
      "text/plain": [
       "array([[0.9230523 , 0.23295898, 0.29718958, 0.75616582, 0.35002135],\n",
       "       [0.55075193, 0.        , 0.        , 0.        , 0.07348781],\n",
       "       [0.07707279, 0.        , 0.        , 0.        , 0.90355493],\n",
       "       [0.13955851, 0.03820478, 0.91433686, 0.88241159, 0.34739422]])"
      ]
     },
     "execution_count": 31,
     "metadata": {},
     "output_type": "execute_result"
    }
   ],
   "source": [
    "c[1:3, 1:4] = 0\n",
    "\n",
    "c"
   ]
  },
  {
   "cell_type": "markdown",
   "id": "b8e63227-b473-4570-bb3a-098fd886870a",
   "metadata": {},
   "source": [
    "- `ones_like()` ：既存の配列と同じ構成で、値が「すべて1」の配列を生成  "
   ]
  },
  {
   "cell_type": "code",
   "execution_count": 32,
   "id": "bc72244b-3a26-4f3f-bb38-9dd47653f223",
   "metadata": {},
   "outputs": [
    {
     "data": {
      "text/plain": [
       "array([[1., 1., 1., 1., 1.],\n",
       "       [1., 1., 1., 1., 1.],\n",
       "       [1., 1., 1., 1., 1.],\n",
       "       [1., 1., 1., 1., 1.]])"
      ]
     },
     "execution_count": 32,
     "metadata": {},
     "output_type": "execute_result"
    }
   ],
   "source": [
    "c1 = np.ones_like(c)\n",
    "c1"
   ]
  },
  {
   "cell_type": "code",
   "execution_count": 33,
   "id": "88f53283-5391-4194-a501-2a18197a94ae",
   "metadata": {
    "tags": []
   },
   "outputs": [
    {
     "data": {
      "text/plain": [
       "array([[1, 3, 6, 8],\n",
       "       [1, 1, 1, 1]])"
      ]
     },
     "execution_count": 33,
     "metadata": {},
     "output_type": "execute_result"
    }
   ],
   "source": [
    "D = np.array([[1, 3], [3, 6], [6, 5], [8, 7]])\n",
    "X = np.vstack([D[:,0], np.ones_like(D[:,0])])\n",
    "X"
   ]
  },
  {
   "cell_type": "code",
   "execution_count": 34,
   "id": "9aa32c7b-6730-48ab-98ba-eed8037d685b",
   "metadata": {},
   "outputs": [
    {
     "data": {
      "text/plain": [
       "array([[1, 1],\n",
       "       [3, 1],\n",
       "       [6, 1],\n",
       "       [8, 1]])"
      ]
     },
     "execution_count": 34,
     "metadata": {},
     "output_type": "execute_result"
    }
   ],
   "source": [
    "X_T = X.T\n",
    "X_T"
   ]
  },
  {
   "cell_type": "markdown",
   "id": "9daa80e3-3167-4e37-8022-6a133b20cba2",
   "metadata": {},
   "source": [
    "他の配列要素数を参考にして、値が0の配列を作成  "
   ]
  },
  {
   "cell_type": "code",
   "execution_count": 35,
   "id": "2488aa07-c3ce-4f09-86fa-9e081146cf60",
   "metadata": {},
   "outputs": [
    {
     "data": {
      "text/plain": [
       "array([0., 0., 0., 0.])"
      ]
     },
     "execution_count": 35,
     "metadata": {},
     "output_type": "execute_result"
    }
   ],
   "source": [
    "w = np.zeros(X.shape[1])\n",
    "w"
   ]
  },
  {
   "cell_type": "markdown",
   "id": "6ff68a5e-d08f-4e0c-b8ed-c4145227a1f2",
   "metadata": {},
   "source": [
    "\n",
    "---\n",
    "\n",
    "### 配列のまま計算  \n",
    "\n",
    "要素毎に計算し、結果を配列で返却  \n",
    "\n",
    "- 例：各行で`(y - a * x - b)^2`を計算、平均を算出  "
   ]
  },
  {
   "cell_type": "code",
   "execution_count": 36,
   "id": "980d8a85-9562-4b98-b48e-55ca7e1fd12e",
   "metadata": {},
   "outputs": [
    {
     "name": "stdout",
     "output_type": "stream",
     "text": [
      "v = [36 49 64]\n",
      "v.mean() = 49.666666666666664\n"
     ]
    }
   ],
   "source": [
    "D = np.array([[2, 4],\n",
    "              [3, 6], \n",
    "              [4, 8] \n",
    "             ])\n",
    "a = 3\n",
    "b = 4\n",
    "\n",
    "v = (D[:,1] - a * D[:,0] - b) ** 2\n",
    "print('v = ' + str(v))\n",
    "print('v.mean() = ' + str(v.mean()))\n"
   ]
  },
  {
   "cell_type": "markdown",
   "id": "1ebf0542-8ac6-4e36-bf9d-d03574c6bc09",
   "metadata": {},
   "source": [
    "\n",
    "---\n",
    "\n",
    "### ベクトル・行列  \n"
   ]
  },
  {
   "cell_type": "markdown",
   "id": "3a75eaf8-0b4e-44c2-b8e7-9168fe58a9c7",
   "metadata": {},
   "source": [
    "ベクトルの内積  \n",
    "- (a1, a2)(b1, b2) = a1b1 + a2b2  "
   ]
  },
  {
   "cell_type": "code",
   "execution_count": 37,
   "id": "1d9c60a5-876c-4ea0-a989-718537b07dcb",
   "metadata": {},
   "outputs": [
    {
     "data": {
      "text/plain": [
       "10"
      ]
     },
     "execution_count": 37,
     "metadata": {},
     "output_type": "execute_result"
    }
   ],
   "source": [
    "a = np.array([1, 2])\n",
    "b = np.array([4, 3])\n",
    "np.dot(a, b)"
   ]
  },
  {
   "cell_type": "code",
   "execution_count": 38,
   "id": "d46978b1-4d89-4637-9e3c-0b80b7d87498",
   "metadata": {},
   "outputs": [
    {
     "data": {
      "text/plain": [
       "10"
      ]
     },
     "execution_count": 38,
     "metadata": {},
     "output_type": "execute_result"
    }
   ],
   "source": [
    "a @ b"
   ]
  },
  {
   "cell_type": "markdown",
   "id": "2bbb6c8c-7e0d-490e-a115-0ef81b3422de",
   "metadata": {},
   "source": [
    "- 「a」の列数と「b」の行数とが等しくないと、積の計算ができないルールがある  \n",
    "  → ルールに合わせるため、bを転置(T)する  "
   ]
  },
  {
   "cell_type": "code",
   "execution_count": 39,
   "id": "7e4c4dd2-93ec-49b1-9934-a0ffa664897b",
   "metadata": {},
   "outputs": [
    {
     "data": {
      "text/plain": [
       "(array([[1, 2, 3]]),\n",
       " array([[1, 2, 3]]),\n",
       " array([[1],\n",
       "        [2],\n",
       "        [3]]))"
      ]
     },
     "execution_count": 39,
     "metadata": {},
     "output_type": "execute_result"
    }
   ],
   "source": [
    "a = np.array([[1, 2, 3]])\n",
    "b = np.array([[1, 2, 3]])\n",
    "b_T = b.T\n",
    "a, b, b_T"
   ]
  },
  {
   "cell_type": "code",
   "execution_count": 40,
   "id": "508d4020-b350-4dd8-99fb-afa5f47eaa9b",
   "metadata": {},
   "outputs": [],
   "source": [
    "# 以下はエラーになる\n",
    "#a @ b"
   ]
  },
  {
   "cell_type": "markdown",
   "id": "83525024-e31f-4b50-8e76-660879008f4b",
   "metadata": {},
   "source": [
    "\n",
    "\\begin{align*}\n",
    "\\begin{pmatrix}a1 & a2 & a3\\end{pmatrix} \\begin{pmatrix}b1 \\\\ b2 \\\\ b3\\end{pmatrix}\n",
    "\\end{align*}\n",
    "\n",
    "\\begin{align*}\n",
    "\\ =\n",
    "\\begin{pmatrix}a1b1 + a2b2 + a3b3\\end{pmatrix}\n",
    "\\end{align*}\n"
   ]
  },
  {
   "cell_type": "code",
   "execution_count": 41,
   "id": "74978c63-d6d6-45f3-80a3-4ce8ad89b9ed",
   "metadata": {},
   "outputs": [
    {
     "data": {
      "text/plain": [
       "array([[14]])"
      ]
     },
     "execution_count": 41,
     "metadata": {},
     "output_type": "execute_result"
    }
   ],
   "source": [
    "a @ b_T"
   ]
  },
  {
   "cell_type": "code",
   "execution_count": 42,
   "id": "2ff126c0-b1c0-4c95-b673-6f48a9ab6009",
   "metadata": {},
   "outputs": [
    {
     "data": {
      "text/plain": [
       "array([[1, 2, 3],\n",
       "       [2, 4, 6],\n",
       "       [3, 6, 9]])"
      ]
     },
     "execution_count": 42,
     "metadata": {},
     "output_type": "execute_result"
    }
   ],
   "source": [
    "b_T @ a"
   ]
  },
  {
   "cell_type": "markdown",
   "id": "0d40e6d7-e710-4ca5-b79b-a58aeaae5b2c",
   "metadata": {},
   "source": [
    "\n",
    "---\n",
    "\n",
    "行列の積  \n",
    "\n",
    "\\begin{align*}\n",
    "\\begin{pmatrix}\n",
    "a1 & a2 \\\\\n",
    "a3 & a4 \\\\\n",
    "\\end{pmatrix}\n",
    "\\begin{pmatrix}\n",
    "b1\\\\\n",
    "b2\\\\\n",
    "\\end{pmatrix}\n",
    "\\end{align*}\n",
    "\n",
    "\\begin{align*}\n",
    "\\ =\n",
    "\\begin{pmatrix}\n",
    "a1b1 + a2b2\\\\\n",
    "a3b1 + a4b2\\\\\n",
    "\\end{pmatrix}\n",
    "\\end{align*}\n"
   ]
  },
  {
   "cell_type": "code",
   "execution_count": 43,
   "id": "dd28d4a6-a5e9-4182-a0e7-f2b006d9baea",
   "metadata": {},
   "outputs": [
    {
     "data": {
      "text/plain": [
       "array([[ 8],\n",
       "       [20]])"
      ]
     },
     "execution_count": 43,
     "metadata": {},
     "output_type": "execute_result"
    }
   ],
   "source": [
    "a = np.array([[1,2], [3,4]])\n",
    "b = np.array([[4], [2]])\n",
    "a @ b"
   ]
  },
  {
   "cell_type": "markdown",
   "id": "ff84f5a4-24ce-4d8c-af54-9b2b35341047",
   "metadata": {},
   "source": [
    "\n",
    "\\begin{align*}\n",
    "\\begin{pmatrix}\n",
    "a1 & a2\\\\\n",
    "\\end{pmatrix}\n",
    "\\begin{pmatrix}\n",
    "b1 & b2 \\\\\n",
    "b3 & b4 \\\\\n",
    "\\end{pmatrix}\n",
    "\\end{align*}\n",
    "\n",
    "\\begin{align*}\n",
    "\\ =\n",
    "\\begin{pmatrix}\n",
    "a1b1 + a2b3 & a1b2 + a2b4\\\\\n",
    "\\end{pmatrix}\n",
    "\\end{align*}\n"
   ]
  },
  {
   "cell_type": "code",
   "execution_count": 44,
   "id": "ad3dcac5-cf30-49ad-9286-2cf37445836d",
   "metadata": {},
   "outputs": [
    {
     "data": {
      "text/plain": [
       "array([[8, 5]])"
      ]
     },
     "execution_count": 44,
     "metadata": {},
     "output_type": "execute_result"
    }
   ],
   "source": [
    "a = np.array([[1,2]])\n",
    "b = np.array([[4, 3], [2,1]])\n",
    "a @ b"
   ]
  },
  {
   "cell_type": "markdown",
   "id": "4b8c2164-814e-4491-b00d-26a0c8b487b5",
   "metadata": {},
   "source": [
    "\n",
    "\\begin{align*}\n",
    "\\begin{pmatrix}\n",
    "a1 & a2 \\\\\n",
    "a3 & a4 \\\\\n",
    "\\end{pmatrix}\n",
    "\\begin{pmatrix}\n",
    "b1 & b2 \\\\\n",
    "b3 & b4 \\\\\n",
    "\\end{pmatrix}\n",
    "\\end{align*}\n",
    "\n",
    "\\begin{align*}\n",
    "\\ =\n",
    "\\begin{pmatrix}\n",
    "a1b1 + a2b3 & a1b2 + a2b4 \\\\\n",
    "a3b1 + a4b3 & a3b2 + a4b4 \\\\\n",
    "\\end{pmatrix}\n",
    "\\end{align*}\n",
    "\n",
    "- ( [a1, a2], [a3, a4] )( [b1, b2], [b3, b4] )  \n",
    "  ( [1, 2], [3, 4] )( [4, 3], [2, 1] )  \n",
    "  = ( [4 + 4, 3 + 2], [12 + 8, 9 + 4] )  \n",
    "  = ( [8, 5], [20, 13] )  \n"
   ]
  },
  {
   "cell_type": "code",
   "execution_count": 45,
   "id": "efa60982-a0a5-499c-a6c9-d5a022bf561a",
   "metadata": {},
   "outputs": [
    {
     "data": {
      "text/plain": [
       "array([[ 8,  5],\n",
       "       [20, 13]])"
      ]
     },
     "execution_count": 45,
     "metadata": {},
     "output_type": "execute_result"
    }
   ],
   "source": [
    "a = np.array([[1,2], [3,4]])\n",
    "b = np.array([[4, 3], [2,1]])\n",
    "a @ b"
   ]
  },
  {
   "cell_type": "markdown",
   "id": "e01c7b9e-2ce2-4a41-b460-8152eba86a49",
   "metadata": {},
   "source": [
    "\n",
    "---\n",
    "\n",
    "逆行列  \n",
    "\n",
    "$$\n",
    "\\begin{align}\n",
    "\\pmb{A} \\pmb{A}^{-1} &= \\pmb{A}^{-1}\\pmb{A} = \\pmb{E}\n",
    "\\end{align}\n",
    "$$\n",
    "\n",
    "\n",
    "- `numpy.linalg.inv()`：行列$^{-1}$  "
   ]
  },
  {
   "cell_type": "code",
   "execution_count": 46,
   "id": "c2ead238-860a-4176-8405-a27ba0c954c2",
   "metadata": {},
   "outputs": [
    {
     "data": {
      "text/plain": [
       "array([[ 7., -5.],\n",
       "       [-4.,  3.]])"
      ]
     },
     "execution_count": 46,
     "metadata": {},
     "output_type": "execute_result"
    }
   ],
   "source": [
    "c = np.array([[3, 5],\n",
    "              [4, 7]])\n",
    "d = np.linalg.inv(c)\n",
    "d"
   ]
  },
  {
   "cell_type": "code",
   "execution_count": 47,
   "id": "8cd283b1-5f52-4fe7-85a9-8e27b828fffd",
   "metadata": {},
   "outputs": [
    {
     "data": {
      "text/plain": [
       "array([[1., 0.],\n",
       "       [0., 1.]])"
      ]
     },
     "execution_count": 47,
     "metadata": {},
     "output_type": "execute_result"
    }
   ],
   "source": [
    "np.linalg.inv(c @ d)"
   ]
  },
  {
   "cell_type": "code",
   "execution_count": 48,
   "id": "239c00a5-8bf8-4d5b-ac56-725697f49ad3",
   "metadata": {},
   "outputs": [
    {
     "data": {
      "text/plain": [
       "array([[1., 0.],\n",
       "       [0., 1.]])"
      ]
     },
     "execution_count": 48,
     "metadata": {},
     "output_type": "execute_result"
    }
   ],
   "source": [
    "np.linalg.inv(d @ c)"
   ]
  },
  {
   "cell_type": "markdown",
   "id": "d62d0e1a-1f09-480f-93ee-650b9b11bbfb",
   "metadata": {},
   "source": [
    "\n",
    "---\n",
    "\n",
    "### 計算  \n",
    "\n",
    "テストデータ  "
   ]
  },
  {
   "cell_type": "code",
   "execution_count": 49,
   "id": "15c53976-528a-4f54-bc2e-33cedd26756a",
   "metadata": {},
   "outputs": [
    {
     "data": {
      "text/plain": [
       "array([[4, 5, 0, 9, 5, 1, 9, 4, 9, 7],\n",
       "       [2, 5, 4, 9, 0, 6, 5, 2, 8, 6],\n",
       "       [8, 1, 1, 8, 4, 0, 9, 4, 0, 7],\n",
       "       [0, 0, 9, 9, 6, 0, 4, 4, 6, 1],\n",
       "       [3, 7, 9, 5, 7, 0, 4, 7, 4, 7],\n",
       "       [7, 1, 4, 1, 2, 5, 0, 2, 9, 1],\n",
       "       [7, 1, 1, 7, 2, 3, 7, 0, 9, 0],\n",
       "       [9, 4, 7, 8, 0, 0, 8, 2, 9, 8]])"
      ]
     },
     "execution_count": 49,
     "metadata": {},
     "output_type": "execute_result"
    }
   ],
   "source": [
    "x = np.random.randint(0, 10, (8, 10))\n",
    "\n",
    "x"
   ]
  },
  {
   "cell_type": "markdown",
   "id": "3deb0ecb-1c99-4136-a44d-62515b7a55fa",
   "metadata": {
    "tags": []
   },
   "source": [
    "- 平均  \n",
    "  - axis：平均を計算したい軸(何次元目に沿って計算するか)  "
   ]
  },
  {
   "cell_type": "code",
   "execution_count": 50,
   "id": "ac014e0b-31bc-46d3-94fd-5b8e677d885c",
   "metadata": {
    "tags": []
   },
   "outputs": [
    {
     "data": {
      "text/plain": [
       "4.475"
      ]
     },
     "execution_count": 50,
     "metadata": {},
     "output_type": "execute_result"
    }
   ],
   "source": [
    "x.mean()"
   ]
  },
  {
   "cell_type": "code",
   "execution_count": 51,
   "id": "57f5b5df-166d-4537-b862-6a5a008c2df1",
   "metadata": {},
   "outputs": [
    {
     "data": {
      "text/plain": [
       "array([5.3, 4.7, 4.2, 3.9, 5.3, 3.2, 3.7, 5.5])"
      ]
     },
     "execution_count": 51,
     "metadata": {},
     "output_type": "execute_result"
    }
   ],
   "source": [
    "x.mean(axis=1)"
   ]
  },
  {
   "cell_type": "code",
   "execution_count": 52,
   "id": "2a5e5551-0ade-4bc8-b029-7ffdca0b7c83",
   "metadata": {},
   "outputs": [
    {
     "data": {
      "text/plain": [
       "array([5.3, 4.7, 4.2, 3.9, 5.3, 3.2, 3.7, 5.5])"
      ]
     },
     "execution_count": 52,
     "metadata": {},
     "output_type": "execute_result"
    }
   ],
   "source": [
    "np.array([\n",
    "    x[0, :].mean(),\n",
    "    x[1, :].mean(),\n",
    "    x[2, :].mean(),\n",
    "    x[3, :].mean(),\n",
    "    x[4, :].mean(),\n",
    "    x[5, :].mean(),\n",
    "    x[6, :].mean(),\n",
    "    x[7, :].mean(),\n",
    "])"
   ]
  },
  {
   "cell_type": "markdown",
   "id": "d6134742-7be9-4b35-98a5-01f3989d2eda",
   "metadata": {},
   "source": [
    "- 最大・最小  "
   ]
  },
  {
   "cell_type": "code",
   "execution_count": 53,
   "id": "57f461e4-0a5f-4f0c-bc31-5e0cd5c7008f",
   "metadata": {},
   "outputs": [
    {
     "data": {
      "text/plain": [
       "9"
      ]
     },
     "execution_count": 53,
     "metadata": {},
     "output_type": "execute_result"
    }
   ],
   "source": [
    "x.max()"
   ]
  },
  {
   "cell_type": "code",
   "execution_count": 54,
   "id": "ad4b768b-affb-4227-a448-9550e3a866e6",
   "metadata": {},
   "outputs": [
    {
     "data": {
      "text/plain": [
       "0"
      ]
     },
     "execution_count": 54,
     "metadata": {},
     "output_type": "execute_result"
    }
   ],
   "source": [
    "x.min()"
   ]
  },
  {
   "cell_type": "markdown",
   "id": "5ee7b054-f912-425b-a1ea-6f31b5260e05",
   "metadata": {},
   "source": [
    "\n",
    "---\n",
    "\n",
    "- ネイピア数(自然対数の底)   "
   ]
  },
  {
   "cell_type": "code",
   "execution_count": 55,
   "id": "3660423e-d9c9-484e-99ab-200bb33f4a81",
   "metadata": {},
   "outputs": [
    {
     "data": {
      "text/plain": [
       "2.718281828459045"
      ]
     },
     "execution_count": 55,
     "metadata": {},
     "output_type": "execute_result"
    }
   ],
   "source": [
    "np.e"
   ]
  },
  {
   "cell_type": "markdown",
   "id": "ca8e2912-a03f-4b0d-9f91-adfd35dc429b",
   "metadata": {},
   "source": [
    "- 指数関数  \n",
    "  - e：ネイピア数を使用  \n",
    "\n",
    "\\begin{align}\n",
    "\\pmb{y} = \\pmb{e}^x\n",
    "\\end{align}\n"
   ]
  },
  {
   "cell_type": "code",
   "execution_count": 56,
   "id": "a4313bc3-ebfe-4abd-87c8-2d8eee33ec8d",
   "metadata": {},
   "outputs": [
    {
     "data": {
      "text/plain": [
       "array([0.13533528, 0.36787944, 1.        , 2.71828183, 7.3890561 ])"
      ]
     },
     "execution_count": 56,
     "metadata": {},
     "output_type": "execute_result"
    }
   ],
   "source": [
    "x = np.array([-2, -1, 0, 1, 2])\n",
    "y = np.exp(x)\n",
    "y"
   ]
  },
  {
   "cell_type": "code",
   "execution_count": 57,
   "id": "6cf65e2e-4965-4d34-abab-5552157aaa87",
   "metadata": {},
   "outputs": [
    {
     "data": {
      "text/plain": [
       "array([7.3890561 , 2.71828183, 1.        , 0.36787944, 0.13533528])"
      ]
     },
     "execution_count": 57,
     "metadata": {},
     "output_type": "execute_result"
    }
   ],
   "source": [
    "x = np.array([-2, -1, 0, 1, 2])\n",
    "y = np.exp(-x)\n",
    "y"
   ]
  },
  {
   "cell_type": "code",
   "execution_count": 58,
   "id": "13bd6e38-c5d2-427a-ace0-d6f18a8e2cc0",
   "metadata": {},
   "outputs": [
    {
     "data": {
      "image/png": "[encoded data removed]",
      "text/plain": [
       "<Figure size 640x480 with 1 Axes>"
      ]
     },
     "metadata": {},
     "output_type": "display_data"
    }
   ],
   "source": [
    "x = np.linspace(-2, 2, 100)\n",
    "y = np.exp(x)\n",
    "plt.plot(x, y)\n",
    "plt.grid()"
   ]
  },
  {
   "cell_type": "code",
   "execution_count": 59,
   "id": "190696d8-cc3b-4f0e-846a-c8b618e70612",
   "metadata": {},
   "outputs": [
    {
     "data": {
      "image/png": "[encoded data removed]",
      "text/plain": [
       "<Figure size 640x480 with 1 Axes>"
      ]
     },
     "metadata": {},
     "output_type": "display_data"
    }
   ],
   "source": [
    "x = np.linspace(-2, 2, 100)\n",
    "y = np.exp(-x)\n",
    "plt.plot(x, y)\n",
    "plt.grid()"
   ]
  },
  {
   "cell_type": "markdown",
   "id": "96460210-f9d3-4da1-9ded-35db0745b77c",
   "metadata": {},
   "source": [
    "対数`log` ： numpyは4つの関数を提供  \n",
    "\n",
    "- 底を 2とする対数  \n",
    "  例）2 を何乗したら 8 になるか → 対数 = 3  \n"
   ]
  },
  {
   "cell_type": "code",
   "execution_count": 60,
   "id": "b712f467-3ef4-46a2-b1f4-0044f8f45d28",
   "metadata": {},
   "outputs": [
    {
     "data": {
      "text/plain": [
       "3.0"
      ]
     },
     "execution_count": 60,
     "metadata": {},
     "output_type": "execute_result"
    }
   ],
   "source": [
    "np.log2(8)"
   ]
  },
  {
   "cell_type": "markdown",
   "id": "87c094b1-48b4-4da6-ab3f-9e74e2402007",
   "metadata": {},
   "source": [
    "- 底を 10とする対数   "
   ]
  },
  {
   "cell_type": "code",
   "execution_count": 61,
   "id": "26111dc0-9b06-45af-bada-9981ff64ad93",
   "metadata": {},
   "outputs": [
    {
     "data": {
      "text/plain": [
       "2.0"
      ]
     },
     "execution_count": 61,
     "metadata": {},
     "output_type": "execute_result"
    }
   ],
   "source": [
    "np.log10(100)"
   ]
  },
  {
   "cell_type": "markdown",
   "id": "93b3634a-830f-4560-88f2-702f22e2781f",
   "metadata": {},
   "source": [
    "- 底を e：ネイピア数とする対数  "
   ]
  },
  {
   "cell_type": "code",
   "execution_count": 62,
   "id": "2b3aed29-9674-4679-bd0d-8822f1240152",
   "metadata": {},
   "outputs": [
    {
     "data": {
      "text/plain": [
       "array([0.        , 0.69314718, 1.09861229])"
      ]
     },
     "execution_count": 62,
     "metadata": {},
     "output_type": "execute_result"
    }
   ],
   "source": [
    "a = np.array([1, 2, 3])\n",
    "np.log(a)"
   ]
  },
  {
   "cell_type": "markdown",
   "id": "ca5495a2-5e5b-4013-9029-6e5c9afb7b02",
   "metadata": {},
   "source": [
    "- 底を e：ネイピア数とするa+1の対数  "
   ]
  },
  {
   "cell_type": "code",
   "execution_count": 63,
   "id": "565c90ff-fb79-44e3-a337-f26d2e226119",
   "metadata": {},
   "outputs": [
    {
     "data": {
      "text/plain": [
       "array([0.69314718, 1.09861229, 1.38629436])"
      ]
     },
     "execution_count": 63,
     "metadata": {},
     "output_type": "execute_result"
    }
   ],
   "source": [
    "np.log1p(a)"
   ]
  },
  {
   "cell_type": "markdown",
   "id": "43790bd5-b169-401b-ab3c-0856f6f9976e",
   "metadata": {
    "tags": []
   },
   "source": [
    "\n",
    "---\n",
    "\n",
    "テストデータ  \n",
    "- 説明変数 X：平均気温(抜粋)  \n",
    "- 被説明変数 Y：支出額(抜粋)  "
   ]
  },
  {
   "cell_type": "code",
   "execution_count": 64,
   "id": "9c3f5388-05d8-46e9-ad16-8d24797beaec",
   "metadata": {},
   "outputs": [],
   "source": [
    "X = np.array([\n",
    "        9.1, 11.2, 12.3, 18.9, 22.2, 26. , 30.9, 31.2, 28.8, 23. , 18.3, 11.1\n",
    "    ])\n",
    "\n",
    "Y = np.array([\n",
    "        463.,  360.,  380.,  584.,  763.,  886., 1168., 1325.,  847., 542.,  441.,  499.\n",
    "    ])\n"
   ]
  },
  {
   "cell_type": "markdown",
   "id": "794bb503-8bea-4861-ba32-659a2152480c",
   "metadata": {},
   "source": [
    "- 合計  "
   ]
  },
  {
   "cell_type": "code",
   "execution_count": 65,
   "id": "b9ff35f7-109a-4aa7-b132-8121ccd157e1",
   "metadata": {},
   "outputs": [
    {
     "data": {
      "text/plain": [
       "(243.00000000000003, 8258.0)"
      ]
     },
     "execution_count": 65,
     "metadata": {},
     "output_type": "execute_result"
    }
   ],
   "source": [
    "X.sum(), Y.sum()"
   ]
  },
  {
   "cell_type": "markdown",
   "id": "56691aa3-7c1f-4be3-8983-38fd0489a538",
   "metadata": {
    "tags": []
   },
   "source": [
    "- 平均  "
   ]
  },
  {
   "cell_type": "code",
   "execution_count": 66,
   "id": "fb8505b9-213e-406e-9b81-48b2463f0f74",
   "metadata": {},
   "outputs": [
    {
     "data": {
      "text/plain": [
       "(20.250000000000004, 688.1666666666666)"
      ]
     },
     "execution_count": 66,
     "metadata": {},
     "output_type": "execute_result"
    }
   ],
   "source": [
    "X.mean(), Y.mean()"
   ]
  },
  {
   "cell_type": "markdown",
   "id": "5bdf6793-5e4d-4b9f-a973-189a32002bb5",
   "metadata": {
    "tags": []
   },
   "source": [
    "- 中央値  "
   ]
  },
  {
   "cell_type": "code",
   "execution_count": 67,
   "id": "dd074743-2a94-4fbb-9f9e-c342b24b0fc3",
   "metadata": {
    "tags": []
   },
   "outputs": [
    {
     "data": {
      "text/plain": [
       "(20.549999999999997, 563.0)"
      ]
     },
     "execution_count": 67,
     "metadata": {},
     "output_type": "execute_result"
    }
   ],
   "source": [
    "np.median(X), np.median(Y)"
   ]
  },
  {
   "cell_type": "markdown",
   "id": "959481b6-3500-44e6-923c-58c854908177",
   "metadata": {},
   "source": [
    "- 四分位数  "
   ]
  },
  {
   "cell_type": "code",
   "execution_count": 68,
   "id": "d24ce2b2-0c0c-4fee-bb7e-617f0140f32e",
   "metadata": {},
   "outputs": [
    {
     "data": {
      "text/plain": [
       "(12.025, 20.549999999999997, 26.7)"
      ]
     },
     "execution_count": 68,
     "metadata": {},
     "output_type": "execute_result"
    }
   ],
   "source": [
    "np.percentile(X, 25), np.percentile(X, 50), np.percentile(X, 75)"
   ]
  },
  {
   "cell_type": "code",
   "execution_count": 69,
   "id": "27ada3a9-7897-40e7-b4a6-c3fc81e01155",
   "metadata": {},
   "outputs": [
    {
     "data": {
      "text/plain": [
       "(457.5, 563.0, 856.75)"
      ]
     },
     "execution_count": 69,
     "metadata": {},
     "output_type": "execute_result"
    }
   ],
   "source": [
    "np.percentile(Y, 25), np.percentile(Y, 50), np.percentile(Y, 75)"
   ]
  },
  {
   "cell_type": "markdown",
   "id": "25eb9de1-b300-4288-9c67-89df1cb5280b",
   "metadata": {},
   "source": [
    "- 標準偏差  "
   ]
  },
  {
   "cell_type": "code",
   "execution_count": 70,
   "id": "d5542070-e971-4102-95f5-ec3e71d09c00",
   "metadata": {},
   "outputs": [
    {
     "data": {
      "text/plain": [
       "(7.68998266144556, 301.13862625412605)"
      ]
     },
     "execution_count": 70,
     "metadata": {},
     "output_type": "execute_result"
    }
   ],
   "source": [
    "X.std(), Y.std()"
   ]
  },
  {
   "cell_type": "markdown",
   "id": "1ed9d4f9-5927-4a71-a05b-e3925fa55355",
   "metadata": {
    "tags": []
   },
   "source": [
    "- 分散  \n",
    "  - 未指定 または `ddof=0`：標本分散 → 提示されたデータから、分散を「計算」 【通常はこちらを使用】  \n",
    "  - `ddof=1`：不偏分散 → 提示されたデータから、母集団全体の分散を「推定」  "
   ]
  },
  {
   "cell_type": "code",
   "execution_count": 71,
   "id": "bb247d1e-233f-4add-b496-81f03fb55518",
   "metadata": {},
   "outputs": [
    {
     "data": {
      "text/plain": [
       "(59.135833333333345, 90684.4722222222)"
      ]
     },
     "execution_count": 71,
     "metadata": {},
     "output_type": "execute_result"
    }
   ],
   "source": [
    "X.var(), Y.var()"
   ]
  },
  {
   "cell_type": "code",
   "execution_count": 72,
   "id": "29aeb823-1fe6-4eb3-ad2c-7a4edd851881",
   "metadata": {
    "tags": []
   },
   "outputs": [
    {
     "data": {
      "text/plain": [
       "(64.51181818181819, 98928.51515151514)"
      ]
     },
     "execution_count": 72,
     "metadata": {},
     "output_type": "execute_result"
    }
   ],
   "source": [
    "X.var(ddof=1), Y.var(ddof=1)"
   ]
  },
  {
   "cell_type": "markdown",
   "id": "6ceb99fc-bcd6-4aec-bdc5-faed7ba69aac",
   "metadata": {},
   "source": [
    "- ルート(√, 平方根)  \n",
    "  - 分散で二乗された数字を戻す  "
   ]
  },
  {
   "cell_type": "code",
   "execution_count": 73,
   "id": "46c40b06-d221-4466-90b6-1c9c3b8ad748",
   "metadata": {},
   "outputs": [
    {
     "data": {
      "text/plain": [
       "(7.68998266144556, 301.13862625412605)"
      ]
     },
     "execution_count": 73,
     "metadata": {},
     "output_type": "execute_result"
    }
   ],
   "source": [
    "np.sqrt(X.var()), np.sqrt(Y.var())"
   ]
  },
  {
   "cell_type": "markdown",
   "id": "ac4836b6-f764-4657-995f-2215a57844d3",
   "metadata": {},
   "source": [
    "- 共分散  \n",
    "  標本分散の場合、`ddof=0`を指定すること → `var()`とデフォルト値が異なる  \n",
    "  結果は以下のように格納される  \n",
    "  - 1行1列目(0,0)：Xの分散 → 上記var計算結果と同じ  \n",
    "  - 2行2列目(1,1)：Yの分散 → 上記var計算結果と同じ  \n",
    "  - (0,1)と(1,0)：XとYの共分散、どちらも同じ値(どちらかを取得すれば良い)  "
   ]
  },
  {
   "cell_type": "code",
   "execution_count": 74,
   "id": "f0ae1e16-b100-4969-ae4d-898a5937171a",
   "metadata": {
    "tags": []
   },
   "outputs": [
    {
     "data": {
      "text/plain": [
       "array([[5.91358333e+01, 2.05058333e+03],\n",
       "       [2.05058333e+03, 9.06844722e+04]])"
      ]
     },
     "execution_count": 74,
     "metadata": {},
     "output_type": "execute_result"
    }
   ],
   "source": [
    "v = np.cov(X,Y,ddof=0)\n",
    "v"
   ]
  },
  {
   "cell_type": "code",
   "execution_count": 75,
   "id": "a443612c-7ac8-4f53-a409-acc5ce44bbe2",
   "metadata": {},
   "outputs": [
    {
     "data": {
      "text/plain": [
       "(59.13583333333333, 90684.4722222222)"
      ]
     },
     "execution_count": 75,
     "metadata": {},
     "output_type": "execute_result"
    }
   ],
   "source": [
    "xvar = v[0,0]\n",
    "yvar = v[1,1]\n",
    "xvar, yvar"
   ]
  },
  {
   "cell_type": "code",
   "execution_count": 76,
   "id": "493c8ef4-7889-4863-9fdd-b15abf2b57d3",
   "metadata": {
    "tags": []
   },
   "outputs": [
    {
     "data": {
      "text/plain": [
       "2050.5833333333335"
      ]
     },
     "execution_count": 76,
     "metadata": {},
     "output_type": "execute_result"
    }
   ],
   "source": [
    "sxy = v[0, 1]\n",
    "sxy"
   ]
  },
  {
   "cell_type": "code",
   "execution_count": 77,
   "id": "5b1981d4-a8cf-47bd-b7c8-2579ce93988a",
   "metadata": {
    "tags": []
   },
   "outputs": [
    {
     "data": {
      "text/plain": [
       "2050.5833333333335"
      ]
     },
     "execution_count": 77,
     "metadata": {},
     "output_type": "execute_result"
    }
   ],
   "source": [
    "sxy = v[1, 0]\n",
    "sxy"
   ]
  },
  {
   "cell_type": "markdown",
   "id": "70cf2082-1c32-4384-b114-95bc05d9c1ff",
   "metadata": {
    "tags": []
   },
   "source": [
    "\n",
    "---\n",
    "\n",
    "### 最小二乗法による回帰係数の計算  \n",
    "\n",
    "#### 単回帰  \n",
    "- 回帰直線：Y = aX + b  \n",
    "- 傾き：a = x と y の共分散 / x の分散  \n",
    "- 切片：b = Yの平均 - (a * Xの平均)  "
   ]
  },
  {
   "cell_type": "code",
   "execution_count": 78,
   "id": "c8039254-a9d4-4c55-afac-409cd14f63ea",
   "metadata": {},
   "outputs": [
    {
     "data": {
      "text/plain": [
       "(34.67581697504334, -14.018627077961128)"
      ]
     },
     "execution_count": 78,
     "metadata": {},
     "output_type": "execute_result"
    }
   ],
   "source": [
    "a = sxy / xvar\n",
    "xmean = X.mean()\n",
    "ymean = Y.mean()\n",
    "b = ymean - a * xmean\n",
    "a, b"
   ]
  },
  {
   "cell_type": "markdown",
   "id": "dd59ab80-7a66-4c9f-8dc2-a24772400623",
   "metadata": {},
   "source": [
    "- `numpy.polyfit()`：線形回帰モデルのパラメータ `a` , `b` を算出  \n",
    "  - 回帰直線(単回帰)の場合：3番目の引数(次元数)に1を指定する  "
   ]
  },
  {
   "cell_type": "code",
   "execution_count": 79,
   "id": "4b0529e6-65b0-4a9c-b724-d43d9f5c642c",
   "metadata": {
    "tags": []
   },
   "outputs": [
    {
     "data": {
      "text/plain": [
       "array([ 34.67581698, -14.01862708])"
      ]
     },
     "execution_count": 79,
     "metadata": {},
     "output_type": "execute_result"
    }
   ],
   "source": [
    "W = np.polyfit(X, Y, 1)\n",
    "W"
   ]
  },
  {
   "cell_type": "markdown",
   "id": "258c356f-d40f-4f49-80e3-ac17b93abbd4",
   "metadata": {},
   "source": [
    "- 値を検証  \n",
    "  `assert_allclose()` ：値がほぼ同じ場合は何も表示しない、差がある場合は`AssertionError`  "
   ]
  },
  {
   "cell_type": "code",
   "execution_count": 80,
   "id": "2780f4ac-590e-4c14-bb0d-ee2ac4cdf02c",
   "metadata": {},
   "outputs": [],
   "source": [
    "np.testing.assert_allclose((a, b), (W[0], W[1]))"
   ]
  },
  {
   "cell_type": "markdown",
   "id": "fbcc920c-a8b8-44c7-a097-766f1184533a",
   "metadata": {},
   "source": [
    "- AssertionErrorを発生させる場合は、コメントを外して実行  "
   ]
  },
  {
   "cell_type": "code",
   "execution_count": 81,
   "id": "2661df4d-d75e-4781-83f2-924586633a70",
   "metadata": {},
   "outputs": [],
   "source": [
    "#np.testing.assert_allclose((a, b), (35, W[1]))"
   ]
  },
  {
   "cell_type": "markdown",
   "id": "d064a36f-f7e7-49b5-a9f3-f459d3f542aa",
   "metadata": {},
   "source": [
    "- `numpy.polyval()`：回帰直線：Y = aX + bの`Y`を算出  "
   ]
  },
  {
   "cell_type": "code",
   "execution_count": 82,
   "id": "7ef00f2a-0069-4811-aae6-8d1e5ac3c720",
   "metadata": {},
   "outputs": [
    {
     "data": {
      "text/plain": [
       "array([ 301.53130739,  374.35052304,  412.49392172,  641.35431375,\n",
       "        755.78450977,  887.55261427, 1057.46411745, 1067.86686254,\n",
       "        984.6449018 ,  783.52516335,  620.54882357,  370.88294135])"
      ]
     },
     "execution_count": 82,
     "metadata": {},
     "output_type": "execute_result"
    }
   ],
   "source": [
    "y_hat = np.polyval(W, X)\n",
    "y_hat"
   ]
  },
  {
   "cell_type": "markdown",
   "id": "da4904fe-be75-40b3-8d6b-e93dd2a63cc5",
   "metadata": {
    "tags": []
   },
   "source": [
    "\n",
    "---\n",
    "\n",
    "#### 行列演算で単回帰分析  \n",
    "\n",
    "- y = ax + b をベクトルで表す  \n",
    "\n",
    "$$\n",
    "\\begin{align}\n",
    "\\pmb{x} = \\begin{pmatrix}\n",
    "x \\\\ 1\n",
    "\\end{pmatrix},\n",
    "\\pmb{w} = \\begin{pmatrix}\n",
    "a \\\\ b\n",
    "\\end{pmatrix}\n",
    "\\end{align}\n",
    "$$\n",
    "\n",
    "\n",
    "\\begin{align}\n",
    "\\hat{y} = \\pmb{x}^\\top\\pmb{w}\n",
    "\\end{align}\n",
    "\n",
    "\n",
    "\n",
    "\\begin{align}\n",
    "\\hat{y} = xa + b = ax + b\n",
    "\\end{align}\n",
    "\n",
    "\n",
    "- 目的関数：計算結果が最小値となる$\\pmb{w}$を求める  \n",
    "    → 最終的に0へ近づける  \n",
    "\n",
    "\\begin{align}\n",
    "\\hat{L}_{\\mathcal{D}}(\\pmb{w}) = \\|\\pmb{y} - \\pmb{\\hat{y}}\\|^2 = \\|\\pmb{y} - \\pmb{X} \\pmb{w}\\|^2\n",
    "\\end{align}\n",
    "\n",
    "\n",
    "- 目的関数を最小化する、ベクトル$\\pmb{w}$の求め方  \n",
    "\n",
    "$$\n",
    "\\begin{align}\n",
    "\\pmb{w} &= (\\pmb{X}^\\top \\pmb{X})^{-1}\\pmb{X}^\\top \\pmb{y}\n",
    "\\end{align}\n",
    "$$\n",
    "\n",
    "\n",
    "\n",
    "- `numpy.linalg.inv()`：逆行列 (行列$^{-1}$)  \n"
   ]
  },
  {
   "cell_type": "code",
   "execution_count": 83,
   "id": "0cd1e64f-f6d4-42c4-91eb-4126c6193ab2",
   "metadata": {},
   "outputs": [
    {
     "data": {
      "text/plain": [
       "array([[ 9.1,  1. ],\n",
       "       [11.2,  1. ],\n",
       "       [12.3,  1. ],\n",
       "       [18.9,  1. ],\n",
       "       [22.2,  1. ],\n",
       "       [26. ,  1. ],\n",
       "       [30.9,  1. ],\n",
       "       [31.2,  1. ],\n",
       "       [28.8,  1. ],\n",
       "       [23. ,  1. ],\n",
       "       [18.3,  1. ],\n",
       "       [11.1,  1. ]])"
      ]
     },
     "execution_count": 83,
     "metadata": {},
     "output_type": "execute_result"
    }
   ],
   "source": [
    "X_V = np.vstack([ X, np.ones_like(X) ]).T\n",
    "X_V"
   ]
  },
  {
   "cell_type": "code",
   "execution_count": 84,
   "id": "df73afe1-bc9c-47cc-9e5a-08839eb5d6f1",
   "metadata": {},
   "outputs": [
    {
     "data": {
      "text/plain": [
       "array([ 34.67581698, -14.01862708])"
      ]
     },
     "execution_count": 84,
     "metadata": {},
     "output_type": "execute_result"
    }
   ],
   "source": [
    "w = np.linalg.inv(X_V.T @ X_V) @ X_V.T @ Y\n",
    "w"
   ]
  },
  {
   "cell_type": "markdown",
   "id": "351ac526-76ce-4980-85fb-9ab097611469",
   "metadata": {},
   "source": [
    "- x = 20 の場合  "
   ]
  },
  {
   "cell_type": "code",
   "execution_count": 85,
   "id": "1bb119f0-8f46-46f3-aaed-4717c4006fee",
   "metadata": {},
   "outputs": [
    {
     "data": {
      "text/plain": [
       "679.4977124229072"
      ]
     },
     "execution_count": 85,
     "metadata": {},
     "output_type": "execute_result"
    }
   ],
   "source": [
    "y_hat_V = np.polyval(w, 20)\n",
    "y_hat_V"
   ]
  },
  {
   "cell_type": "code",
   "execution_count": 86,
   "id": "297589dd-f11b-45a8-a59e-8031f6709448",
   "metadata": {},
   "outputs": [
    {
     "data": {
      "text/plain": [
       "20.65718989708374"
      ]
     },
     "execution_count": 86,
     "metadata": {},
     "output_type": "execute_result"
    }
   ],
   "source": [
    "np.polyval(w, 1)"
   ]
  },
  {
   "cell_type": "code",
   "execution_count": 87,
   "id": "66ab7183-885d-4186-90e3-0840acb267fe",
   "metadata": {},
   "outputs": [
    {
     "data": {
      "text/plain": [
       "55.33300687212707"
      ]
     },
     "execution_count": 87,
     "metadata": {},
     "output_type": "execute_result"
    }
   ],
   "source": [
    "np.polyval(w, 2)"
   ]
  },
  {
   "cell_type": "markdown",
   "id": "1933eedc-5c2c-466e-bcd0-ca54c4b328c1",
   "metadata": {},
   "source": [
    "\n",
    "---\n",
    "\n",
    "#### 対数で単回帰分析  \n",
    "\n",
    "- X, Y を対数に変換  \n"
   ]
  },
  {
   "cell_type": "code",
   "execution_count": 88,
   "id": "841bfaee-f91d-4a5f-805f-d59975477c8f",
   "metadata": {},
   "outputs": [
    {
     "data": {
      "text/plain": [
       "array([[2.20827441, 1.        ],\n",
       "       [2.41591378, 1.        ],\n",
       "       [2.50959926, 1.        ],\n",
       "       [2.93916192, 1.        ],\n",
       "       [3.10009229, 1.        ],\n",
       "       [3.25809654, 1.        ],\n",
       "       [3.43075618, 1.        ],\n",
       "       [3.44041809, 1.        ],\n",
       "       [3.36037539, 1.        ],\n",
       "       [3.13549422, 1.        ],\n",
       "       [2.90690106, 1.        ],\n",
       "       [2.40694511, 1.        ]])"
      ]
     },
     "execution_count": 88,
     "metadata": {},
     "output_type": "execute_result"
    }
   ],
   "source": [
    "X_log = np.vstack([ np.log(X), np.ones_like(X) ]).T\n",
    "X_log"
   ]
  },
  {
   "cell_type": "code",
   "execution_count": 89,
   "id": "d1f215e5-6e6a-4810-b1dc-14659e43f5c2",
   "metadata": {},
   "outputs": [
    {
     "data": {
      "text/plain": [
       "array([6.13772705, 5.88610403, 5.94017125, 6.36990098, 6.63725803,\n",
       "       6.78671695, 7.06304816, 7.18916774, 6.74170069, 6.295266  ,\n",
       "       6.08904488, 6.2126061 ])"
      ]
     },
     "execution_count": 89,
     "metadata": {},
     "output_type": "execute_result"
    }
   ],
   "source": [
    "Y_log = np.log(Y)\n",
    "Y_log"
   ]
  },
  {
   "cell_type": "code",
   "execution_count": 90,
   "id": "965a2b9a-4077-4a3e-a63f-cb940ee11108",
   "metadata": {},
   "outputs": [
    {
     "data": {
      "text/plain": [
       "array([0.84382421, 3.97669437])"
      ]
     },
     "execution_count": 90,
     "metadata": {},
     "output_type": "execute_result"
    }
   ],
   "source": [
    "w = np.linalg.inv(X_log.T @ X_log) @ X_log.T @ Y_log\n",
    "w"
   ]
  },
  {
   "cell_type": "markdown",
   "id": "ded56c3f-7e6c-42d4-82c3-5fc59e35291d",
   "metadata": {},
   "source": [
    "- x = 20 の場合  "
   ]
  },
  {
   "cell_type": "code",
   "execution_count": 91,
   "id": "1174c4d2-0e4c-40a3-81b8-f463f42b742f",
   "metadata": {},
   "outputs": [
    {
     "data": {
      "text/plain": [
       "20.853178518101537"
      ]
     },
     "execution_count": 91,
     "metadata": {},
     "output_type": "execute_result"
    }
   ],
   "source": [
    "y_hat_log = np.polyval(w, 20)\n",
    "y_hat_log"
   ]
  },
  {
   "cell_type": "markdown",
   "id": "2e275333-5449-4c62-8012-85fb109ab44e",
   "metadata": {},
   "source": [
    "- 対数変換を「しない」「する」で分析結果が異なる  \n",
    "  - しない：直線関係のモデル → x が増減した量に比例して y の量も増減する  \n",
    "  - する：弾力性が一定のモデル → x の変化率に比例して y の変化率も増減する  \n",
    "    例）所得 x が 1％ 増えたら需要 y が 0.8% 増える場合、需要の所得弾力性は 0.8 となる  \n",
    "- 経済学や自然科学の世界では「所得が１%増えるたびに需要は〇%増える」のように、弾力性が一定と考えられるものが多く存在することから、対数変換をしてから最小二乗法を使う方法がよく使われている  \n",
    "- 参考：[「対数変換を行う意味について。回帰分析において対数変換する背景にある前提とは？」](https://atarimae.biz/archives/13161)  "
   ]
  },
  {
   "cell_type": "code",
   "execution_count": 92,
   "id": "1b306d2b-ff0b-4ad3-9722-a8db4f17f2c6",
   "metadata": {},
   "outputs": [
    {
     "data": {
      "text/plain": [
       "658.6445339048056"
      ]
     },
     "execution_count": 92,
     "metadata": {},
     "output_type": "execute_result"
    }
   ],
   "source": [
    "y_hat_V - y_hat_log"
   ]
  },
  {
   "cell_type": "code",
   "execution_count": 93,
   "id": "3aa54e14-c20d-471b-8654-7682c8eb6a64",
   "metadata": {},
   "outputs": [
    {
     "data": {
      "text/plain": [
       "4.820518579352204"
      ]
     },
     "execution_count": 93,
     "metadata": {},
     "output_type": "execute_result"
    }
   ],
   "source": [
    "np.polyval(w, 1)"
   ]
  },
  {
   "cell_type": "code",
   "execution_count": 94,
   "id": "789e1dae-aa0f-4929-8640-2359de63a9ae",
   "metadata": {},
   "outputs": [
    {
     "data": {
      "text/plain": [
       "5.6643427866548"
      ]
     },
     "execution_count": 94,
     "metadata": {},
     "output_type": "execute_result"
    }
   ],
   "source": [
    "np.polyval(w, 2)"
   ]
  },
  {
   "cell_type": "markdown",
   "id": "245236aa-dfb9-4382-ace0-e06cd4426b2f",
   "metadata": {},
   "source": [
    "\n",
    "---\n",
    "\n",
    "#### 多項式回帰  \n",
    "\n",
    "- 3次曲線：y = b0 + (b1 * x) + (b2 * x^2) + (b3 * x^3)  \n",
    "\n",
    "\n",
    "テストデータ  \n"
   ]
  },
  {
   "cell_type": "code",
   "execution_count": 95,
   "id": "233f54dc-5db2-4fec-852d-415042b7eae2",
   "metadata": {
    "tags": []
   },
   "outputs": [
    {
     "data": {
      "text/plain": [
       "(array([1, 3, 6, 8]), array([3, 6, 5, 7]))"
      ]
     },
     "execution_count": 95,
     "metadata": {},
     "output_type": "execute_result"
    }
   ],
   "source": [
    "D = np.array([[1, 3], [3, 6], [6, 5], [8, 7]])\n",
    "X = D[:,0]\n",
    "Y = D[:,1]\n",
    "X, Y"
   ]
  },
  {
   "cell_type": "markdown",
   "id": "cdc7b0ae-6199-4b2e-9d95-9a206ba1e683",
   "metadata": {},
   "source": [
    "フィッティング  \n",
    "- 3次曲線：3番目の引数(次元数)に3を指定する  \n",
    "- 結果は b3, b2, b1, b0 の順番で返却される  "
   ]
  },
  {
   "cell_type": "code",
   "execution_count": 96,
   "id": "0b86f1f1-3995-4fe7-a4ea-661cfb14f651",
   "metadata": {
    "tags": []
   },
   "outputs": [
    {
     "data": {
      "text/plain": [
       "array([ 0.09047619, -1.27142857,  5.40952381, -1.22857143])"
      ]
     },
     "execution_count": 96,
     "metadata": {},
     "output_type": "execute_result"
    }
   ],
   "source": [
    "W = np.polyfit(X, Y, 3)\n",
    "W"
   ]
  },
  {
   "cell_type": "markdown",
   "id": "963b30ed-b26a-4549-a4d5-6b10b70c4fcc",
   "metadata": {
    "tags": []
   },
   "source": [
    "\n",
    "---\n",
    "\n",
    "### 画像ファイルをNumpy形式に変換  \n",
    "\n",
    "機械学習の入力データとして活用するため、ndarrayに変換する  \n",
    "\n",
    "\n",
    "参考  \n",
    "- [Python, NumPyで画像処理（読み込み、演算、保存）](https://note.nkmk.me/python-numpy-image-processing/)  \n",
    "- [OpenCV – resize で画像をリサイズする方法](https://pystyle.info/opencv-resize/)  \n",
    "\n",
    "画像ファイル  \n",
    "![](./images/Number2.png)  \n",
    "\n"
   ]
  },
  {
   "cell_type": "markdown",
   "id": "35e9eee1-7eb1-4f52-933d-c958feb97d6e",
   "metadata": {},
   "source": [
    "\n",
    "---\n",
    "\n",
    "#### グレースケール変換  \n",
    "\n",
    "`.convert('L')` を指定  \n"
   ]
  },
  {
   "cell_type": "code",
   "execution_count": 97,
   "id": "4ff6ef5f-f5a8-475b-93b5-a43ae718dbf8",
   "metadata": {},
   "outputs": [
    {
     "name": "stdout",
     "output_type": "stream",
     "text": [
      "<class 'numpy.ndarray'>\n",
      "uint8\n",
      "(432, 389)\n"
     ]
    }
   ],
   "source": [
    "im_gray = np.array(Image.open('./images/Number2.png').convert('L'))\n",
    "print(type(im_gray))\n",
    "print(im_gray.dtype)\n",
    "print(im_gray.shape)"
   ]
  },
  {
   "cell_type": "markdown",
   "id": "8138bdcc-660f-48eb-a10b-280a4b819553",
   "metadata": {},
   "source": [
    "任意の1行を抽出して、色を確認  \n",
    "8ビット、白黒の濃度を256段階で表す  \n",
    "- 255：白  \n",
    "- 0：黒  "
   ]
  },
  {
   "cell_type": "code",
   "execution_count": 98,
   "id": "6388e067-786a-4139-93ba-bb95f32cba45",
   "metadata": {},
   "outputs": [
    {
     "name": "stdout",
     "output_type": "stream",
     "text": [
      "[255 255 255 255 255 255 255 255 255 255 255 255 255 255 255 255 255 255\n",
      " 255 255 255 255 255 255 255 255 255 255 255 255 255 255 255 255 255 255\n",
      " 255 255 255 255 255 255 255 255 255 255 255 255 255 255 255 255 255 255\n",
      " 255 255 255 255 255 255 255 255 255 255 255 255 255 255 255 255 255 255\n",
      " 255 255 255 255 255 255 255 255 255 255 255 255 255 255 255 255 255 255\n",
      " 255 255 255 255 255 255 255 255 255 255 255 255 255 255 255 255 255 255\n",
      " 255 255 255 255 255 255 255 255 255 255 255 255 255 255 255 255 255 255\n",
      " 255 255 255 255 255 255 255 255 255 255 255 255 255 255 255 255 255 255\n",
      " 255 255 255 255 255 255 255 255 255 255 255 255 255 255 255 255 255 255\n",
      " 255 255 255 255 255 255 255 255 254 250 252 253 252 252 255 244 164  42\n",
      "  23  40  26  34  29  32  32  31  31  30  31  31  31  32  32  32  32  32\n",
      "  32  32  32  32  32  32  32  32  32  32  32  32  32  32  32  32  32  32\n",
      "  32  32  32  32  32  32  32  32  32  32  32  32  32  32  32  32  32  32\n",
      "  32  32  32  32  32  32  32  32  32  32  32  32  32  32  32  32  32  32\n",
      "  32  32  32  32  32  32  32  32  32  32  32  32  32  32  32  32  32  32\n",
      "  32  32  32  31  28  31  33  33  38  31  11 108 233 251 255 255 244 255\n",
      " 253 255 255 255 255 255 255 255 255 255 255 255 255 255 255 255 255 255\n",
      " 255 255 255 255 255 255 255 255 255 255 255 255 255 255 255 255 255 255\n",
      " 255 255 255 255 255 255 255 255 255 255 255 255 255 255 255 255 255 255\n",
      " 255 255 255 255 255 255 255 255 255 255 255 255 255 255 255 255 255 255\n",
      " 255 255 255 255 255 255 255 255 255 255 255 255 255 255 255 255 255 255\n",
      " 255 255 255 255 255 255 255 255 255 255 255]\n"
     ]
    }
   ],
   "source": [
    "print(im_gray[216])"
   ]
  },
  {
   "cell_type": "markdown",
   "id": "f90f2236-b2f3-4ec1-a2d9-eb914263a450",
   "metadata": {},
   "source": [
    "任意の1項目を抽出して、色を確認  "
   ]
  },
  {
   "cell_type": "code",
   "execution_count": 99,
   "id": "2f2e45aa-69d6-4f5d-9a87-9c16eb5b17a7",
   "metadata": {},
   "outputs": [
    {
     "name": "stdout",
     "output_type": "stream",
     "text": [
      "32\n"
     ]
    }
   ],
   "source": [
    "print(im_gray[216, 194])"
   ]
  },
  {
   "cell_type": "markdown",
   "id": "c05f4d4c-a736-4a5f-8be9-9ae3edeb9d1e",
   "metadata": {},
   "source": [
    "ndarrayから画像を表示 → matplotlib の imshow を使用  \n",
    "\n",
    "- `cmap='gray'` を指定 →　グレースケール画像として表示  \n"
   ]
  },
  {
   "cell_type": "code",
   "execution_count": 100,
   "id": "8d7fc417-97f8-4043-a5fa-54d6450159db",
   "metadata": {},
   "outputs": [
    {
     "data": {
      "text/plain": [
       "<matplotlib.image.AxesImage at 0x7fe5becda740>"
      ]
     },
     "execution_count": 100,
     "metadata": {},
     "output_type": "execute_result"
    },
    {
     "data": {
      "image/png": "[encoded data removed]",
      "text/plain": [
       "<Figure size 640x480 with 1 Axes>"
      ]
     },
     "metadata": {},
     "output_type": "display_data"
    }
   ],
   "source": [
    "plt.imshow(im_gray, cmap='gray')"
   ]
  },
  {
   "cell_type": "markdown",
   "id": "abefe4ef-f9ca-4547-bcf3-f4eacdd27326",
   "metadata": {},
   "source": [
    "\n",
    "---\n",
    "\n",
    "#### カラー変換  \n",
    "\n",
    "- shape：(行, 列, 色)  \n",
    "- 色：RGB（赤, 緑, 青）  \n"
   ]
  },
  {
   "cell_type": "code",
   "execution_count": 101,
   "id": "2809d813-cf89-4f2e-aca4-dd3e6e3b3dc0",
   "metadata": {},
   "outputs": [
    {
     "name": "stdout",
     "output_type": "stream",
     "text": [
      "<class 'numpy.ndarray'>\n",
      "uint8\n",
      "(432, 389, 3)\n"
     ]
    }
   ],
   "source": [
    "im_rgb = np.array(Image.open('./images/Number2.png'))\n",
    "print(type(im_rgb))\n",
    "print(im_rgb.dtype)\n",
    "print(im_rgb.shape)"
   ]
  },
  {
   "cell_type": "markdown",
   "id": "d34abe56-dd1b-4d71-9ce0-654852f73930",
   "metadata": {},
   "source": [
    "任意の1行を抽出して、色を確認してみる  \n",
    "→ 情報が多いため、一部のみ表示  "
   ]
  },
  {
   "cell_type": "code",
   "execution_count": 102,
   "id": "afb5d598-dee4-4148-b34f-0a84b71d5589",
   "metadata": {},
   "outputs": [
    {
     "name": "stdout",
     "output_type": "stream",
     "text": [
      "[[255 255 255]\n",
      " [255 255 255]\n",
      " [255 255 255]\n",
      " ...\n",
      " [255 255 255]\n",
      " [255 255 255]\n",
      " [255 255 255]]\n"
     ]
    }
   ],
   "source": [
    "print(im_rgb[216])"
   ]
  },
  {
   "cell_type": "markdown",
   "id": "3c0da10e-7ab0-4728-aa77-0bc5b6587797",
   "metadata": {},
   "source": [
    "任意の1項目を抽出して、色を確認  \n",
    "24ビット、(R, G, B)それぞれの濃度を256段階で表す  \n",
    "\n",
    "\n",
    "例  \n",
    "- 赤：(255, 0, 0)  \n",
    "- 緑：(0, 255, 0)  \n",
    "- 青：(0, 0, 255)  \n",
    "- 黒：(0, 0, 0)  \n",
    "- 白：(255, 255, 255)  \n",
    "- 黄：(127, 127, 127)  \n"
   ]
  },
  {
   "cell_type": "code",
   "execution_count": 103,
   "id": "7f60cec4-5f8e-4288-be78-b386cae42e09",
   "metadata": {},
   "outputs": [
    {
     "name": "stdout",
     "output_type": "stream",
     "text": [
      "[35 31 32]\n"
     ]
    }
   ],
   "source": [
    "print(im_rgb[216, 194])"
   ]
  },
  {
   "cell_type": "markdown",
   "id": "376af742-4a8e-4be8-a6cc-07098bd1af4f",
   "metadata": {},
   "source": [
    "ndarrayから画像を表示  "
   ]
  },
  {
   "cell_type": "code",
   "execution_count": 104,
   "id": "63a3b02f-d956-425c-82dd-5171f6add040",
   "metadata": {},
   "outputs": [
    {
     "data": {
      "text/plain": [
       "<matplotlib.image.AxesImage at 0x7fe5beb499c0>"
      ]
     },
     "execution_count": 104,
     "metadata": {},
     "output_type": "execute_result"
    },
    {
     "data": {
      "image/png": "[encoded data removed]",
      "text/plain": [
       "<Figure size 640x480 with 1 Axes>"
      ]
     },
     "metadata": {},
     "output_type": "display_data"
    }
   ],
   "source": [
    "plt.imshow(im_rgb)"
   ]
  },
  {
   "cell_type": "markdown",
   "id": "2a7f3498-1dbc-4273-84fb-bc6cedf67165",
   "metadata": {
    "tags": []
   },
   "source": [
    "\n",
    "---\n",
    "\n",
    "#### ndarrayを画像ファイルに変換  \n",
    "\n",
    "グレースケールから変換  \n"
   ]
  },
  {
   "cell_type": "code",
   "execution_count": 105,
   "id": "b480bb1f-3489-4289-85f0-13eeb466911f",
   "metadata": {},
   "outputs": [
    {
     "name": "stdout",
     "output_type": "stream",
     "text": [
      "L\n"
     ]
    }
   ],
   "source": [
    "im = Image.fromarray(im_gray)\n",
    "print(im.mode)\n",
    "im.save('./images/Number2-gray_ndarray.png')"
   ]
  },
  {
   "cell_type": "markdown",
   "id": "4ab8fdb8-779b-4833-8170-abccae091aef",
   "metadata": {},
   "source": [
    "変換した画像ファイルを表示  "
   ]
  },
  {
   "cell_type": "code",
   "execution_count": 106,
   "id": "594910ce-d78c-492f-b371-1f42ff8f766a",
   "metadata": {},
   "outputs": [
    {
     "data": {
      "image/png": "[encoded data removed]",
      "text/plain": [
       "<PIL.PngImagePlugin.PngImageFile image mode=L size=389x432>"
      ]
     },
     "execution_count": 106,
     "metadata": {},
     "output_type": "execute_result"
    }
   ],
   "source": [
    "im_file = Image.open('./images/Number2-gray_ndarray.png')\n",
    "im_file"
   ]
  },
  {
   "cell_type": "markdown",
   "id": "7a5e079a-cf04-46f0-8934-99999ec21260",
   "metadata": {},
   "source": [
    "\n",
    "---\n",
    "\n",
    "#### グレースケール画像をリサイズ  \n",
    "\n",
    "OpenCVを使用して、50％縮小  \n",
    "- fx, fy：指定した倍率でリサイズ → こちらを使用  \n",
    "- dsize：指定した大きさにリサイズする場合  \n"
   ]
  },
  {
   "cell_type": "code",
   "execution_count": 107,
   "id": "647133a5-604f-4cc7-9c5d-5c3abd10a689",
   "metadata": {},
   "outputs": [
    {
     "data": {
      "text/plain": [
       "<matplotlib.image.AxesImage at 0x7fe5bebb4970>"
      ]
     },
     "execution_count": 107,
     "metadata": {},
     "output_type": "execute_result"
    },
    {
     "data": {
      "image/png": "[encoded data removed]",
      "text/plain": [
       "<Figure size 640x480 with 1 Axes>"
      ]
     },
     "metadata": {},
     "output_type": "display_data"
    }
   ],
   "source": [
    "im = cv2.imread('./images/Number2-gray_ndarray.png')\n",
    "im_res = cv2.resize(im, dsize=None, fx=0.5, fy=0.5)\n",
    "plt.imshow(im_res, cmap='gray')"
   ]
  },
  {
   "cell_type": "markdown",
   "id": "91dfcd74-d33c-4674-8d8b-98b28d49cd0c",
   "metadata": {},
   "source": [
    "ファイルに保存・表示  "
   ]
  },
  {
   "cell_type": "code",
   "execution_count": 108,
   "id": "504ed516-12de-42de-99d0-ff29e537a047",
   "metadata": {},
   "outputs": [
    {
     "data": {
      "image/png": "[encoded data removed]",
      "text/plain": [
       "<PIL.PngImagePlugin.PngImageFile image mode=RGB size=194x216>"
      ]
     },
     "execution_count": 108,
     "metadata": {},
     "output_type": "execute_result"
    }
   ],
   "source": [
    "im = Image.fromarray(im_res)\n",
    "im.save('./images/Number2-gray-half_ndarray.png')\n",
    "im_file = Image.open('./images/Number2-gray-half_ndarray.png')\n",
    "im_file"
   ]
  },
  {
   "cell_type": "markdown",
   "id": "9f6f3ffc-69fd-4195-983f-5d297b1c056f",
   "metadata": {},
   "source": [
    "\n",
    "---\n"
   ]
  }
 ],
 "metadata": {
  "kernelspec": {
   "display_name": "mlnote:Python",
   "language": "python",
   "name": "conda-env-mlnote-py"
  },
  "language_info": {
   "codemirror_mode": {
    "name": "ipython",
    "version": 3
   },
   "file_extension": ".py",
   "mimetype": "text/x-python",
   "name": "python",
   "nbconvert_exporter": "python",
   "pygments_lexer": "ipython3",
   "version": "3.10.6"
  }
 },
 "nbformat": 4,
 "nbformat_minor": 5
}
