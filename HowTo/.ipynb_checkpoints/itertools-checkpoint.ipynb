{
 "cells": [
  {
   "cell_type": "markdown",
   "id": "839b19d5-d396-4e31-9fe6-cb1362ab0944",
   "metadata": {},
   "source": [
    "# itertools  \n",
    "\n",
    "順列・組合せを生成するライブラリ  \n"
   ]
  },
  {
   "cell_type": "code",
   "execution_count": 1,
   "id": "64a6eead-642e-4c14-bf6d-08e623afd058",
   "metadata": {},
   "outputs": [],
   "source": [
    "import math\n",
    "import itertools"
   ]
  },
  {
   "cell_type": "markdown",
   "id": "d3b367ef-b6eb-4b87-bc9a-6d68d80c4833",
   "metadata": {},
   "source": [
    "\n",
    "---\n",
    "\n",
    "## 階乗  \n",
    "\n",
    "n から1までの整数を掛算、`!`で表す  \n",
    "\n",
    "- 3の階乗：3×2×1=6  "
   ]
  },
  {
   "cell_type": "code",
   "execution_count": 2,
   "id": "6969e722-d0d4-4587-8ad3-e59f3f81b7b6",
   "metadata": {},
   "outputs": [
    {
     "data": {
      "text/plain": [
       "6"
      ]
     },
     "execution_count": 2,
     "metadata": {},
     "output_type": "execute_result"
    }
   ],
   "source": [
    "a = math.factorial(3)\n",
    "a"
   ]
  },
  {
   "cell_type": "markdown",
   "id": "f137c994-fae9-42b1-9140-0f2aa6a87ddd",
   "metadata": {},
   "source": [
    "- 0の階乗：1 → 何も掛けないので1倍とする  "
   ]
  },
  {
   "cell_type": "code",
   "execution_count": 3,
   "id": "b00336ac-86c2-4d28-989f-9ef4b76d0d7c",
   "metadata": {},
   "outputs": [
    {
     "data": {
      "text/plain": [
       "1"
      ]
     },
     "execution_count": 3,
     "metadata": {},
     "output_type": "execute_result"
    }
   ],
   "source": [
    "a = math.factorial(0)\n",
    "a"
   ]
  },
  {
   "cell_type": "markdown",
   "id": "83fed3d3-98af-4461-907b-aa9b2f811906",
   "metadata": {},
   "source": [
    "\n",
    "---\n",
    "\n",
    "## 順列・組合せについて  \n",
    "\n",
    "### 順列とは  \n",
    "\n",
    "n 個の中から r 個を取り出し、順番に並べたもの  \n",
    "並び順を考慮する  \n",
    "例）`AB` と `BA` は異なる  \n",
    "\n",
    "\n",
    "### 組合せとは  \n",
    "\n",
    "n 個の中から r 個を取り出すが、並び順は考慮しない  \n",
    "例）`AB` と `BA` は同じ  \n",
    "\n",
    "\n",
    "---\n",
    "\n",
    "## 順列  \n",
    "\n",
    "重複なしで順番に並べる → 同じものを繰り返し選べない  \n",
    "n 個の中から、r 個を取り出す計算式：`n! / (n-r)!`  \n",
    "\n",
    "\n",
    "- 「1」「2」「3」から3個を取り出す  \n"
   ]
  },
  {
   "cell_type": "code",
   "execution_count": 4,
   "id": "4bf0ccde-7545-4ed8-854c-04e8b3bbeca5",
   "metadata": {},
   "outputs": [
    {
     "name": "stdout",
     "output_type": "stream",
     "text": [
      "('1', '2', '3')\n",
      "('1', '3', '2')\n",
      "('2', '1', '3')\n",
      "('2', '3', '1')\n",
      "('3', '1', '2')\n",
      "('3', '2', '1')\n",
      "\n",
      "Total = 6\n"
     ]
    }
   ],
   "source": [
    "i = 0\n",
    "v = itertools.permutations('123', 3)\n",
    "for x in v:\n",
    "    print(x)\n",
    "    i += 1\n",
    "print('\\nTotal = ' + str(i))"
   ]
  },
  {
   "cell_type": "markdown",
   "id": "6803182b-bca3-4afe-a231-428f8f231667",
   "metadata": {},
   "source": [
    "- 順列の総数  "
   ]
  },
  {
   "cell_type": "code",
   "execution_count": 5,
   "id": "94986789-40bd-4c44-9bde-a6487c6f54c7",
   "metadata": {},
   "outputs": [
    {
     "data": {
      "text/plain": [
       "6"
      ]
     },
     "execution_count": 5,
     "metadata": {},
     "output_type": "execute_result"
    }
   ],
   "source": [
    "a = math.perm(3,3)\n",
    "a"
   ]
  },
  {
   "cell_type": "markdown",
   "id": "bfc7166d-7d2c-47ee-a070-97210718c8ef",
   "metadata": {},
   "source": [
    "\n",
    "---\n",
    "\n",
    "## 重複順列  \n",
    "\n",
    "重複ありで順番に並べる → 同じものを繰り返し取り出して良い  \n",
    "n 個の中から、同じものを繰り返し r 個取り出す計算式：`n^r` ( n の r 乗)  \n",
    "\n",
    "- 「1」「2」「3」から3個を取り出す  \n"
   ]
  },
  {
   "cell_type": "code",
   "execution_count": 6,
   "id": "1224b7c1-05d5-4228-af39-6b47dd845ac5",
   "metadata": {},
   "outputs": [
    {
     "name": "stdout",
     "output_type": "stream",
     "text": [
      "('1', '1', '1')\n",
      "('1', '1', '2')\n",
      "('1', '1', '3')\n",
      "('1', '2', '1')\n",
      "('1', '2', '2')\n",
      "('1', '2', '3')\n",
      "('1', '3', '1')\n",
      "('1', '3', '2')\n",
      "('1', '3', '3')\n",
      "('2', '1', '1')\n",
      "('2', '1', '2')\n",
      "('2', '1', '3')\n",
      "('2', '2', '1')\n",
      "('2', '2', '2')\n",
      "('2', '2', '3')\n",
      "('2', '3', '1')\n",
      "('2', '3', '2')\n",
      "('2', '3', '3')\n",
      "('3', '1', '1')\n",
      "('3', '1', '2')\n",
      "('3', '1', '3')\n",
      "('3', '2', '1')\n",
      "('3', '2', '2')\n",
      "('3', '2', '3')\n",
      "('3', '3', '1')\n",
      "('3', '3', '2')\n",
      "('3', '3', '3')\n",
      "\n",
      "Total = 27\n"
     ]
    }
   ],
   "source": [
    "i = 0\n",
    "v = itertools.product('123', repeat=3)\n",
    "for x in v:\n",
    "    print(x)\n",
    "    i += 1\n",
    "print('\\nTotal = ' + str(i))"
   ]
  },
  {
   "cell_type": "markdown",
   "id": "86310f22-ef8b-4c8d-9a93-af435db6a555",
   "metadata": {},
   "source": [
    "- 重複順列の総数  "
   ]
  },
  {
   "cell_type": "code",
   "execution_count": 7,
   "id": "bcb5f606-067e-4d16-8e8e-a62d1dd41614",
   "metadata": {},
   "outputs": [
    {
     "data": {
      "text/plain": [
       "27.0"
      ]
     },
     "execution_count": 7,
     "metadata": {},
     "output_type": "execute_result"
    }
   ],
   "source": [
    "a = math.pow(3, 3)\n",
    "a"
   ]
  },
  {
   "cell_type": "markdown",
   "id": "928edc39-d1b4-40e2-9773-bf42d949060c",
   "metadata": {},
   "source": [
    "\n",
    "---\n",
    "\n",
    "## 組合せ  \n",
    "\n",
    "重複なしで取り出す → 同じものを繰り返し選べない  \n",
    "n 個の中から、r 個を取り出す計算式：`n! / r! * (n-r)!`  \n",
    "\n",
    "- 「1」「2」「3」から3個を取り出す  \n"
   ]
  },
  {
   "cell_type": "code",
   "execution_count": 8,
   "id": "ba5dd17d-e376-48f7-9dad-19662fa22c45",
   "metadata": {},
   "outputs": [
    {
     "name": "stdout",
     "output_type": "stream",
     "text": [
      "('1', '2', '3')\n",
      "\n",
      "Total = 1\n"
     ]
    }
   ],
   "source": [
    "i = 0\n",
    "v = itertools.combinations('123', 3)\n",
    "for x in v:\n",
    "    print(x)\n",
    "    i += 1\n",
    "print('\\nTotal = ' + str(i))"
   ]
  },
  {
   "cell_type": "markdown",
   "id": "6ef9e0d3-d144-4f4f-8d29-2301a3fbdc7c",
   "metadata": {},
   "source": [
    "- 「1」「2」「3」から2個を取り出す  \n"
   ]
  },
  {
   "cell_type": "code",
   "execution_count": 9,
   "id": "ab4dd687-7ff8-4174-b472-00756ef079fc",
   "metadata": {
    "tags": []
   },
   "outputs": [
    {
     "name": "stdout",
     "output_type": "stream",
     "text": [
      "('1', '2')\n",
      "('1', '3')\n",
      "('2', '3')\n",
      "\n",
      "Total = 3\n"
     ]
    }
   ],
   "source": [
    "i = 0\n",
    "v = itertools.combinations('123', 2)\n",
    "for x in v:\n",
    "    print(x)\n",
    "    i += 1\n",
    "print('\\nTotal = ' + str(i))"
   ]
  },
  {
   "cell_type": "markdown",
   "id": "82263c61-51f8-4ed7-b319-28aaccdd7feb",
   "metadata": {},
   "source": [
    "- 組合せの総数  "
   ]
  },
  {
   "cell_type": "code",
   "execution_count": 10,
   "id": "8bf42d60-f820-41ff-b0ee-5e4f67a32c32",
   "metadata": {},
   "outputs": [
    {
     "data": {
      "text/plain": [
       "(1, 3)"
      ]
     },
     "execution_count": 10,
     "metadata": {},
     "output_type": "execute_result"
    }
   ],
   "source": [
    "a = math.comb(3,3)\n",
    "b = math.comb(3,2)\n",
    "a,b"
   ]
  },
  {
   "cell_type": "markdown",
   "id": "ebc273d7-f82f-4304-a3b7-f811d276f87a",
   "metadata": {
    "tags": []
   },
   "source": [
    "\n",
    "---\n",
    "\n",
    "## 重複組合せ  \n",
    "\n",
    "重複ありで取り出す → 同じものを繰り返し取り出して良い  \n",
    "\n",
    "- 「1」「2」「3」から3個を取り出す  \n"
   ]
  },
  {
   "cell_type": "code",
   "execution_count": 11,
   "id": "fe5bab8d-48d5-4bf0-b530-7565d40eb7a4",
   "metadata": {},
   "outputs": [
    {
     "name": "stdout",
     "output_type": "stream",
     "text": [
      "('1', '1', '1')\n",
      "('1', '1', '2')\n",
      "('1', '1', '3')\n",
      "('1', '2', '2')\n",
      "('1', '2', '3')\n",
      "('1', '3', '3')\n",
      "('2', '2', '2')\n",
      "('2', '2', '3')\n",
      "('2', '3', '3')\n",
      "('3', '3', '3')\n",
      "\n",
      "Total = 10\n"
     ]
    }
   ],
   "source": [
    "i = 0\n",
    "v = itertools.combinations_with_replacement('123', 3)\n",
    "for x in v:\n",
    "    print(x)\n",
    "    i += 1\n",
    "print('\\nTotal = ' + str(i))"
   ]
  },
  {
   "cell_type": "markdown",
   "id": "527e3f6e-5418-4f7d-9c63-2cdba718d077",
   "metadata": {},
   "source": [
    "- 「1」「2」「3」から2個を取り出す  "
   ]
  },
  {
   "cell_type": "code",
   "execution_count": 12,
   "id": "8e751da7-a8df-46ca-b577-b0b9eab5643b",
   "metadata": {},
   "outputs": [
    {
     "name": "stdout",
     "output_type": "stream",
     "text": [
      "('1', '1')\n",
      "('1', '2')\n",
      "('1', '3')\n",
      "('2', '2')\n",
      "('2', '3')\n",
      "('3', '3')\n",
      "\n",
      "Total = 6\n"
     ]
    }
   ],
   "source": [
    "i = 0\n",
    "v = itertools.combinations_with_replacement('123', 2)\n",
    "for x in v:\n",
    "    print(x)\n",
    "    i += 1\n",
    "print('\\nTotal = ' + str(i))"
   ]
  },
  {
   "cell_type": "markdown",
   "id": "7eafd1f4-2439-4529-911a-4c60335961f7",
   "metadata": {},
   "source": [
    "- 重複組合せの総数  \n",
    "  n 個の中から、r 個を取り出す  "
   ]
  },
  {
   "cell_type": "code",
   "execution_count": 13,
   "id": "903bdb9b-db8b-444c-bc34-37ffc88ec5ec",
   "metadata": {},
   "outputs": [
    {
     "data": {
      "text/plain": [
       "(10, 6)"
      ]
     },
     "execution_count": 13,
     "metadata": {},
     "output_type": "execute_result"
    }
   ],
   "source": [
    "n = 3\n",
    "r = 3\n",
    "a = math.comb(n + r - 1, r)\n",
    "\n",
    "n = 3\n",
    "r = 2\n",
    "b = math.comb(n + r - 1, r)\n",
    "\n",
    "a,b"
   ]
  },
  {
   "cell_type": "markdown",
   "id": "7b2e27c4-b9cb-449c-851b-b44301bdf622",
   "metadata": {},
   "source": [
    "\n",
    "---\n",
    "\n",
    "## デカルト積  \n",
    "\n",
    "複数の集合から1つずつ要素を取り出し、組合せを作成  \n",
    "\n",
    "- [1,2,3] と [1,2,3] のデカルト積  "
   ]
  },
  {
   "cell_type": "code",
   "execution_count": 14,
   "id": "9eda9c77-511c-47d8-998c-3a4f54ee7c68",
   "metadata": {},
   "outputs": [
    {
     "name": "stdout",
     "output_type": "stream",
     "text": [
      "(1, 1)\n",
      "(1, 2)\n",
      "(1, 3)\n",
      "(2, 1)\n",
      "(2, 2)\n",
      "(2, 3)\n",
      "(3, 1)\n",
      "(3, 2)\n",
      "(3, 3)\n",
      "\n",
      "Total = 9\n"
     ]
    }
   ],
   "source": [
    "i = 0\n",
    "a = [1, 2, 3]\n",
    "b = [1, 2, 3]\n",
    "\n",
    "v = itertools.product(a, b)\n",
    "for x in v:\n",
    "    print(x)\n",
    "    i += 1\n",
    "print('\\nTotal = ' + str(i))"
   ]
  },
  {
   "cell_type": "markdown",
   "id": "84b9e718-201d-4c24-905a-810e4d49946e",
   "metadata": {},
   "source": [
    "\n",
    "- [1,2,3] と [1,2,3] と [1,2,3] のデカルト積  \n",
    "  →「1」「2」「3」から3個を取り出す 重複順列 と同じ  "
   ]
  },
  {
   "cell_type": "code",
   "execution_count": 15,
   "id": "687171bb-0bf8-4c0c-8dfd-fd215456991b",
   "metadata": {},
   "outputs": [
    {
     "name": "stdout",
     "output_type": "stream",
     "text": [
      "(1, 1, 1)\n",
      "(1, 1, 2)\n",
      "(1, 1, 3)\n",
      "(1, 2, 1)\n",
      "(1, 2, 2)\n",
      "(1, 2, 3)\n",
      "(1, 3, 1)\n",
      "(1, 3, 2)\n",
      "(1, 3, 3)\n",
      "(2, 1, 1)\n",
      "(2, 1, 2)\n",
      "(2, 1, 3)\n",
      "(2, 2, 1)\n",
      "(2, 2, 2)\n",
      "(2, 2, 3)\n",
      "(2, 3, 1)\n",
      "(2, 3, 2)\n",
      "(2, 3, 3)\n",
      "(3, 1, 1)\n",
      "(3, 1, 2)\n",
      "(3, 1, 3)\n",
      "(3, 2, 1)\n",
      "(3, 2, 2)\n",
      "(3, 2, 3)\n",
      "(3, 3, 1)\n",
      "(3, 3, 2)\n",
      "(3, 3, 3)\n",
      "\n",
      "Total = 27\n"
     ]
    }
   ],
   "source": [
    "i = 0\n",
    "a = [1, 2, 3]\n",
    "b = [1, 2, 3]\n",
    "c = [1, 2, 3]\n",
    "\n",
    "v = itertools.product(a, b, c)\n",
    "for x in v:\n",
    "    print(x)\n",
    "    i += 1\n",
    "print('\\nTotal = ' + str(i))"
   ]
  },
  {
   "cell_type": "markdown",
   "id": "75a7bee8-30e1-4829-b305-ddd059b23212",
   "metadata": {},
   "source": [
    "- デカルト積の総数  \n",
    "  `math.prod()`：リストの各要素で掛け算  "
   ]
  },
  {
   "cell_type": "code",
   "execution_count": 16,
   "id": "41fc39b9-a150-4a2f-8eef-fbcd5c50617b",
   "metadata": {},
   "outputs": [
    {
     "data": {
      "text/plain": [
       "([3, 3, 3], 27)"
      ]
     },
     "execution_count": 16,
     "metadata": {},
     "output_type": "execute_result"
    }
   ],
   "source": [
    "a = [1, 2, 3]\n",
    "b = [1, 2, 3]\n",
    "c = [1, 2, 3]\n",
    "\n",
    "l = [len(a), len(b), len(c)]\n",
    "a = math.prod(l)\n",
    "l,a"
   ]
  },
  {
   "cell_type": "markdown",
   "id": "5f811901-c6a5-4614-bcb5-70c3293a354e",
   "metadata": {},
   "source": [
    "\n",
    "---\n"
   ]
  }
 ],
 "metadata": {
  "kernelspec": {
   "display_name": "mlnote:Python",
   "language": "python",
   "name": "conda-env-mlnote-py"
  },
  "language_info": {
   "codemirror_mode": {
    "name": "ipython",
    "version": 3
   },
   "file_extension": ".py",
   "mimetype": "text/x-python",
   "name": "python",
   "nbconvert_exporter": "python",
   "pygments_lexer": "ipython3",
   "version": "3.10.6"
  }
 },
 "nbformat": 4,
 "nbformat_minor": 5
}
