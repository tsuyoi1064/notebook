{
 "cells": [
  {
   "cell_type": "markdown",
   "id": "8d36a72a-62d6-4e9e-bad9-469a86522e7d",
   "metadata": {
    "tags": []
   },
   "source": [
    "# 【補足】最急降下法  "
   ]
  },
  {
   "cell_type": "markdown",
   "id": "3261c527-faac-4cf2-809d-58fd7071b8dc",
   "metadata": {},
   "source": [
    "`y = ax + b` フィッティング：a, b の値を算出  "
   ]
  },
  {
   "cell_type": "code",
   "execution_count": 1,
   "id": "4d25a1ff-3432-4e70-b51f-6d80fe26177b",
   "metadata": {
    "tags": []
   },
   "outputs": [],
   "source": [
    "import numpy as np\n",
    "import matplotlib.pyplot as plt\n",
    "import matplotlib.patches\n",
    "import matplotlib.colors\n",
    "import matplotlib.animation\n",
    "from IPython.display import HTML\n",
    "import japanize_matplotlib"
   ]
  },
  {
   "cell_type": "code",
   "execution_count": 2,
   "id": "06a4ab20-35ff-45c6-98b0-1560f8245f42",
   "metadata": {},
   "outputs": [],
   "source": [
    "max_epochs = 10000\n",
    "#eta = 0.001\n",
    "eta = 0.005\n",
    "eps = 1e-4"
   ]
  },
  {
   "cell_type": "markdown",
   "id": "6497e162-5a5c-4e53-99b1-ac28d4dbb37b",
   "metadata": {},
   "source": [
    "\n",
    "---\n",
    "\n",
    "$\\hat{y}$ = ax + b をベクトルで表す  \n",
    "\n",
    "$$\n",
    "\\begin{align}\n",
    "\\pmb{x} = \\begin{pmatrix}\n",
    "1 \\\\ x\n",
    "\\end{pmatrix},\n",
    "\\pmb{w} = \\begin{pmatrix}\n",
    "b \\\\ a\n",
    "\\end{pmatrix}\n",
    "\\end{align}\n",
    "$$\n",
    "\n",
    "\n",
    "\\begin{align}\n",
    "\\hat{y} = \\pmb{x}^\\top\\pmb{w}\n",
    "\\end{align}\n",
    "\n",
    "\n",
    "\n",
    "\\begin{align}\n",
    "\\hat{y} = b + xa = ax + b\n",
    "\\end{align}\n",
    "\n",
    "\n",
    "xを転置(T)する理由  \n",
    "- ベクトル「x」の列数とベクトル「w」の行数とが等しくないと、積の計算ができないルールがあるため  \n"
   ]
  },
  {
   "cell_type": "code",
   "execution_count": 3,
   "id": "9ac36fc1-ae28-4697-800a-1e2689e79d62",
   "metadata": {
    "tags": []
   },
   "outputs": [],
   "source": [
    "D = np.array([[1, 3], [3, 6], [6, 5], [8, 7]])"
   ]
  },
  {
   "cell_type": "markdown",
   "id": "82aac947-4309-4e0f-b15a-a13158cedc20",
   "metadata": {},
   "source": [
    "上記の学習データは、以下のように表現できる  \n",
    "\n",
    "\\begin{align*}\n",
    "\\mathcal{D}_s = \\left\\{(\\pmb{x}_i, y_i)\\right\\}_{i=1}^{4} = \\left\\{\\left(\\begin{pmatrix}1 & 1\\end{pmatrix}^\\top, 3\\right), \\left(\\begin{pmatrix}1 & 3\\end{pmatrix}^\\top, 6\\right), \\left(\\begin{pmatrix}1 & 6\\end{pmatrix}^\\top, 5\\right), \\left(\\begin{pmatrix}1 & 8\\end{pmatrix}^\\top, 7\\right)\\right\\}\n",
    "\\end{align*}\n",
    "\n",
    "\n",
    "計画行列$\\pmb{X} \\in \\mathbb{R}^{4 \\times 2}$, 目的変数ベクトル$\\pmb{y} \\in \\mathbb{R}^4$  \n",
    "- 行列は「英大文字」で表す  \n",
    "\n",
    "\n",
    "\\begin{align}\n",
    "\\pmb{X} = \\begin{pmatrix}\n",
    "1 & 1 \\\\\n",
    "1 & 3 \\\\\n",
    "1 & 6 \\\\\n",
    "1 & 8\n",
    "\\end{pmatrix},\n",
    "\\pmb{y} = \\begin{pmatrix}\n",
    "3 \\\\ 6 \\\\ 5 \\\\ 7\n",
    "\\end{pmatrix}\n",
    "\\end{align}\n",
    "\n",
    "\n",
    "目的変数の予測ベクトル$\\hat{\\pmb{y}}$は行列$W$とベクトル$\\pmb{w}$の積で求めることができる。\n",
    "\n",
    "\\begin{align}\n",
    "\\hat{\\pmb{y}}\n",
    "= \\pmb{X} \\pmb{w}\n",
    "= \\begin{pmatrix}\n",
    "1 & 1 \\\\\n",
    "1 & 3 \\\\\n",
    "1 & 6 \\\\\n",
    "1 & 8\n",
    "\\end{pmatrix}\n",
    "\\begin{pmatrix}\n",
    "b \\\\ a\n",
    "\\end{pmatrix}\n",
    "= \\begin{pmatrix}\n",
    "a + b \\\\\n",
    "3a + b \\\\\n",
    "6a + b \\\\\n",
    "8a + b \n",
    "\\end{pmatrix}\n",
    "\\end{align}\n"
   ]
  },
  {
   "cell_type": "markdown",
   "id": "803ed768-ac95-42d1-ac20-b1c18686db9c",
   "metadata": {},
   "source": [
    "\n",
    "---\n",
    "\n",
    "- $\\pmb{X}$ を定義  \n"
   ]
  },
  {
   "cell_type": "code",
   "execution_count": 4,
   "id": "0cd1e64f-f6d4-42c4-91eb-4126c6193ab2",
   "metadata": {},
   "outputs": [
    {
     "data": {
      "text/plain": [
       "array([[1, 1],\n",
       "       [1, 3],\n",
       "       [1, 6],\n",
       "       [1, 8]])"
      ]
     },
     "execution_count": 4,
     "metadata": {},
     "output_type": "execute_result"
    }
   ],
   "source": [
    "X = np.vstack([ np.ones_like(D[:,0]), D[:,0] ]).T\n",
    "X"
   ]
  },
  {
   "cell_type": "markdown",
   "id": "d0f1f81d-9da0-4861-b187-0a2f13bbd761",
   "metadata": {},
   "source": [
    "- yを定義  "
   ]
  },
  {
   "cell_type": "code",
   "execution_count": 5,
   "id": "9e0ab6b4-63bf-4124-9fe6-6470a003b1d2",
   "metadata": {},
   "outputs": [
    {
     "data": {
      "text/plain": [
       "array([3, 6, 5, 7])"
      ]
     },
     "execution_count": 5,
     "metadata": {},
     "output_type": "execute_result"
    }
   ],
   "source": [
    "Y = D[:,1]\n",
    "Y"
   ]
  },
  {
   "cell_type": "markdown",
   "id": "3859fb30-3077-4750-b729-e82fb6a47eed",
   "metadata": {},
   "source": [
    "- w (b, a) の初期値：(0, 0)  \n",
    "\n",
    "$$\n",
    "\\pmb{w} = \\begin{pmatrix}\n",
    "b \\\\ a\n",
    "\\end{pmatrix}\n",
    "$$"
   ]
  },
  {
   "cell_type": "code",
   "execution_count": 6,
   "id": "195fc72c-2554-478a-a262-d6a5cdcb1cae",
   "metadata": {},
   "outputs": [
    {
     "data": {
      "text/plain": [
       "array([0., 0.])"
      ]
     },
     "execution_count": 6,
     "metadata": {},
     "output_type": "execute_result"
    }
   ],
   "source": [
    "W = np.zeros(X.shape[1])\n",
    "W"
   ]
  },
  {
   "cell_type": "markdown",
   "id": "76b38b73-1da1-41b7-ad8d-5582001f2394",
   "metadata": {},
   "source": [
    "\n",
    "---\n",
    "\n",
    "## 繰り返し(1回目)  \n",
    "\n",
    "- $\\hat{y}$ を定義  \n",
    "\n",
    "\\begin{align}\n",
    "\\hat{\\pmb{y}}\n",
    "= \\pmb{X} \\pmb{w}\n",
    "\\end{align}\n"
   ]
  },
  {
   "cell_type": "code",
   "execution_count": 7,
   "id": "06873c09-61e1-420d-bb6f-5c880052f688",
   "metadata": {
    "tags": []
   },
   "outputs": [
    {
     "data": {
      "text/plain": [
       "array([0., 0., 0., 0.])"
      ]
     },
     "execution_count": 7,
     "metadata": {},
     "output_type": "execute_result"
    }
   ],
   "source": [
    "Y_hat = X @ W\n",
    "Y_hat"
   ]
  },
  {
   "cell_type": "code",
   "execution_count": 8,
   "id": "36dcbe26-4b91-42bf-b662-22d6d7959e1a",
   "metadata": {
    "tags": []
   },
   "outputs": [
    {
     "data": {
      "image/png": "[encoded data removed]",
      "text/plain": [
       "<Figure size 640x480 with 1 Axes>"
      ]
     },
     "metadata": {},
     "output_type": "display_data"
    }
   ],
   "source": [
    "plt.scatter(X[:,1], Y)\n",
    "plt.plot(X[:,1], Y_hat, 'r')\n",
    "plt.plot(X[:,1], Y_hat, 'ro')\n",
    "plt.grid()"
   ]
  },
  {
   "cell_type": "markdown",
   "id": "775518fb-b2c6-4771-b1c0-85fcc5d53722",
   "metadata": {},
   "source": [
    "- 目的関数：計算結果が最小値となる$\\pmb{w}$を求める  \n",
    "  → 最終的に0へ近づける  \n",
    "\n",
    "\\begin{align}\n",
    "\\hat{L}_{\\mathcal{D}}(\\pmb{w}) = \\|\\pmb{y} - \\pmb{\\hat{y}}\\|^2 = \\|\\pmb{y} - \\pmb{X} \\pmb{w}\\|^2\n",
    "\\end{align}\n"
   ]
  },
  {
   "cell_type": "code",
   "execution_count": 9,
   "id": "a185d499-a27d-4456-b663-af8caabfeb7a",
   "metadata": {},
   "outputs": [
    {
     "data": {
      "text/plain": [
       "array([29.75])"
      ]
     },
     "execution_count": 9,
     "metadata": {},
     "output_type": "execute_result"
    }
   ],
   "source": [
    "E = np.abs(Y - Y_hat)\n",
    "np.sum(E**2) /  E.shape"
   ]
  },
  {
   "cell_type": "markdown",
   "id": "38ba980f-54e8-411c-90ab-8bb87b6c567f",
   "metadata": {},
   "source": [
    "- 目的関数を$\\pmb{w}$で偏微分  \n",
    "  現在接している目的関数の傾きを算出  \n",
    "  → 公式として覚えた方が良さそう  \n",
    "\n",
    "\\begin{align}\n",
    "\\nabla \\hat{L}_{\\mathcal{D}}(\\pmb{w}) = \\frac{\\partial \\hat{L}_{\\mathcal{D}}(\\pmb{w})}{\\partial \\pmb{w}} &= 2\\pmb{X}^\\top (\\pmb{\\hat{y}} - \\pmb{y}) = 2\\pmb{X}^\\top (\\pmb{X}\\pmb{w} - \\pmb{y})\n",
    "\\end{align}\n"
   ]
  },
  {
   "cell_type": "code",
   "execution_count": 10,
   "id": "6a7d04c2-fc3e-4263-a920-1240e86b98b2",
   "metadata": {},
   "outputs": [
    {
     "data": {
      "text/plain": [
       "array([ -42., -214.])"
      ]
     },
     "execution_count": 10,
     "metadata": {},
     "output_type": "execute_result"
    }
   ],
   "source": [
    "grad = 2 * X.T @ (Y_hat - Y)\n",
    "grad"
   ]
  },
  {
   "cell_type": "markdown",
   "id": "24cb759d-85c6-4d92-954d-48a3856b5f01",
   "metadata": {},
   "source": [
    "- $\\pmb{w}$を最新化： `w1 = w0 - α∇f(w0)`  \n",
    "  α = eta：進む距離(学習率)は固定値  \n",
    "  距離 × 算出した傾き(∇f(w0) = grad) の逆方向へ進むのが効率的  \n",
    "  - 谷底(=残差が0に近い最小値)への最短ルート → 現在位置から、最も下っている方向へ進む    \n",
    "  - 距離が大きすぎると、最適値を飛び越えてしまう  \n",
    "  - 距離が短いと、算出結果が出るまでの実行回数が増える  \n"
   ]
  },
  {
   "cell_type": "code",
   "execution_count": 11,
   "id": "309908bf-8afa-474b-b5fb-d91fd1ebfbce",
   "metadata": {
    "tags": []
   },
   "outputs": [
    {
     "data": {
      "text/plain": [
       "array([0.21, 1.07])"
      ]
     },
     "execution_count": 11,
     "metadata": {},
     "output_type": "execute_result"
    }
   ],
   "source": [
    "W -= eta * grad\n",
    "W"
   ]
  },
  {
   "cell_type": "markdown",
   "id": "263f78d2-c1fa-4fa8-873f-44488ae39e54",
   "metadata": {
    "tags": []
   },
   "source": [
    "\n",
    "---\n",
    "\n",
    "## 繰り返し(2回目)  \n"
   ]
  },
  {
   "cell_type": "code",
   "execution_count": 12,
   "id": "e110e931-b669-46e0-9c80-06d79747f758",
   "metadata": {
    "tags": []
   },
   "outputs": [
    {
     "data": {
      "text/plain": [
       "array([1.28, 3.42, 6.63, 8.77])"
      ]
     },
     "execution_count": 12,
     "metadata": {},
     "output_type": "execute_result"
    }
   ],
   "source": [
    "Y_hat = X @ W\n",
    "Y_hat"
   ]
  },
  {
   "cell_type": "code",
   "execution_count": 13,
   "id": "70c43f74-d502-4e9c-a901-93b30d429aed",
   "metadata": {
    "tags": []
   },
   "outputs": [
    {
     "data": {
      "image/png": "[encoded data removed]",
      "text/plain": [
       "<Figure size 640x480 with 1 Axes>"
      ]
     },
     "metadata": {},
     "output_type": "display_data"
    }
   ],
   "source": [
    "plt.scatter(X[:,1], Y)\n",
    "plt.plot(X[:,1], Y_hat, 'r')\n",
    "plt.plot(X[:,1], Y_hat, 'ro')\n",
    "plt.grid()"
   ]
  },
  {
   "cell_type": "markdown",
   "id": "79e49436-831c-40a4-a5a3-32ea102396f9",
   "metadata": {},
   "source": [
    "- 平均二乗残差  "
   ]
  },
  {
   "cell_type": "code",
   "execution_count": 14,
   "id": "54abd88d-2ba1-4d16-8f12-a299d00b287d",
   "metadata": {},
   "outputs": [
    {
     "data": {
      "text/plain": [
       "array([3.85115])"
      ]
     },
     "execution_count": 14,
     "metadata": {},
     "output_type": "execute_result"
    }
   ],
   "source": [
    "E = np.abs(Y - Y_hat)\n",
    "np.sum(E**2) /  E.shape"
   ]
  },
  {
   "cell_type": "markdown",
   "id": "97549546-7fc4-461f-a0f9-0f0e5cd90ee8",
   "metadata": {},
   "source": [
    "- 現在接している目的関数の傾き  "
   ]
  },
  {
   "cell_type": "code",
   "execution_count": 15,
   "id": "7460a3bd-772a-42ca-a067-2bf4b9da3a58",
   "metadata": {},
   "outputs": [
    {
     "data": {
      "text/plain": [
       "array([-1.8 , 28.96])"
      ]
     },
     "execution_count": 15,
     "metadata": {},
     "output_type": "execute_result"
    }
   ],
   "source": [
    "grad = 2 * X.T @ (Y_hat - Y)\n",
    "grad"
   ]
  },
  {
   "cell_type": "markdown",
   "id": "9f474799-2d69-4fe7-a2ab-e613d7cf7a10",
   "metadata": {},
   "source": [
    "- $\\pmb{w}$を最新化  \n"
   ]
  },
  {
   "cell_type": "code",
   "execution_count": 16,
   "id": "cdf58a20-8f8d-4051-810c-efc8cba435c8",
   "metadata": {
    "tags": []
   },
   "outputs": [
    {
     "data": {
      "text/plain": [
       "array([0.219 , 0.9252])"
      ]
     },
     "execution_count": 16,
     "metadata": {},
     "output_type": "execute_result"
    }
   ],
   "source": [
    "W -= eta * grad\n",
    "W"
   ]
  },
  {
   "cell_type": "markdown",
   "id": "357887ed-bfcf-4398-82fb-b6b0c5baeb65",
   "metadata": {},
   "source": [
    "\n",
    "---\n",
    "\n",
    "## 繰り返し(条件を満たすまで)  \n",
    "\n",
    "平均二乗残差が目標値： `eps = 1e-4` に達するまで繰り返す  "
   ]
  },
  {
   "cell_type": "code",
   "execution_count": 17,
   "id": "66f61deb-6937-4734-b8c5-64286dc00c8f",
   "metadata": {},
   "outputs": [
    {
     "data": {
      "text/plain": [
       "array([3.31030308, 0.43104138])"
      ]
     },
     "execution_count": 17,
     "metadata": {},
     "output_type": "execute_result"
    }
   ],
   "source": [
    "max_epochs = 10000\n",
    "eta = 0.001\n",
    "eps = 1e-4\n",
    "W = np.zeros(X.shape[1])\n",
    "\n",
    "for t in range(max_epochs):\n",
    "    Y_hat = X @ W\n",
    "    grad = 2 * X.T @ (Y_hat - Y)\n",
    "    if np.sum(np.abs(grad)) < eps:\n",
    "        break\n",
    "    W -= eta * grad\n",
    "\n",
    "W"
   ]
  },
  {
   "cell_type": "markdown",
   "id": "49b074e5-25f7-4aad-80d1-c847e8044ff8",
   "metadata": {
    "tags": []
   },
   "source": [
    "\n",
    "---\n",
    "\n",
    "## 行列演算で最小値を算出した場合  \n",
    "\n",
    "目的関数を最小化する、ベクトル$\\pmb{w}$の求め方  \n",
    "\n",
    "$$\n",
    "\\begin{align}\n",
    "\\pmb{w} &= (\\pmb{X}^\\top \\pmb{X})^{-1}\\pmb{X}^\\top \\pmb{y}\n",
    "\\end{align}\n",
    "$$\n",
    "\n",
    "\n",
    "- `numpy.linalg.inv()`：逆行列 (行列$^{-1}$)  "
   ]
  },
  {
   "cell_type": "code",
   "execution_count": 18,
   "id": "bc373b53-35bc-49b3-93e6-2f289b54d4ad",
   "metadata": {},
   "outputs": [
    {
     "data": {
      "text/plain": [
       "array([3.31034483, 0.43103448])"
      ]
     },
     "execution_count": 18,
     "metadata": {},
     "output_type": "execute_result"
    }
   ],
   "source": [
    "w = np.linalg.inv(X.T @ X) @ X.T @ Y\n",
    "w"
   ]
  },
  {
   "cell_type": "markdown",
   "id": "47ea012d-0ee1-4884-8dd7-0e8cf686f6bf",
   "metadata": {},
   "source": [
    "\n",
    "---\n"
   ]
  }
 ],
 "metadata": {
  "kernelspec": {
   "display_name": "mlnote:Python",
   "language": "python",
   "name": "conda-env-mlnote-py"
  },
  "language_info": {
   "codemirror_mode": {
    "name": "ipython",
    "version": 3
   },
   "file_extension": ".py",
   "mimetype": "text/x-python",
   "name": "python",
   "nbconvert_exporter": "python",
   "pygments_lexer": "ipython3",
   "version": "3.10.6"
  }
 },
 "nbformat": 4,
 "nbformat_minor": 5
}
